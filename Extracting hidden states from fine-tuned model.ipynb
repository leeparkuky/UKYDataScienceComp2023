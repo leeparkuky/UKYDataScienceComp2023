{
 "cells": [
  {
   "cell_type": "code",
   "execution_count": 1,
   "id": "d43c4e43",
   "metadata": {},
   "outputs": [
    {
     "name": "stderr",
     "output_type": "stream",
     "text": [
      "Found cached dataset online_news_popularity_data (/home/leepark/.cache/huggingface/datasets/online_news_popularity_data/online_news_popularity_data/1.0.0/f3e03630a13ebe013884d6a83c7ec52cb4eec2c0f6012f710c9dba58aa719fcd)\n"
     ]
    },
    {
     "data": {
      "application/vnd.jupyter.widget-view+json": {
       "model_id": "321cb4af35884d1da36ed54ec9afe883",
       "version_major": 2,
       "version_minor": 0
      },
      "text/plain": [
       "  0%|          | 0/2 [00:00<?, ?it/s]"
      ]
     },
     "metadata": {},
     "output_type": "display_data"
    }
   ],
   "source": [
    "from datasets import load_dataset\n",
    "from transformers import AutoTokenizer\n",
    "\n",
    "tokenizer = AutoTokenizer.from_pretrained('distilbert-base-uncased')\n",
    "articles = load_dataset('online_news_popularity_data')"
   ]
  },
  {
   "cell_type": "code",
   "execution_count": 2,
   "id": "bbd272ca",
   "metadata": {},
   "outputs": [],
   "source": [
    "def tokenize(batch):\n",
    "    # full_text_encoded = tokenizer([title + ' \\n' + content for title, content in zip(batch['title'],batch['content'])],\n",
    "    #                              return_tensors = 'pt', padding = 'max_length', max_length = 512, truncation = True)\n",
    "    title_encoded = tokenizer(batch['title'], padding = True,  truncation = True)\n",
    "    title_encoded_renamed = {f\"{k}_title\":v for k,v in title_encoded.items()}\n",
    "    content_encoded = tokenizer(batch['content'], padding = 'max_length', max_length = 512, truncation = True)\n",
    "    content_encoded_renamed = {f\"{k}_content\":v for k,v in content_encoded.items()}\n",
    "#     return {k:torch.Tensor(v) for k,v in full_text_encoded.items()}\n",
    "    title_encoded_renamed.update(content_encoded_renamed)\n",
    "    return title_encoded_renamed"
   ]
  },
  {
   "cell_type": "code",
   "execution_count": 3,
   "id": "20fb08f7",
   "metadata": {},
   "outputs": [
    {
     "name": "stderr",
     "output_type": "stream",
     "text": [
      "Loading cached processed dataset at /home/leepark/.cache/huggingface/datasets/online_news_popularity_data/online_news_popularity_data/1.0.0/f3e03630a13ebe013884d6a83c7ec52cb4eec2c0f6012f710c9dba58aa719fcd/cache-97268e3b8769f89b.arrow\n",
      "Loading cached processed dataset at /home/leepark/.cache/huggingface/datasets/online_news_popularity_data/online_news_popularity_data/1.0.0/f3e03630a13ebe013884d6a83c7ec52cb4eec2c0f6012f710c9dba58aa719fcd/cache-60f76fa598c78ae0.arrow\n"
     ]
    }
   ],
   "source": [
    "articles_encoded = articles.map(tokenize, remove_columns = ['title','content','shares'],\n",
    "            batched = True, batch_size = None)"
   ]
  },
  {
   "cell_type": "code",
   "execution_count": 4,
   "id": "18fd6dbd",
   "metadata": {},
   "outputs": [],
   "source": [
    "import torch.nn as nn\n",
    "import torch.nn.functional as F\n",
    "import numpy as np\n",
    "import torch\n",
    "import os\n",
    "from dataclasses import dataclass\n",
    "from Transformer_Models import ContextDistilBert, ContextDistilBertwithData\n",
    "\n",
    "\n",
    "@dataclass\n",
    "class SequenceClassifierOutput:\n",
    "    loss: torch.FloatTensor = None\n",
    "    logits: torch.FloatTensor = None\n",
    "    preds: np.array = None\n",
    "    labels: torch.FloatTensor = None\n",
    "    hidden_states: torch.FloatTensor = None\n",
    "\n",
    "\n",
    "class ContextDistilBertwithDataforClassification(nn.Module):\n",
    "    def __init__(self, model_dir):\n",
    "        super().__init__()\n",
    "        self.body = ContextDistilBertwithData(model_dir)\n",
    "        self.pre_classifier = nn.Linear(4398, 4398)\n",
    "        self.classifier = nn.Linear(4398, 2)\n",
    "        self.dropout = nn.Dropout(.1)\n",
    "        \n",
    "    def forward(self, **kwargs):\n",
    "        labels = kwargs['shares_class']\n",
    "        distilbert_output = self.body(**kwargs)\n",
    "        pooled_output = distilbert_output\n",
    "        pooled_output = self.pre_classifier(pooled_output)\n",
    "        pooled_output = nn.GELU()(pooled_output)\n",
    "        pooled_output = self.dropout(pooled_output)\n",
    "        logits = self.classifier(pooled_output)\n",
    "        softmax = logits.detach().cpu().numpy()\n",
    "        \n",
    "        # calculate losses\n",
    "        loss = None\n",
    "        if labels is not None:\n",
    "            loss_fct = nn.BCEWithLogitsLoss()\n",
    "            loss = loss_fct(logits.view(-1,2), labels.view(-1))\n",
    "            \n",
    "        result = SequenceClassifierOutput(\n",
    "            loss=loss,\n",
    "            logits=logits,\n",
    "            hidden_states=distilbert_output,\n",
    "            preds = softmax,\n",
    "            labels = labels\n",
    "        )\n",
    "        \n",
    "\n",
    "        # return model output object\n",
    "        return result"
   ]
  },
  {
   "cell_type": "code",
   "execution_count": 25,
   "id": "7bd79b03",
   "metadata": {},
   "outputs": [],
   "source": [
    "import smtplib\n",
    "from email.mime.text import MIMEText\n",
    "from functools import partial\n",
    "\n",
    "\n",
    "def send_email(subject, body, sender, recipients, password):\n",
    "    msg = MIMEText(body)\n",
    "    msg['Subject'] = subject\n",
    "    msg['From'] = sender\n",
    "    msg['To'] = ', '.join(recipients)\n",
    "    smtp_server = smtplib.SMTP_SSL('smtp.gmail.com', 465)\n",
    "    smtp_server.login(sender, password)\n",
    "    smtp_server.sendmail(sender, recipients, msg.as_string())\n",
    "    smtp_server.quit()\n",
    "\n",
    "subject = \"Attention: here is the progress of your run\"\n",
    "# body = \"This is the body of the text message\"\n",
    "sender = \"park.family.bucheon@gmail.com\"\n",
    "recipients = [\"8593335321@msg.fi.google.com\"]\n",
    "password = \"fizwmiuiwonvuulj\"\n",
    "\n",
    "# send_email(subject, body, sender, recipients, password)\n",
    "\n",
    "send_text = partial(send_email, subject = subject, sender = sender, recipients = recipients, password = password)\n"
   ]
  },
  {
   "cell_type": "code",
   "execution_count": null,
   "id": "26c0b644",
   "metadata": {},
   "outputs": [],
   "source": [
    "from tqdm import tqdm\n",
    "import csv\n",
    "\n",
    "\n",
    "# Texting function\n",
    "\n",
    "def send_email(subject, body, sender, recipients, password):\n",
    "    msg = MIMEText(body)\n",
    "    msg['Subject'] = subject\n",
    "    msg['From'] = sender\n",
    "    msg['To'] = ', '.join(recipients)\n",
    "    smtp_server = smtplib.SMTP_SSL('smtp.gmail.com', 465)\n",
    "    smtp_server.login(sender, password)\n",
    "    smtp_server.sendmail(sender, recipients, msg.as_string())\n",
    "    smtp_server.quit()\n",
    "\n",
    "subject = \"Attention: here is the progress of your run\"\n",
    "# body = \"This is the body of the text message\"\n",
    "sender = \"park.family.bucheon@gmail.com\"\n",
    "recipients = [\"8593335321@msg.fi.google.com\"]\n",
    "password = \"fizwmiuiwonvuulj\"\n",
    "\n",
    "send_email(subject, body, sender, recipients, password)\n",
    "\n",
    "sent_text = partial(send_email, subject = subject, sender = sender, recipients = recipient, password = password)\n",
    "\n",
    "\n",
    "def extracting_hidden_layers(h_training_dataset, model, batch_size, device, fname, verbose = False):\n",
    "    \n",
    "    h_training_dataset = h_training_dataset.shuffle()\n",
    "    total_rows = h_training_dataset.num_rows\n",
    "    steps = total_rows // batch_size\n",
    "    \n",
    "    if total_rows % batch_size:\n",
    "        steps += 1\n",
    "    \n",
    "    with open(fname, 'w') as f:\n",
    "        \n",
    "        fieldnames = [f'h_{i}' for i in range(768 *2)] + [f'xx_{i}' for x in range(2809)] + [f'x_{i}' for x in range(53)]\n",
    "        writer = csv.DictWriter(f, fieldnames=fieldnames)\n",
    "        writer.writeheader()\n",
    "        \n",
    "        for batch_idx in range(steps):\n",
    "            \n",
    "            with torch.no_grad():\n",
    "                start = batch_idx*batch_size; end = batch_idx*batch_size + batch_size\n",
    "                if end > total_rows:\n",
    "                    result = model(**{k:v.to(device) for k,v in h_training_dataset[start:].items()})\n",
    "                else:\n",
    "                    result = model(**{k:v.to(device) for k,v in h_training_dataset[start:end].items()})\n",
    "                    \n",
    "                    \n",
    "                hidden_layer = result.hidden_states.numpy()\n",
    "                for row in hidden_layer:\n",
    "                    row_dict = {fieldname: row[i] for i, fieldname in enumerate(fieldnames)}\n",
    "                    writer.writerow(row_dict)\n",
    "            \n",
    "            if batch_idx % 25 == 0:\n",
    "                message = \"PROGRESS : \" + f\"[{current:>5d}/{total_rows:>5d}]\"\n",
    "                send_text(body = message)\n",
    "            "
   ]
  },
  {
   "cell_type": "code",
   "execution_count": null,
   "id": "06c16da9",
   "metadata": {},
   "outputs": [],
   "source": [
    "device = torch.device('cuda')\n",
    "\n",
    "model = ContextDistilBertwithDataforClassification('domain_adaptation_final_body_2').to(device)\n",
    "model.load_state_dict(torch.load('finetuned_model/model.pth'))"
   ]
  },
  {
   "cell_type": "code",
   "execution_count": null,
   "id": "2a570cb7",
   "metadata": {},
   "outputs": [],
   "source": [
    "extracting_hidden_layers(articles_encoded['train'], model, 8, device, 'hidden_states_training.csv')\n",
    "extracting_hidden_layers(articles_encoded['test'], model, 8, device, 'hidden_states_training.csv')"
   ]
  }
 ],
 "metadata": {
  "kernelspec": {
   "display_name": "Python 3 (ipykernel)",
   "language": "python",
   "name": "python3"
  },
  "language_info": {
   "codemirror_mode": {
    "name": "ipython",
    "version": 3
   },
   "file_extension": ".py",
   "mimetype": "text/x-python",
   "name": "python",
   "nbconvert_exporter": "python",
   "pygments_lexer": "ipython3",
   "version": "3.10.6"
  }
 },
 "nbformat": 4,
 "nbformat_minor": 5
}
