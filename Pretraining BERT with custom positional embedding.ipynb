{
 "cells": [
  {
   "cell_type": "markdown",
   "id": "202b4b5b",
   "metadata": {},
   "source": [
    "## Data Tokenization and Preprocessing"
   ]
  },
  {
   "cell_type": "code",
   "execution_count": 1,
   "id": "e027a40d",
   "metadata": {},
   "outputs": [],
   "source": [
    "import pandas as pd\n",
    "import numpy as np\n",
    "import datasets"
   ]
  },
  {
   "cell_type": "code",
   "execution_count": 2,
   "id": "df2f8b25",
   "metadata": {},
   "outputs": [
    {
     "name": "stderr",
     "output_type": "stream",
     "text": [
      "Found cached dataset online_news_popularity_data (/home/leeparkuky/.cache/huggingface/datasets/online_news_popularity_data/online_news_popularity_data/1.0.0/63eb244b62e86df6ad3ae3034fcbddd6ed2840885e607a97d5e8f49afab926e0)\n"
     ]
    },
    {
     "data": {
      "application/vnd.jupyter.widget-view+json": {
       "model_id": "69449041f594438c8f2be13b666290ec",
       "version_major": 2,
       "version_minor": 0
      },
      "text/plain": [
       "  0%|          | 0/1 [00:00<?, ?it/s]"
      ]
     },
     "metadata": {},
     "output_type": "display_data"
    }
   ],
   "source": [
    "articles = datasets.load_dataset('online_news_popularity_data')"
   ]
  },
  {
   "cell_type": "code",
   "execution_count": 3,
   "id": "b9f96a89",
   "metadata": {},
   "outputs": [],
   "source": [
    "from transformers import AutoTokenizer\n",
    "ckpt = 'bert-base-uncased'\n",
    "tokenizer = AutoTokenizer.from_pretrained(ckpt)"
   ]
  },
  {
   "cell_type": "code",
   "execution_count": 4,
   "id": "d4a058de",
   "metadata": {},
   "outputs": [],
   "source": [
    "def concatenate_fernandes_variables(examples):\n",
    "    fernandes = [val for key, val in examples.items() if key not in ['title','content','shares','shares_class']]\n",
    "    fernandes = np.array(fernandes).T.tolist()\n",
    "    return {'fernandes': fernandes}"
   ]
  },
  {
   "cell_type": "code",
   "execution_count": 5,
   "id": "bcad2722",
   "metadata": {},
   "outputs": [
    {
     "name": "stderr",
     "output_type": "stream",
     "text": [
      "Loading cached processed dataset at /home/leeparkuky/.cache/huggingface/datasets/online_news_popularity_data/online_news_popularity_data/1.0.0/63eb244b62e86df6ad3ae3034fcbddd6ed2840885e607a97d5e8f49afab926e0/cache-d040c91994313900_*_of_00016.arrow\n"
     ]
    }
   ],
   "source": [
    "articles_concat = articles.map(concatenate_fernandes_variables, batched = True, batch_size = 64, num_proc = 16,\n",
    "                              remove_columns = [x for x in articles.column_names['train'] if x not in ['title','content','shares','shares_class']] )"
   ]
  },
  {
   "cell_type": "code",
   "execution_count": 6,
   "id": "6f187cd0",
   "metadata": {},
   "outputs": [],
   "source": [
    "def tokenize(examples):\n",
    "    text = [title + content for title, content in zip(examples['title'], examples['content'])]\n",
    "    inputs = tokenizer(text, max_length = 1500, truncation = True, padding = False)\n",
    "    N = len(inputs['input_ids'])\n",
    "    fernandes_list = []\n",
    "    for i, input_ids in enumerate(inputs['input_ids']):\n",
    "        fernandes_list.append([examples['fernandes'][i] for _ in range(len(input_ids))])\n",
    "    inputs.update({'fernandes':fernandes_list})\n",
    "    return inputs"
   ]
  },
  {
   "cell_type": "code",
   "execution_count": 7,
   "id": "8ab78c39",
   "metadata": {},
   "outputs": [
    {
     "name": "stderr",
     "output_type": "stream",
     "text": [
      "Loading cached processed dataset at /home/leeparkuky/.cache/huggingface/datasets/online_news_popularity_data/online_news_popularity_data/1.0.0/63eb244b62e86df6ad3ae3034fcbddd6ed2840885e607a97d5e8f49afab926e0/cache-fc1b51a92fbd27c3_*_of_00016.arrow\n"
     ]
    }
   ],
   "source": [
    "articles_tokenized = articles_concat.map(tokenize, batched = True, batch_size = 64, num_proc = 16,\n",
    "                   remove_columns = ['shares','shares_class','title','content'])"
   ]
  },
  {
   "cell_type": "code",
   "execution_count": 8,
   "id": "934bdcd5",
   "metadata": {},
   "outputs": [
    {
     "data": {
      "text/plain": [
       "DatasetDict({\n",
       "    train: Dataset({\n",
       "        features: ['fernandes', 'input_ids', 'token_type_ids', 'attention_mask'],\n",
       "        num_rows: 39608\n",
       "    })\n",
       "})"
      ]
     },
     "execution_count": 8,
     "metadata": {},
     "output_type": "execute_result"
    }
   ],
   "source": [
    "articles_tokenized"
   ]
  },
  {
   "cell_type": "code",
   "execution_count": 9,
   "id": "31bc29a9",
   "metadata": {},
   "outputs": [],
   "source": [
    "from collections import defaultdict\n",
    "\n",
    "def split_inputs_by_512(examples):\n",
    "    result = defaultdict(list)\n",
    "    for key, vec in examples.items():\n",
    "        vec = [np.array(v) for v in vec]\n",
    "        vec = np.concatenate(vec)\n",
    "        size = 512\n",
    "        remaining = 512\n",
    "        idx = 0\n",
    "        while remaining >= 512:\n",
    "            result[key].append(vec[idx*size:(idx+1)*size].tolist())\n",
    "            remaining = vec[(idx+1)*size:].shape[0]\n",
    "            idx += 1\n",
    "    return result"
   ]
  },
  {
   "cell_type": "code",
   "execution_count": 10,
   "id": "89c1fad2",
   "metadata": {},
   "outputs": [
    {
     "data": {
      "application/vnd.jupyter.widget-view+json": {
       "model_id": "",
       "version_major": 2,
       "version_minor": 0
      },
      "text/plain": [
       "Map (num_proc=16):   0%|          | 0/39608 [00:00<?, ? examples/s]"
      ]
     },
     "metadata": {},
     "output_type": "display_data"
    }
   ],
   "source": [
    "articles_tokenized = articles_tokenized.shuffle().map(split_inputs_by_512, batched = True, batch_size = 128, num_proc = 16)"
   ]
  },
  {
   "cell_type": "code",
   "execution_count": 11,
   "id": "0c2bdd4a",
   "metadata": {},
   "outputs": [
    {
     "data": {
      "text/plain": [
       "DatasetDict({\n",
       "    train: Dataset({\n",
       "        features: ['fernandes', 'input_ids', 'token_type_ids', 'attention_mask'],\n",
       "        num_rows: 41661\n",
       "    })\n",
       "})"
      ]
     },
     "execution_count": 11,
     "metadata": {},
     "output_type": "execute_result"
    }
   ],
   "source": [
    "articles_tokenized"
   ]
  },
  {
   "cell_type": "code",
   "execution_count": 12,
   "id": "6515f4c1",
   "metadata": {},
   "outputs": [],
   "source": [
    "articles_tokenized.set_format('pt')"
   ]
  },
  {
   "cell_type": "code",
   "execution_count": 13,
   "id": "b3035f34",
   "metadata": {},
   "outputs": [],
   "source": [
    "articles_tokenized = articles_tokenized['train'].train_test_split(.05)"
   ]
  },
  {
   "cell_type": "markdown",
   "id": "54e4c49d",
   "metadata": {},
   "source": [
    "# Tesing if \"MashableBertForMaskedLM\" works"
   ]
  },
  {
   "cell_type": "code",
   "execution_count": 14,
   "id": "e50dba25",
   "metadata": {},
   "outputs": [],
   "source": [
    "# from Transformer_Models import MashableBertForMaskedLM\n",
    "\n",
    "# model_ckpt = 'bert-base-uncased'\n",
    "# model = MashableBertForMaskedLM(model_ckpt)"
   ]
  },
  {
   "cell_type": "code",
   "execution_count": 15,
   "id": "0a756d52",
   "metadata": {},
   "outputs": [],
   "source": [
    "# model(**{k:v for k,v in articles_tokenized['train'][:3].items()})"
   ]
  },
  {
   "cell_type": "markdown",
   "id": "36ac0b5b",
   "metadata": {},
   "source": [
    "# Organizing Training Job for MaskedLM"
   ]
  },
  {
   "cell_type": "code",
   "execution_count": 16,
   "id": "de08d174",
   "metadata": {},
   "outputs": [],
   "source": [
    "from transformers import DataCollatorForLanguageModeling\n",
    "\n",
    "data_collator = DataCollatorForLanguageModeling(tokenizer=tokenizer, mlm_probability=0.15)"
   ]
  },
  {
   "cell_type": "code",
   "execution_count": 17,
   "id": "8c635f94",
   "metadata": {},
   "outputs": [
    {
     "name": "stderr",
     "output_type": "stream",
     "text": [
      "Some weights of the model checkpoint at bert-base-uncased were not used when initializing BertModel: ['cls.seq_relationship.bias', 'cls.seq_relationship.weight', 'cls.predictions.transform.dense.weight', 'cls.predictions.transform.LayerNorm.bias', 'cls.predictions.transform.dense.bias', 'cls.predictions.bias', 'cls.predictions.decoder.weight', 'cls.predictions.transform.LayerNorm.weight']\n",
      "- This IS expected if you are initializing BertModel from the checkpoint of a model trained on another task or with another architecture (e.g. initializing a BertForSequenceClassification model from a BertForPreTraining model).\n",
      "- This IS NOT expected if you are initializing BertModel from the checkpoint of a model that you expect to be exactly identical (initializing a BertForSequenceClassification model from a BertForSequenceClassification model).\n"
     ]
    }
   ],
   "source": [
    "from Transformer_Models import MashableBertForMaskedLM\n",
    "\n",
    "model_ckpt = 'bert-base-uncased'\n",
    "model = MashableBertForMaskedLM(model_ckpt)"
   ]
  },
  {
   "cell_type": "code",
   "execution_count": 18,
   "id": "be72e94f",
   "metadata": {},
   "outputs": [],
   "source": [
    "from pynvml import *\n",
    "\n",
    "\n",
    "def print_gpu_utilization():\n",
    "    nvmlInit()\n",
    "    handle = nvmlDeviceGetHandleByIndex(0)\n",
    "    info = nvmlDeviceGetMemoryInfo(handle)\n",
    "    print(f\"GPU memory occupied: {info.used//1024**2} MB.\")"
   ]
  },
  {
   "cell_type": "code",
   "execution_count": 19,
   "id": "896abdfd",
   "metadata": {},
   "outputs": [
    {
     "name": "stdout",
     "output_type": "stream",
     "text": [
      "GPU memory occupied: 659 MB.\n"
     ]
    }
   ],
   "source": [
    "print_gpu_utilization()"
   ]
  },
  {
   "cell_type": "code",
   "execution_count": 22,
   "id": "7f744a2a",
   "metadata": {},
   "outputs": [],
   "source": [
    "from transformers import TrainingArguments, Trainer\n",
    "import torch\n",
    "\n",
    "training_args = TrainingArguments(\n",
    "    output_dir=\"pretraining-mashablebert\",\n",
    "    overwrite_output_dir = True,\n",
    "    evaluation_strategy=\"epoch\",\n",
    "    per_device_train_batch_size = 8,\n",
    "    per_device_eval_batch_size = 4,\n",
    "    fp16 = True,\n",
    "    learning_rate=2e-5,\n",
    "    num_train_epochs=40,\n",
    "    weight_decay=0.01,\n",
    "    push_to_hub=False,\n",
    "    gradient_accumulation_steps=4,\n",
    "    gradient_checkpointing=True,\n",
    "    optim = 'adafactor',\n",
    "    save_total_limit = 10\n",
    ")\n",
    "\n",
    "\n",
    "trainer = Trainer(\n",
    "    model=model.to(torch.device('cuda')),\n",
    "    args=training_args,\n",
    "    train_dataset=articles_tokenized[\"train\"],\n",
    "    eval_dataset=articles_tokenized[\"test\"],\n",
    "    data_collator=data_collator,\n",
    ")\n",
    "\n"
   ]
  },
  {
   "cell_type": "code",
   "execution_count": 23,
   "id": "2676c9a7",
   "metadata": {},
   "outputs": [
    {
     "name": "stdout",
     "output_type": "stream",
     "text": [
      "GPU memory occupied: 1695 MB.\n"
     ]
    }
   ],
   "source": [
    "print_gpu_utilization()"
   ]
  },
  {
   "cell_type": "code",
   "execution_count": null,
   "id": "6f0343f7",
   "metadata": {
    "scrolled": true
   },
   "outputs": [
    {
     "name": "stderr",
     "output_type": "stream",
     "text": [
      "You're using a BertTokenizerFast tokenizer. Please note that with a fast tokenizer, using the `__call__` method is faster than using a method to encode the text followed by a call to the `pad` method to get a padded encoding.\n"
     ]
    },
    {
     "data": {
      "text/html": [
       "\n",
       "    <div>\n",
       "      \n",
       "      <progress value='31416' max='49480' style='width:300px; height:20px; vertical-align: middle;'></progress>\n",
       "      [31416/49480 15:11:45 < 8:44:17, 0.57 it/s, Epoch 25.40/40]\n",
       "    </div>\n",
       "    <table border=\"1\" class=\"dataframe\">\n",
       "  <thead>\n",
       " <tr style=\"text-align: left;\">\n",
       "      <th>Epoch</th>\n",
       "      <th>Training Loss</th>\n",
       "      <th>Validation Loss</th>\n",
       "    </tr>\n",
       "  </thead>\n",
       "  <tbody>\n",
       "    <tr>\n",
       "      <td>1</td>\n",
       "      <td>4.518000</td>\n",
       "      <td>3.946904</td>\n",
       "    </tr>\n",
       "    <tr>\n",
       "      <td>2</td>\n",
       "      <td>3.713900</td>\n",
       "      <td>3.284673</td>\n",
       "    </tr>\n",
       "    <tr>\n",
       "      <td>3</td>\n",
       "      <td>3.155800</td>\n",
       "      <td>2.928413</td>\n",
       "    </tr>\n",
       "    <tr>\n",
       "      <td>4</td>\n",
       "      <td>2.919900</td>\n",
       "      <td>2.678311</td>\n",
       "    </tr>\n",
       "    <tr>\n",
       "      <td>5</td>\n",
       "      <td>2.690000</td>\n",
       "      <td>2.522423</td>\n",
       "    </tr>\n",
       "    <tr>\n",
       "      <td>6</td>\n",
       "      <td>2.566700</td>\n",
       "      <td>2.398677</td>\n",
       "    </tr>\n",
       "    <tr>\n",
       "      <td>7</td>\n",
       "      <td>2.427900</td>\n",
       "      <td>2.300735</td>\n",
       "    </tr>\n",
       "    <tr>\n",
       "      <td>8</td>\n",
       "      <td>2.355600</td>\n",
       "      <td>2.203932</td>\n",
       "    </tr>\n",
       "    <tr>\n",
       "      <td>9</td>\n",
       "      <td>2.260200</td>\n",
       "      <td>2.148008</td>\n",
       "    </tr>\n",
       "    <tr>\n",
       "      <td>10</td>\n",
       "      <td>2.214200</td>\n",
       "      <td>2.103539</td>\n",
       "    </tr>\n",
       "    <tr>\n",
       "      <td>11</td>\n",
       "      <td>2.146000</td>\n",
       "      <td>2.062967</td>\n",
       "    </tr>\n",
       "    <tr>\n",
       "      <td>12</td>\n",
       "      <td>2.105800</td>\n",
       "      <td>2.021146</td>\n",
       "    </tr>\n",
       "    <tr>\n",
       "      <td>13</td>\n",
       "      <td>2.053900</td>\n",
       "      <td>1.987340</td>\n",
       "    </tr>\n",
       "    <tr>\n",
       "      <td>14</td>\n",
       "      <td>2.024300</td>\n",
       "      <td>1.945703</td>\n",
       "    </tr>\n",
       "    <tr>\n",
       "      <td>15</td>\n",
       "      <td>1.998000</td>\n",
       "      <td>1.928091</td>\n",
       "    </tr>\n",
       "    <tr>\n",
       "      <td>16</td>\n",
       "      <td>1.966000</td>\n",
       "      <td>1.899107</td>\n",
       "    </tr>\n",
       "    <tr>\n",
       "      <td>17</td>\n",
       "      <td>1.935000</td>\n",
       "      <td>1.868717</td>\n",
       "    </tr>\n",
       "    <tr>\n",
       "      <td>18</td>\n",
       "      <td>1.924800</td>\n",
       "      <td>1.856306</td>\n",
       "    </tr>\n",
       "    <tr>\n",
       "      <td>19</td>\n",
       "      <td>1.903900</td>\n",
       "      <td>1.845606</td>\n",
       "    </tr>\n",
       "    <tr>\n",
       "      <td>20</td>\n",
       "      <td>1.884100</td>\n",
       "      <td>1.826458</td>\n",
       "    </tr>\n",
       "    <tr>\n",
       "      <td>21</td>\n",
       "      <td>1.873500</td>\n",
       "      <td>1.813395</td>\n",
       "    </tr>\n",
       "    <tr>\n",
       "      <td>22</td>\n",
       "      <td>1.850900</td>\n",
       "      <td>1.796079</td>\n",
       "    </tr>\n",
       "    <tr>\n",
       "      <td>23</td>\n",
       "      <td>1.838800</td>\n",
       "      <td>1.781965</td>\n",
       "    </tr>\n",
       "    <tr>\n",
       "      <td>24</td>\n",
       "      <td>1.823400</td>\n",
       "      <td>1.787771</td>\n",
       "    </tr>\n",
       "    <tr>\n",
       "      <td>25</td>\n",
       "      <td>1.812300</td>\n",
       "      <td>1.774490</td>\n",
       "    </tr>\n",
       "  </tbody>\n",
       "</table><p>"
      ],
      "text/plain": [
       "<IPython.core.display.HTML object>"
      ]
     },
     "metadata": {},
     "output_type": "display_data"
    }
   ],
   "source": [
    "trainer.train()"
   ]
  },
  {
   "cell_type": "code",
   "execution_count": null,
   "id": "c6d7766d",
   "metadata": {},
   "outputs": [],
   "source": []
  },
  {
   "cell_type": "code",
   "execution_count": null,
   "id": "86abfc37",
   "metadata": {},
   "outputs": [],
   "source": []
  },
  {
   "cell_type": "code",
   "execution_count": 32,
   "id": "223d20a1",
   "metadata": {},
   "outputs": [],
   "source": [
    "trainer.save_model('MashableBertForMaskedLM_Pretrained')"
   ]
  },
  {
   "cell_type": "code",
   "execution_count": 44,
   "id": "796885c6",
   "metadata": {},
   "outputs": [],
   "source": [
    "from Transformer_Models import MashableBertModel\n",
    "\n",
    "bertmodel = MashableBertModel('MashableBertForMaskedLM_Pretrained')\n",
    "# bertmodel.load_state_dict(torch.load('sample_weight.pth'))"
   ]
  },
  {
   "cell_type": "code",
   "execution_count": 61,
   "id": "7720c94f",
   "metadata": {},
   "outputs": [],
   "source": [
    "weights = torch.load('MashableBertForMaskedLM_Pretrained/pytorch_model.bin')"
   ]
  },
  {
   "cell_type": "code",
   "execution_count": 62,
   "id": "6c66e8ca",
   "metadata": {},
   "outputs": [],
   "source": [
    "# rename keys, drop unused keys for basemodel, then save the weights\n",
    "for key in [key for key in weights.keys() if key[5:] not in bertmodel.state_dict().keys()]:\n",
    "    del weights[key]\n",
    "for key in [key for key in weights.keys() if key[5:] in bertmodel.state_dict().keys()]:\n",
    "    weights[key[5:]] = weights[key]\n",
    "    del weights[key]\n"
   ]
  },
  {
   "cell_type": "code",
   "execution_count": 63,
   "id": "4923a301",
   "metadata": {
    "scrolled": true
   },
   "outputs": [
    {
     "data": {
      "text/plain": [
       "<All keys matched successfully>"
      ]
     },
     "execution_count": 63,
     "metadata": {},
     "output_type": "execute_result"
    }
   ],
   "source": [
    "bertmodel.load_state_dict(weights)"
   ]
  },
  {
   "cell_type": "code",
   "execution_count": 57,
   "id": "4c42bd29",
   "metadata": {},
   "outputs": [],
   "source": [
    "#Finally save the basemodel weight in Model Weights folder\n",
    "torch.save(bertmodel.state_dict(), 'Model Weights/MashableBertModel_Pretrained.pth')"
   ]
  },
  {
   "cell_type": "markdown",
   "id": "b130195d",
   "metadata": {},
   "source": [
    "### Apendix: Training and Validation Loss Per Epoch Table"
   ]
  },
  {
   "attachments": {
    "image-2.png": {
     "image/png": "[encoded data removed]"
    }
   },
   "cell_type": "markdown",
   "id": "a23a6b63",
   "metadata": {},
   "source": [
    "![image-2.png](attachment:image-2.png)"
   ]
  },
  {
   "cell_type": "code",
   "execution_count": null,
   "id": "4defe006",
   "metadata": {},
   "outputs": [],
   "source": []
  }
 ],
 "metadata": {
  "kernelspec": {
   "display_name": "Python 3 (ipykernel)",
   "language": "python",
   "name": "python3"
  },
  "language_info": {
   "codemirror_mode": {
    "name": "ipython",
    "version": 3
   },
   "file_extension": ".py",
   "mimetype": "text/x-python",
   "name": "python",
   "nbconvert_exporter": "python",
   "pygments_lexer": "ipython3",
   "version": "3.10.6"
  }
 },
 "nbformat": 4,
 "nbformat_minor": 5
}
