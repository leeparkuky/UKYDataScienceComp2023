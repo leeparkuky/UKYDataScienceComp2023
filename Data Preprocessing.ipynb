{
 "cells": [
  {
   "cell_type": "code",
   "execution_count": 1,
   "id": "330e8cc7",
   "metadata": {},
   "outputs": [],
   "source": [
    "import datasets\n",
    "import numpy as np\n",
    "import pandas as pd\n",
    "dl_manager = datasets.DownloadManager()\n",
    "_DOWNLOAD_URL = 'https://archive.ics.uci.edu/ml/machine-learning-databases/00332/OnlineNewsPopularity.zip'\n",
    "archive = dl_manager.download(_DOWNLOAD_URL)"
   ]
  },
  {
   "cell_type": "code",
   "execution_count": 2,
   "id": "7121cb17",
   "metadata": {},
   "outputs": [],
   "source": [
    "for path, f in dl_manager.iter_archive(archive):\n",
    "    if path[-3:] == 'csv':\n",
    "        df = pd.read_csv(f)"
   ]
  },
  {
   "cell_type": "code",
   "execution_count": 6,
   "id": "140c4643",
   "metadata": {},
   "outputs": [
    {
     "data": {
      "text/plain": [
       "36"
      ]
     },
     "execution_count": 6,
     "metadata": {},
     "output_type": "execute_result"
    }
   ],
   "source": [
    "df.shape[0] - 31686 - 7922"
   ]
  },
  {
   "cell_type": "code",
   "execution_count": 5,
   "id": "d706b6aa",
   "metadata": {},
   "outputs": [
    {
     "data": {
      "text/plain": [
       "39608"
      ]
     },
     "execution_count": 5,
     "metadata": {},
     "output_type": "execute_result"
    }
   ],
   "source": [
    "31686 + 7922"
   ]
  },
  {
   "cell_type": "code",
   "execution_count": 3,
   "id": "15481725",
   "metadata": {},
   "outputs": [],
   "source": [
    "df.columns = df.columns.str.strip()"
   ]
  },
  {
   "cell_type": "code",
   "execution_count": 4,
   "id": "99fbe343",
   "metadata": {},
   "outputs": [
    {
     "data": {
      "text/plain": [
       "<AxesSubplot:>"
      ]
     },
     "execution_count": 4,
     "metadata": {},
     "output_type": "execute_result"
    },
    {
     "data": {
      "image/png": "[encoded data removed]",
      "text/plain": [
       "<Figure size 640x480 with 1 Axes>"
      ]
     },
     "metadata": {},
     "output_type": "display_data"
    }
   ],
   "source": [
    "df.shares.plot.box()"
   ]
  },
  {
   "cell_type": "code",
   "execution_count": 5,
   "id": "581be2a4",
   "metadata": {},
   "outputs": [],
   "source": [
    "# from pandas_profiling import ProfileReport\n",
    "\n",
    "# profile = ProfileReport(df.iloc[:, 1:], minimal = True)\n",
    "# profile"
   ]
  },
  {
   "cell_type": "markdown",
   "id": "b8d38ab6",
   "metadata": {},
   "source": [
    "# Findings\n",
    "\n",
    "* n_unique_tokens, n_non_stop_words, n_non_stop_unique_tokens should be between 0 and 1, because they are proportions +\n",
    "\n",
    "* Check if data_channel_is_* are non-overlaping variables +\n",
    "    - convert them to a categorical variable\n",
    "\n",
    "* \"num_keywords\" indicates how many key words in the article; related variables are kw\\_\\*\\_\\* where * $\\in$ {min,avg,max} +\n",
    "    - When they are -1, it needs to be converted to 0\n",
    "    \n",
    "* \"num_self_hrefs\" indicates how many Marshable's own articles are linked in the article; related variables are self_reference_\\*\\_shares\n",
    "    \n",
    "* weekday_is_\\* and is_weekend can be treated as a single categorical variable\n",
    "\n",
    "* By its proximity to LDA_00, ..., LDA_04, it can be treated as a categotical variable\n",
    "\n",
    "* polarity is between -1 and 1 (negative is between -1 and 0; positive is between 0 and 1)\n",
    "\n",
    "* subjectivity is between 0 and 1"
   ]
  },
  {
   "cell_type": "code",
   "execution_count": 6,
   "id": "e5aa35c5",
   "metadata": {},
   "outputs": [
    {
     "data": {
      "text/plain": [
       "(0, 1)"
      ]
     },
     "execution_count": 6,
     "metadata": {},
     "output_type": "execute_result"
    }
   ],
   "source": [
    "# n_unique_tokens\n",
    "df.n_unique_tokens.lt(0).sum(), df.n_unique_tokens.gt(1).sum()"
   ]
  },
  {
   "cell_type": "code",
   "execution_count": 7,
   "id": "6197e7f4",
   "metadata": {},
   "outputs": [
    {
     "data": {
      "text/plain": [
       "(0, 1)"
      ]
     },
     "execution_count": 7,
     "metadata": {},
     "output_type": "execute_result"
    }
   ],
   "source": [
    "# n_non_stop_words\n",
    "df.n_non_stop_words.lt(0).sum(), df.n_non_stop_words.gt(1).sum()"
   ]
  },
  {
   "cell_type": "code",
   "execution_count": 8,
   "id": "07f255e1",
   "metadata": {},
   "outputs": [
    {
     "data": {
      "text/plain": [
       "(0, 1)"
      ]
     },
     "execution_count": 8,
     "metadata": {},
     "output_type": "execute_result"
    }
   ],
   "source": [
    "# n_non_stop_words\n",
    "df.n_non_stop_unique_tokens.lt(0).sum(), df.n_non_stop_unique_tokens.gt(1).sum()"
   ]
  },
  {
   "cell_type": "code",
   "execution_count": 9,
   "id": "5e16260d",
   "metadata": {},
   "outputs": [],
   "source": [
    "df = df.loc[df.n_unique_tokens.le(1),:].reset_index(drop = True)"
   ]
  },
  {
   "cell_type": "code",
   "execution_count": 10,
   "id": "02bfde4b",
   "metadata": {},
   "outputs": [],
   "source": [
    "data_channel = df.loc[:, df.columns.str.contains(\"data_channel_is_*\")]"
   ]
  },
  {
   "cell_type": "code",
   "execution_count": 11,
   "id": "6fda6026",
   "metadata": {},
   "outputs": [
    {
     "data": {
      "text/html": [
       "<div>\n",
       "<style scoped>\n",
       "    .dataframe tbody tr th:only-of-type {\n",
       "        vertical-align: middle;\n",
       "    }\n",
       "\n",
       "    .dataframe tbody tr th {\n",
       "        vertical-align: top;\n",
       "    }\n",
       "\n",
       "    .dataframe thead th {\n",
       "        text-align: right;\n",
       "    }\n",
       "</style>\n",
       "<table border=\"1\" class=\"dataframe\">\n",
       "  <thead>\n",
       "    <tr style=\"text-align: right;\">\n",
       "      <th></th>\n",
       "      <th>data_channel_is_lifestyle</th>\n",
       "      <th>data_channel_is_entertainment</th>\n",
       "      <th>data_channel_is_bus</th>\n",
       "      <th>data_channel_is_socmed</th>\n",
       "      <th>data_channel_is_tech</th>\n",
       "      <th>data_channel_is_world</th>\n",
       "    </tr>\n",
       "  </thead>\n",
       "  <tbody>\n",
       "    <tr>\n",
       "      <th>data_channel_is_lifestyle</th>\n",
       "      <td>2099.0</td>\n",
       "      <td>0.0</td>\n",
       "      <td>0.0</td>\n",
       "      <td>0.0</td>\n",
       "      <td>0.0</td>\n",
       "      <td>0.0</td>\n",
       "    </tr>\n",
       "    <tr>\n",
       "      <th>data_channel_is_entertainment</th>\n",
       "      <td>0.0</td>\n",
       "      <td>7056.0</td>\n",
       "      <td>0.0</td>\n",
       "      <td>0.0</td>\n",
       "      <td>0.0</td>\n",
       "      <td>0.0</td>\n",
       "    </tr>\n",
       "    <tr>\n",
       "      <th>data_channel_is_bus</th>\n",
       "      <td>0.0</td>\n",
       "      <td>0.0</td>\n",
       "      <td>6258.0</td>\n",
       "      <td>0.0</td>\n",
       "      <td>0.0</td>\n",
       "      <td>0.0</td>\n",
       "    </tr>\n",
       "    <tr>\n",
       "      <th>data_channel_is_socmed</th>\n",
       "      <td>0.0</td>\n",
       "      <td>0.0</td>\n",
       "      <td>0.0</td>\n",
       "      <td>2323.0</td>\n",
       "      <td>0.0</td>\n",
       "      <td>0.0</td>\n",
       "    </tr>\n",
       "    <tr>\n",
       "      <th>data_channel_is_tech</th>\n",
       "      <td>0.0</td>\n",
       "      <td>0.0</td>\n",
       "      <td>0.0</td>\n",
       "      <td>0.0</td>\n",
       "      <td>7346.0</td>\n",
       "      <td>0.0</td>\n",
       "    </tr>\n",
       "    <tr>\n",
       "      <th>data_channel_is_world</th>\n",
       "      <td>0.0</td>\n",
       "      <td>0.0</td>\n",
       "      <td>0.0</td>\n",
       "      <td>0.0</td>\n",
       "      <td>0.0</td>\n",
       "      <td>8427.0</td>\n",
       "    </tr>\n",
       "  </tbody>\n",
       "</table>\n",
       "</div>"
      ],
      "text/plain": [
       "                               data_channel_is_lifestyle  \\\n",
       "data_channel_is_lifestyle                         2099.0   \n",
       "data_channel_is_entertainment                        0.0   \n",
       "data_channel_is_bus                                  0.0   \n",
       "data_channel_is_socmed                               0.0   \n",
       "data_channel_is_tech                                 0.0   \n",
       "data_channel_is_world                                0.0   \n",
       "\n",
       "                               data_channel_is_entertainment  \\\n",
       "data_channel_is_lifestyle                                0.0   \n",
       "data_channel_is_entertainment                         7056.0   \n",
       "data_channel_is_bus                                      0.0   \n",
       "data_channel_is_socmed                                   0.0   \n",
       "data_channel_is_tech                                     0.0   \n",
       "data_channel_is_world                                    0.0   \n",
       "\n",
       "                               data_channel_is_bus  data_channel_is_socmed  \\\n",
       "data_channel_is_lifestyle                      0.0                     0.0   \n",
       "data_channel_is_entertainment                  0.0                     0.0   \n",
       "data_channel_is_bus                         6258.0                     0.0   \n",
       "data_channel_is_socmed                         0.0                  2323.0   \n",
       "data_channel_is_tech                           0.0                     0.0   \n",
       "data_channel_is_world                          0.0                     0.0   \n",
       "\n",
       "                               data_channel_is_tech  data_channel_is_world  \n",
       "data_channel_is_lifestyle                       0.0                    0.0  \n",
       "data_channel_is_entertainment                   0.0                    0.0  \n",
       "data_channel_is_bus                             0.0                    0.0  \n",
       "data_channel_is_socmed                          0.0                    0.0  \n",
       "data_channel_is_tech                         7346.0                    0.0  \n",
       "data_channel_is_world                           0.0                 8427.0  "
      ]
     },
     "execution_count": 11,
     "metadata": {},
     "output_type": "execute_result"
    }
   ],
   "source": [
    "#data_channel_is_* variables are not overlapping!\n",
    "data_channel.T.dot(data_channel)"
   ]
  },
  {
   "cell_type": "code",
   "execution_count": 12,
   "id": "a5316f3c",
   "metadata": {},
   "outputs": [
    {
     "data": {
      "text/plain": [
       "(33509.0, 39643)"
      ]
     },
     "execution_count": 12,
     "metadata": {},
     "output_type": "execute_result"
    }
   ],
   "source": [
    "# Some observations don't fall into any of them\n",
    "data_channel.T.dot(data_channel).sum().sum(), df.shape[0]"
   ]
  },
  {
   "cell_type": "code",
   "execution_count": 13,
   "id": "08a714aa",
   "metadata": {},
   "outputs": [],
   "source": [
    "def define_channel(seq):\n",
    "    \"\"\"\n",
    "    0 : lifestyle\n",
    "    1 : entertainment\n",
    "    2 : bus\n",
    "    3 : socmed\n",
    "    4 : tech\n",
    "    5 : world\n",
    "    6 : none\n",
    "    \"\"\"\n",
    "    if seq.sum():\n",
    "        return np.where(seq == 1)[0][0]\n",
    "    else:\n",
    "        return 6\n",
    "        "
   ]
  },
  {
   "cell_type": "code",
   "execution_count": 14,
   "id": "aad28c32",
   "metadata": {},
   "outputs": [],
   "source": [
    "df.loc[:, 'channel'] = df.loc[:, df.columns.str.contains(\"data_channel_is_*\")].apply(define_channel, axis = 1)"
   ]
  },
  {
   "cell_type": "code",
   "execution_count": 15,
   "id": "4f600272",
   "metadata": {},
   "outputs": [],
   "source": [
    "df = df.drop(df.columns[df.columns.str.contains(\"data_channel_is_*\")], axis = 1)"
   ]
  },
  {
   "cell_type": "code",
   "execution_count": 16,
   "id": "b979ece0",
   "metadata": {},
   "outputs": [
    {
     "data": {
      "text/html": [
       "<div>\n",
       "<style scoped>\n",
       "    .dataframe tbody tr th:only-of-type {\n",
       "        vertical-align: middle;\n",
       "    }\n",
       "\n",
       "    .dataframe tbody tr th {\n",
       "        vertical-align: top;\n",
       "    }\n",
       "\n",
       "    .dataframe thead th {\n",
       "        text-align: right;\n",
       "    }\n",
       "</style>\n",
       "<table border=\"1\" class=\"dataframe\">\n",
       "  <thead>\n",
       "    <tr style=\"text-align: right;\">\n",
       "      <th></th>\n",
       "      <th>url</th>\n",
       "      <th>timedelta</th>\n",
       "      <th>n_tokens_title</th>\n",
       "      <th>n_tokens_content</th>\n",
       "      <th>n_unique_tokens</th>\n",
       "      <th>n_non_stop_words</th>\n",
       "      <th>n_non_stop_unique_tokens</th>\n",
       "      <th>num_hrefs</th>\n",
       "      <th>num_self_hrefs</th>\n",
       "      <th>num_imgs</th>\n",
       "      <th>...</th>\n",
       "      <th>max_positive_polarity</th>\n",
       "      <th>avg_negative_polarity</th>\n",
       "      <th>min_negative_polarity</th>\n",
       "      <th>max_negative_polarity</th>\n",
       "      <th>title_subjectivity</th>\n",
       "      <th>title_sentiment_polarity</th>\n",
       "      <th>abs_title_subjectivity</th>\n",
       "      <th>abs_title_sentiment_polarity</th>\n",
       "      <th>shares</th>\n",
       "      <th>channel</th>\n",
       "    </tr>\n",
       "  </thead>\n",
       "  <tbody>\n",
       "    <tr>\n",
       "      <th>0</th>\n",
       "      <td>http://mashable.com/2013/01/07/amazon-instant-...</td>\n",
       "      <td>731.0</td>\n",
       "      <td>12.0</td>\n",
       "      <td>219.0</td>\n",
       "      <td>0.663594</td>\n",
       "      <td>1.0</td>\n",
       "      <td>0.815385</td>\n",
       "      <td>4.0</td>\n",
       "      <td>2.0</td>\n",
       "      <td>1.0</td>\n",
       "      <td>...</td>\n",
       "      <td>0.7</td>\n",
       "      <td>-0.350000</td>\n",
       "      <td>-0.600</td>\n",
       "      <td>-0.200000</td>\n",
       "      <td>0.500000</td>\n",
       "      <td>-0.187500</td>\n",
       "      <td>0.000000</td>\n",
       "      <td>0.187500</td>\n",
       "      <td>593</td>\n",
       "      <td>1</td>\n",
       "    </tr>\n",
       "    <tr>\n",
       "      <th>1</th>\n",
       "      <td>http://mashable.com/2013/01/07/ap-samsung-spon...</td>\n",
       "      <td>731.0</td>\n",
       "      <td>9.0</td>\n",
       "      <td>255.0</td>\n",
       "      <td>0.604743</td>\n",
       "      <td>1.0</td>\n",
       "      <td>0.791946</td>\n",
       "      <td>3.0</td>\n",
       "      <td>1.0</td>\n",
       "      <td>1.0</td>\n",
       "      <td>...</td>\n",
       "      <td>0.7</td>\n",
       "      <td>-0.118750</td>\n",
       "      <td>-0.125</td>\n",
       "      <td>-0.100000</td>\n",
       "      <td>0.000000</td>\n",
       "      <td>0.000000</td>\n",
       "      <td>0.500000</td>\n",
       "      <td>0.000000</td>\n",
       "      <td>711</td>\n",
       "      <td>2</td>\n",
       "    </tr>\n",
       "    <tr>\n",
       "      <th>2</th>\n",
       "      <td>http://mashable.com/2013/01/07/apple-40-billio...</td>\n",
       "      <td>731.0</td>\n",
       "      <td>9.0</td>\n",
       "      <td>211.0</td>\n",
       "      <td>0.575130</td>\n",
       "      <td>1.0</td>\n",
       "      <td>0.663866</td>\n",
       "      <td>3.0</td>\n",
       "      <td>1.0</td>\n",
       "      <td>1.0</td>\n",
       "      <td>...</td>\n",
       "      <td>1.0</td>\n",
       "      <td>-0.466667</td>\n",
       "      <td>-0.800</td>\n",
       "      <td>-0.133333</td>\n",
       "      <td>0.000000</td>\n",
       "      <td>0.000000</td>\n",
       "      <td>0.500000</td>\n",
       "      <td>0.000000</td>\n",
       "      <td>1500</td>\n",
       "      <td>2</td>\n",
       "    </tr>\n",
       "    <tr>\n",
       "      <th>3</th>\n",
       "      <td>http://mashable.com/2013/01/07/astronaut-notre...</td>\n",
       "      <td>731.0</td>\n",
       "      <td>9.0</td>\n",
       "      <td>531.0</td>\n",
       "      <td>0.503788</td>\n",
       "      <td>1.0</td>\n",
       "      <td>0.665635</td>\n",
       "      <td>9.0</td>\n",
       "      <td>0.0</td>\n",
       "      <td>1.0</td>\n",
       "      <td>...</td>\n",
       "      <td>0.8</td>\n",
       "      <td>-0.369697</td>\n",
       "      <td>-0.600</td>\n",
       "      <td>-0.166667</td>\n",
       "      <td>0.000000</td>\n",
       "      <td>0.000000</td>\n",
       "      <td>0.500000</td>\n",
       "      <td>0.000000</td>\n",
       "      <td>1200</td>\n",
       "      <td>1</td>\n",
       "    </tr>\n",
       "    <tr>\n",
       "      <th>4</th>\n",
       "      <td>http://mashable.com/2013/01/07/att-u-verse-apps/</td>\n",
       "      <td>731.0</td>\n",
       "      <td>13.0</td>\n",
       "      <td>1072.0</td>\n",
       "      <td>0.415646</td>\n",
       "      <td>1.0</td>\n",
       "      <td>0.540890</td>\n",
       "      <td>19.0</td>\n",
       "      <td>19.0</td>\n",
       "      <td>20.0</td>\n",
       "      <td>...</td>\n",
       "      <td>1.0</td>\n",
       "      <td>-0.220192</td>\n",
       "      <td>-0.500</td>\n",
       "      <td>-0.050000</td>\n",
       "      <td>0.454545</td>\n",
       "      <td>0.136364</td>\n",
       "      <td>0.045455</td>\n",
       "      <td>0.136364</td>\n",
       "      <td>505</td>\n",
       "      <td>4</td>\n",
       "    </tr>\n",
       "  </tbody>\n",
       "</table>\n",
       "<p>5 rows × 56 columns</p>\n",
       "</div>"
      ],
      "text/plain": [
       "                                                 url  timedelta  \\\n",
       "0  http://mashable.com/2013/01/07/amazon-instant-...      731.0   \n",
       "1  http://mashable.com/2013/01/07/ap-samsung-spon...      731.0   \n",
       "2  http://mashable.com/2013/01/07/apple-40-billio...      731.0   \n",
       "3  http://mashable.com/2013/01/07/astronaut-notre...      731.0   \n",
       "4   http://mashable.com/2013/01/07/att-u-verse-apps/      731.0   \n",
       "\n",
       "   n_tokens_title  n_tokens_content  n_unique_tokens  n_non_stop_words  \\\n",
       "0            12.0             219.0         0.663594               1.0   \n",
       "1             9.0             255.0         0.604743               1.0   \n",
       "2             9.0             211.0         0.575130               1.0   \n",
       "3             9.0             531.0         0.503788               1.0   \n",
       "4            13.0            1072.0         0.415646               1.0   \n",
       "\n",
       "   n_non_stop_unique_tokens  num_hrefs  num_self_hrefs  num_imgs  ...  \\\n",
       "0                  0.815385        4.0             2.0       1.0  ...   \n",
       "1                  0.791946        3.0             1.0       1.0  ...   \n",
       "2                  0.663866        3.0             1.0       1.0  ...   \n",
       "3                  0.665635        9.0             0.0       1.0  ...   \n",
       "4                  0.540890       19.0            19.0      20.0  ...   \n",
       "\n",
       "   max_positive_polarity  avg_negative_polarity  min_negative_polarity  \\\n",
       "0                    0.7              -0.350000                 -0.600   \n",
       "1                    0.7              -0.118750                 -0.125   \n",
       "2                    1.0              -0.466667                 -0.800   \n",
       "3                    0.8              -0.369697                 -0.600   \n",
       "4                    1.0              -0.220192                 -0.500   \n",
       "\n",
       "   max_negative_polarity  title_subjectivity  title_sentiment_polarity  \\\n",
       "0              -0.200000            0.500000                 -0.187500   \n",
       "1              -0.100000            0.000000                  0.000000   \n",
       "2              -0.133333            0.000000                  0.000000   \n",
       "3              -0.166667            0.000000                  0.000000   \n",
       "4              -0.050000            0.454545                  0.136364   \n",
       "\n",
       "   abs_title_subjectivity  abs_title_sentiment_polarity  shares  channel  \n",
       "0                0.000000                      0.187500     593        1  \n",
       "1                0.500000                      0.000000     711        2  \n",
       "2                0.500000                      0.000000    1500        2  \n",
       "3                0.500000                      0.000000    1200        1  \n",
       "4                0.045455                      0.136364     505        4  \n",
       "\n",
       "[5 rows x 56 columns]"
      ]
     },
     "execution_count": 16,
     "metadata": {},
     "output_type": "execute_result"
    }
   ],
   "source": [
    "df.head()"
   ]
  },
  {
   "cell_type": "code",
   "execution_count": 17,
   "id": "63b709f1",
   "metadata": {},
   "outputs": [],
   "source": [
    "# replacing -1 in kw_*_* to 0\n",
    "df = df.replace({colname: {-1:0} for colname in df.columns[df.columns.str.contains('kw_\\w+_\\w+')]})"
   ]
  },
  {
   "cell_type": "code",
   "execution_count": 18,
   "id": "ce362547",
   "metadata": {},
   "outputs": [
    {
     "data": {
      "text/html": [
       "<div>\n",
       "<style scoped>\n",
       "    .dataframe tbody tr th:only-of-type {\n",
       "        vertical-align: middle;\n",
       "    }\n",
       "\n",
       "    .dataframe tbody tr th {\n",
       "        vertical-align: top;\n",
       "    }\n",
       "\n",
       "    .dataframe thead th {\n",
       "        text-align: right;\n",
       "    }\n",
       "</style>\n",
       "<table border=\"1\" class=\"dataframe\">\n",
       "  <thead>\n",
       "    <tr style=\"text-align: right;\">\n",
       "      <th></th>\n",
       "      <th>weekday_is_monday</th>\n",
       "      <th>weekday_is_tuesday</th>\n",
       "      <th>weekday_is_wednesday</th>\n",
       "      <th>weekday_is_thursday</th>\n",
       "      <th>weekday_is_friday</th>\n",
       "      <th>weekday_is_saturday</th>\n",
       "      <th>weekday_is_sunday</th>\n",
       "      <th>is_weekend</th>\n",
       "    </tr>\n",
       "  </thead>\n",
       "  <tbody>\n",
       "    <tr>\n",
       "      <th>weekday_is_monday</th>\n",
       "      <td>6661.0</td>\n",
       "      <td>0.0</td>\n",
       "      <td>0.0</td>\n",
       "      <td>0.0</td>\n",
       "      <td>0.0</td>\n",
       "      <td>0.0</td>\n",
       "      <td>0.0</td>\n",
       "      <td>0.0</td>\n",
       "    </tr>\n",
       "    <tr>\n",
       "      <th>weekday_is_tuesday</th>\n",
       "      <td>0.0</td>\n",
       "      <td>7389.0</td>\n",
       "      <td>0.0</td>\n",
       "      <td>0.0</td>\n",
       "      <td>0.0</td>\n",
       "      <td>0.0</td>\n",
       "      <td>0.0</td>\n",
       "      <td>0.0</td>\n",
       "    </tr>\n",
       "    <tr>\n",
       "      <th>weekday_is_wednesday</th>\n",
       "      <td>0.0</td>\n",
       "      <td>0.0</td>\n",
       "      <td>7435.0</td>\n",
       "      <td>0.0</td>\n",
       "      <td>0.0</td>\n",
       "      <td>0.0</td>\n",
       "      <td>0.0</td>\n",
       "      <td>0.0</td>\n",
       "    </tr>\n",
       "    <tr>\n",
       "      <th>weekday_is_thursday</th>\n",
       "      <td>0.0</td>\n",
       "      <td>0.0</td>\n",
       "      <td>0.0</td>\n",
       "      <td>7267.0</td>\n",
       "      <td>0.0</td>\n",
       "      <td>0.0</td>\n",
       "      <td>0.0</td>\n",
       "      <td>0.0</td>\n",
       "    </tr>\n",
       "    <tr>\n",
       "      <th>weekday_is_friday</th>\n",
       "      <td>0.0</td>\n",
       "      <td>0.0</td>\n",
       "      <td>0.0</td>\n",
       "      <td>0.0</td>\n",
       "      <td>5701.0</td>\n",
       "      <td>0.0</td>\n",
       "      <td>0.0</td>\n",
       "      <td>0.0</td>\n",
       "    </tr>\n",
       "    <tr>\n",
       "      <th>weekday_is_saturday</th>\n",
       "      <td>0.0</td>\n",
       "      <td>0.0</td>\n",
       "      <td>0.0</td>\n",
       "      <td>0.0</td>\n",
       "      <td>0.0</td>\n",
       "      <td>2453.0</td>\n",
       "      <td>0.0</td>\n",
       "      <td>2453.0</td>\n",
       "    </tr>\n",
       "    <tr>\n",
       "      <th>weekday_is_sunday</th>\n",
       "      <td>0.0</td>\n",
       "      <td>0.0</td>\n",
       "      <td>0.0</td>\n",
       "      <td>0.0</td>\n",
       "      <td>0.0</td>\n",
       "      <td>0.0</td>\n",
       "      <td>2737.0</td>\n",
       "      <td>2737.0</td>\n",
       "    </tr>\n",
       "    <tr>\n",
       "      <th>is_weekend</th>\n",
       "      <td>0.0</td>\n",
       "      <td>0.0</td>\n",
       "      <td>0.0</td>\n",
       "      <td>0.0</td>\n",
       "      <td>0.0</td>\n",
       "      <td>2453.0</td>\n",
       "      <td>2737.0</td>\n",
       "      <td>5190.0</td>\n",
       "    </tr>\n",
       "  </tbody>\n",
       "</table>\n",
       "</div>"
      ],
      "text/plain": [
       "                      weekday_is_monday  weekday_is_tuesday  \\\n",
       "weekday_is_monday                6661.0                 0.0   \n",
       "weekday_is_tuesday                  0.0              7389.0   \n",
       "weekday_is_wednesday                0.0                 0.0   \n",
       "weekday_is_thursday                 0.0                 0.0   \n",
       "weekday_is_friday                   0.0                 0.0   \n",
       "weekday_is_saturday                 0.0                 0.0   \n",
       "weekday_is_sunday                   0.0                 0.0   \n",
       "is_weekend                          0.0                 0.0   \n",
       "\n",
       "                      weekday_is_wednesday  weekday_is_thursday  \\\n",
       "weekday_is_monday                      0.0                  0.0   \n",
       "weekday_is_tuesday                     0.0                  0.0   \n",
       "weekday_is_wednesday                7435.0                  0.0   \n",
       "weekday_is_thursday                    0.0               7267.0   \n",
       "weekday_is_friday                      0.0                  0.0   \n",
       "weekday_is_saturday                    0.0                  0.0   \n",
       "weekday_is_sunday                      0.0                  0.0   \n",
       "is_weekend                             0.0                  0.0   \n",
       "\n",
       "                      weekday_is_friday  weekday_is_saturday  \\\n",
       "weekday_is_monday                   0.0                  0.0   \n",
       "weekday_is_tuesday                  0.0                  0.0   \n",
       "weekday_is_wednesday                0.0                  0.0   \n",
       "weekday_is_thursday                 0.0                  0.0   \n",
       "weekday_is_friday                5701.0                  0.0   \n",
       "weekday_is_saturday                 0.0               2453.0   \n",
       "weekday_is_sunday                   0.0                  0.0   \n",
       "is_weekend                          0.0               2453.0   \n",
       "\n",
       "                      weekday_is_sunday  is_weekend  \n",
       "weekday_is_monday                   0.0         0.0  \n",
       "weekday_is_tuesday                  0.0         0.0  \n",
       "weekday_is_wednesday                0.0         0.0  \n",
       "weekday_is_thursday                 0.0         0.0  \n",
       "weekday_is_friday                   0.0         0.0  \n",
       "weekday_is_saturday                 0.0      2453.0  \n",
       "weekday_is_sunday                2737.0      2737.0  \n",
       "is_weekend                       2737.0      5190.0  "
      ]
     },
     "execution_count": 18,
     "metadata": {},
     "output_type": "execute_result"
    }
   ],
   "source": [
    "# No Monday, Thursday, or Friday weekend\n",
    "week = df.loc[:, df.columns.str.contains('week')]\n",
    "week.T.dot(week)"
   ]
  },
  {
   "cell_type": "code",
   "execution_count": 19,
   "id": "b6f0d1f4",
   "metadata": {},
   "outputs": [
    {
     "data": {
      "text/plain": [
       "True"
      ]
     },
     "execution_count": 19,
     "metadata": {},
     "output_type": "execute_result"
    }
   ],
   "source": [
    "# no missing\n",
    "df.loc[:, df.columns.str.contains('weekday')].sum().sum() == df.shape[0]"
   ]
  },
  {
   "cell_type": "code",
   "execution_count": 20,
   "id": "7f005fc3",
   "metadata": {},
   "outputs": [],
   "source": [
    "df.loc[:, \"weekday\"] = df.loc[:, df.columns.str.contains('weekday')].apply(lambda x: np.where(x == 1)[0][0], axis = 1)"
   ]
  },
  {
   "cell_type": "code",
   "execution_count": 21,
   "id": "a7b693ae",
   "metadata": {},
   "outputs": [],
   "source": [
    "df = df.drop(df.columns[df.columns.str.contains('weekday_') | df.columns.str.contains('weekend')], axis = 1)"
   ]
  },
  {
   "cell_type": "code",
   "execution_count": 22,
   "id": "6ae4b5e2",
   "metadata": {},
   "outputs": [],
   "source": [
    "# We don't need to transform LDA as it indicates the probability each observation falls into "
   ]
  },
  {
   "cell_type": "code",
   "execution_count": 23,
   "id": "dd620ba1",
   "metadata": {},
   "outputs": [],
   "source": [
    "df.loc[:, 'LDA'] = df.loc[:, df.columns.str.contains('LDA')].apply(lambda x: 'LDA_0' + str(np.where(x == max(x))[0][0]), axis = 1)"
   ]
  },
  {
   "cell_type": "code",
   "execution_count": 24,
   "id": "8d34ae9e",
   "metadata": {},
   "outputs": [
    {
     "data": {
      "text/plain": [
       "Index(['url', 'timedelta', 'n_tokens_title', 'n_tokens_content',\n",
       "       'n_unique_tokens', 'n_non_stop_words', 'n_non_stop_unique_tokens',\n",
       "       'num_hrefs', 'num_self_hrefs', 'num_imgs', 'num_videos',\n",
       "       'average_token_length', 'num_keywords', 'kw_min_min', 'kw_max_min',\n",
       "       'kw_avg_min', 'kw_min_max', 'kw_max_max', 'kw_avg_max', 'kw_min_avg',\n",
       "       'kw_max_avg', 'kw_avg_avg', 'self_reference_min_shares',\n",
       "       'self_reference_max_shares', 'self_reference_avg_sharess', 'LDA_00',\n",
       "       'LDA_01', 'LDA_02', 'LDA_03', 'LDA_04', 'global_subjectivity',\n",
       "       'global_sentiment_polarity', 'global_rate_positive_words',\n",
       "       'global_rate_negative_words', 'rate_positive_words',\n",
       "       'rate_negative_words', 'avg_positive_polarity', 'min_positive_polarity',\n",
       "       'max_positive_polarity', 'avg_negative_polarity',\n",
       "       'min_negative_polarity', 'max_negative_polarity', 'title_subjectivity',\n",
       "       'title_sentiment_polarity', 'abs_title_subjectivity',\n",
       "       'abs_title_sentiment_polarity', 'shares', 'channel', 'weekday', 'LDA'],\n",
       "      dtype='object')"
      ]
     },
     "execution_count": 24,
     "metadata": {},
     "output_type": "execute_result"
    }
   ],
   "source": [
    "df.columns"
   ]
  },
  {
   "cell_type": "code",
   "execution_count": 25,
   "id": "2ab2bad6",
   "metadata": {},
   "outputs": [
    {
     "data": {
      "text/plain": [
       "<AxesSubplot:title={'center':'shares'}, xlabel='[LDA]'>"
      ]
     },
     "execution_count": 25,
     "metadata": {},
     "output_type": "execute_result"
    },
    {
     "data": {
      "image/png": "[encoded data removed]",
      "text/plain": [
       "<Figure size 640x480 with 1 Axes>"
      ]
     },
     "metadata": {},
     "output_type": "display_data"
    }
   ],
   "source": [
    "df.loc[df.shares.lt(df.shares.quantile(.8)),['LDA','shares']].boxplot(by = 'LDA')"
   ]
  },
  {
   "cell_type": "code",
   "execution_count": 26,
   "id": "d9426f2f",
   "metadata": {},
   "outputs": [
    {
     "data": {
      "text/html": [
       "<div>\n",
       "<style scoped>\n",
       "    .dataframe tbody tr th:only-of-type {\n",
       "        vertical-align: middle;\n",
       "    }\n",
       "\n",
       "    .dataframe tbody tr th {\n",
       "        vertical-align: top;\n",
       "    }\n",
       "\n",
       "    .dataframe thead th {\n",
       "        text-align: right;\n",
       "    }\n",
       "</style>\n",
       "<table border=\"1\" class=\"dataframe\">\n",
       "  <thead>\n",
       "    <tr style=\"text-align: right;\">\n",
       "      <th></th>\n",
       "      <th>LDA_00</th>\n",
       "      <th>LDA_01</th>\n",
       "      <th>LDA_02</th>\n",
       "      <th>LDA_03</th>\n",
       "      <th>LDA_04</th>\n",
       "    </tr>\n",
       "  </thead>\n",
       "  <tbody>\n",
       "    <tr>\n",
       "      <th>LDA_00</th>\n",
       "      <td>4092.480323</td>\n",
       "      <td>622.965962</td>\n",
       "      <td>831.402778</td>\n",
       "      <td>792.584111</td>\n",
       "      <td>978.811497</td>\n",
       "    </tr>\n",
       "    <tr>\n",
       "      <th>LDA_01</th>\n",
       "      <td>622.965962</td>\n",
       "      <td>2704.643957</td>\n",
       "      <td>641.946437</td>\n",
       "      <td>940.301129</td>\n",
       "      <td>690.086385</td>\n",
       "    </tr>\n",
       "    <tr>\n",
       "      <th>LDA_02</th>\n",
       "      <td>831.402778</td>\n",
       "      <td>641.946437</td>\n",
       "      <td>5010.948823</td>\n",
       "      <td>833.921628</td>\n",
       "      <td>1257.608741</td>\n",
       "    </tr>\n",
       "    <tr>\n",
       "      <th>LDA_03</th>\n",
       "      <td>792.584111</td>\n",
       "      <td>940.301129</td>\n",
       "      <td>833.921628</td>\n",
       "      <td>5439.482373</td>\n",
       "      <td>864.833437</td>\n",
       "    </tr>\n",
       "    <tr>\n",
       "      <th>LDA_04</th>\n",
       "      <td>978.811497</td>\n",
       "      <td>690.086385</td>\n",
       "      <td>1257.608741</td>\n",
       "      <td>864.833437</td>\n",
       "      <td>5486.520317</td>\n",
       "    </tr>\n",
       "  </tbody>\n",
       "</table>\n",
       "</div>"
      ],
      "text/plain": [
       "             LDA_00       LDA_01       LDA_02       LDA_03       LDA_04\n",
       "LDA_00  4092.480323   622.965962   831.402778   792.584111   978.811497\n",
       "LDA_01   622.965962  2704.643957   641.946437   940.301129   690.086385\n",
       "LDA_02   831.402778   641.946437  5010.948823   833.921628  1257.608741\n",
       "LDA_03   792.584111   940.301129   833.921628  5439.482373   864.833437\n",
       "LDA_04   978.811497   690.086385  1257.608741   864.833437  5486.520317"
      ]
     },
     "execution_count": 26,
     "metadata": {},
     "output_type": "execute_result"
    }
   ],
   "source": [
    "lda = df.loc[:, df.columns.str.contains('LDA_')]\n",
    "lda.T.dot(lda)"
   ]
  },
  {
   "cell_type": "code",
   "execution_count": 27,
   "id": "5747a33b",
   "metadata": {},
   "outputs": [
    {
     "data": {
      "text/plain": [
       "Index(['url', 'timedelta', 'n_tokens_title', 'n_tokens_content',\n",
       "       'n_unique_tokens', 'n_non_stop_words', 'n_non_stop_unique_tokens',\n",
       "       'num_hrefs', 'num_self_hrefs', 'num_imgs', 'num_videos',\n",
       "       'average_token_length', 'num_keywords', 'kw_min_min', 'kw_max_min',\n",
       "       'kw_avg_min', 'kw_min_max', 'kw_max_max', 'kw_avg_max', 'kw_min_avg',\n",
       "       'kw_max_avg', 'kw_avg_avg', 'self_reference_min_shares',\n",
       "       'self_reference_max_shares', 'self_reference_avg_sharess', 'LDA_00',\n",
       "       'LDA_01', 'LDA_02', 'LDA_03', 'LDA_04', 'global_subjectivity',\n",
       "       'global_sentiment_polarity', 'global_rate_positive_words',\n",
       "       'global_rate_negative_words', 'rate_positive_words',\n",
       "       'rate_negative_words', 'avg_positive_polarity', 'min_positive_polarity',\n",
       "       'max_positive_polarity', 'avg_negative_polarity',\n",
       "       'min_negative_polarity', 'max_negative_polarity', 'title_subjectivity',\n",
       "       'title_sentiment_polarity', 'abs_title_subjectivity',\n",
       "       'abs_title_sentiment_polarity', 'shares', 'channel', 'weekday', 'LDA'],\n",
       "      dtype='object')"
      ]
     },
     "execution_count": 27,
     "metadata": {},
     "output_type": "execute_result"
    }
   ],
   "source": [
    "df.columns"
   ]
  },
  {
   "cell_type": "code",
   "execution_count": 28,
   "id": "87ca4362",
   "metadata": {},
   "outputs": [
    {
     "data": {
      "text/plain": [
       "0        0.663594\n",
       "1        0.604743\n",
       "2        0.575130\n",
       "3        0.503788\n",
       "4        0.415646\n",
       "           ...   \n",
       "39638    0.529052\n",
       "39639    0.696296\n",
       "39640    0.516355\n",
       "39641    0.539493\n",
       "39642    0.701987\n",
       "Name: n_unique_tokens, Length: 39643, dtype: float64"
      ]
     },
     "execution_count": 28,
     "metadata": {},
     "output_type": "execute_result"
    }
   ],
   "source": [
    "df.n_unique_tokens "
   ]
  },
  {
   "cell_type": "code",
   "execution_count": 29,
   "id": "6a89a255",
   "metadata": {},
   "outputs": [
    {
     "data": {
      "text/plain": [
       "<AxesSubplot:>"
      ]
     },
     "execution_count": 29,
     "metadata": {},
     "output_type": "execute_result"
    },
    {
     "data": {
      "image/png": "[encoded data removed]",
      "text/plain": [
       "<Figure size 640x480 with 1 Axes>"
      ]
     },
     "metadata": {},
     "output_type": "display_data"
    }
   ],
   "source": [
    "df.n_non_stop_words.plot.box()"
   ]
  },
  {
   "cell_type": "code",
   "execution_count": 30,
   "id": "316ca77f",
   "metadata": {},
   "outputs": [
    {
     "data": {
      "text/plain": [
       "<AxesSubplot:>"
      ]
     },
     "execution_count": 30,
     "metadata": {},
     "output_type": "execute_result"
    },
    {
     "data": {
      "image/png": "[encoded data removed]",
      "text/plain": [
       "<Figure size 640x480 with 1 Axes>"
      ]
     },
     "metadata": {},
     "output_type": "display_data"
    }
   ],
   "source": [
    "df.n_non_stop_words[df.n_non_stop_words.gt(.8)].hist(bins = 30)"
   ]
  },
  {
   "cell_type": "code",
   "execution_count": 31,
   "id": "8777495b",
   "metadata": {},
   "outputs": [
    {
     "data": {
      "text/plain": [
       "1.0    38462\n",
       "0.0     1181\n",
       "Name: n_non_stop_words, dtype: int64"
      ]
     },
     "execution_count": 31,
     "metadata": {},
     "output_type": "execute_result"
    }
   ],
   "source": [
    "df.n_non_stop_words.round(3).value_counts()"
   ]
  },
  {
   "cell_type": "code",
   "execution_count": 32,
   "id": "13b6f7f1",
   "metadata": {},
   "outputs": [
    {
     "data": {
      "text/plain": [
       "0.0"
      ]
     },
     "execution_count": 32,
     "metadata": {},
     "output_type": "execute_result"
    }
   ],
   "source": [
    "# if n_tokens_content is 0, df.n_non_stop_words is 0\n",
    "df.loc[df.n_non_stop_words.round(3).eq(0)].n_tokens_content.mean()"
   ]
  },
  {
   "cell_type": "code",
   "execution_count": 33,
   "id": "0653bbc8",
   "metadata": {},
   "outputs": [
    {
     "data": {
      "text/plain": [
       "0"
      ]
     },
     "execution_count": 33,
     "metadata": {},
     "output_type": "execute_result"
    }
   ],
   "source": [
    "(df.n_non_stop_words.round(3).eq(0) * df.n_tokens_content.gt(0)).sum()"
   ]
  },
  {
   "cell_type": "code",
   "execution_count": 34,
   "id": "70c162fc",
   "metadata": {},
   "outputs": [],
   "source": [
    "df = df.drop('n_non_stop_words', axis = 1)"
   ]
  },
  {
   "cell_type": "code",
   "execution_count": 50,
   "id": "502f9a73",
   "metadata": {},
   "outputs": [],
   "source": [
    "df['shares_class'] = df.shares.apply(lambda x: x>1400)"
   ]
  },
  {
   "cell_type": "code",
   "execution_count": 53,
   "id": "c7fd20a7",
   "metadata": {},
   "outputs": [
    {
     "data": {
      "text/plain": [
       "Index(['url', 'timedelta', 'n_tokens_title', 'n_tokens_content',\n",
       "       'n_unique_tokens', 'n_non_stop_unique_tokens', 'num_hrefs',\n",
       "       'num_self_hrefs', 'num_imgs', 'num_videos', 'average_token_length',\n",
       "       'num_keywords', 'kw_min_min', 'kw_max_min', 'kw_avg_min', 'kw_min_max',\n",
       "       'kw_max_max', 'kw_avg_max', 'kw_min_avg', 'kw_max_avg', 'kw_avg_avg',\n",
       "       'self_reference_min_shares', 'self_reference_max_shares',\n",
       "       'self_reference_avg_sharess', 'LDA_00', 'LDA_01', 'LDA_02', 'LDA_03',\n",
       "       'LDA_04', 'global_subjectivity', 'global_sentiment_polarity',\n",
       "       'global_rate_positive_words', 'global_rate_negative_words',\n",
       "       'rate_positive_words', 'rate_negative_words', 'avg_positive_polarity',\n",
       "       'min_positive_polarity', 'max_positive_polarity',\n",
       "       'avg_negative_polarity', 'min_negative_polarity',\n",
       "       'max_negative_polarity', 'title_subjectivity',\n",
       "       'title_sentiment_polarity', 'abs_title_subjectivity',\n",
       "       'abs_title_sentiment_polarity', 'shares', 'channel', 'weekday', 'LDA',\n",
       "       'shares_class'],\n",
       "      dtype='object')"
      ]
     },
     "execution_count": 53,
     "metadata": {},
     "output_type": "execute_result"
    }
   ],
   "source": [
    "df.columns"
   ]
  },
  {
   "cell_type": "code",
   "execution_count": 36,
   "id": "63494061",
   "metadata": {},
   "outputs": [],
   "source": [
    "# df = df[['n_tokens_title', 'n_tokens_content',\n",
    "#        'n_unique_tokens', 'n_non_stop_unique_tokens', 'num_hrefs',\n",
    "#        'num_imgs', 'num_videos', 'average_token_length',\n",
    "#        'num_keywords', 'kw_min_min', 'kw_max_min', 'kw_avg_min', 'kw_min_max',\n",
    "#        'kw_max_max', 'kw_avg_max', 'kw_min_avg', 'kw_max_avg', 'kw_avg_avg',\n",
    "#        'num_self_hrefs', 'self_reference_min_shares', 'self_reference_max_shares',\n",
    "#        'self_reference_avg_sharess', 'LDA', 'LDA_00', 'LDA_01', 'LDA_02', 'LDA_03',\n",
    "#        'LDA_04',  'global_subjectivity', 'title_subjectivity', 'abs_title_subjectivity',\n",
    "#        'global_sentiment_polarity',\n",
    "#        'global_rate_positive_words', 'global_rate_negative_words',\n",
    "#        'rate_positive_words', 'rate_negative_words', 'avg_positive_polarity',\n",
    "#        'min_positive_polarity', 'max_positive_polarity',\n",
    "#        'avg_negative_polarity', 'min_negative_polarity',\n",
    "#        'max_negative_polarity', 'title_sentiment_polarity', 'abs_title_sentiment_polarity',\n",
    "#        'channel','weekday', 'shares']]"
   ]
  },
  {
   "cell_type": "code",
   "execution_count": 54,
   "id": "de9cebd0",
   "metadata": {},
   "outputs": [],
   "source": [
    "df.drop(['url','timedelta','LDA','shares'], axis = 1).to_csv('text_summary_stats.csv', \n",
    "                                                             index = False)"
   ]
  },
  {
   "cell_type": "code",
   "execution_count": null,
   "id": "87735143",
   "metadata": {},
   "outputs": [],
   "source": []
  }
 ],
 "metadata": {
  "kernelspec": {
   "display_name": "Python 3 (ipykernel)",
   "language": "python",
   "name": "python3"
  },
  "language_info": {
   "codemirror_mode": {
    "name": "ipython",
    "version": 3
   },
   "file_extension": ".py",
   "mimetype": "text/x-python",
   "name": "python",
   "nbconvert_exporter": "python",
   "pygments_lexer": "ipython3",
   "version": "3.10.6"
  }
 },
 "nbformat": 4,
 "nbformat_minor": 5
}
