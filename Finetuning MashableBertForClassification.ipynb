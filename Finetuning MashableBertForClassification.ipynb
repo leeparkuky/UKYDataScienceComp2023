{
 "cells": [
  {
   "cell_type": "code",
   "execution_count": 1,
   "id": "0aec3e92",
   "metadata": {},
   "outputs": [],
   "source": [
    "from Transformer_Models import MashableBertModel\n",
    "import torch\n",
    "import torch.nn as nn\n",
    "\n",
    "import numpy as np\n",
    "import pandas as pd"
   ]
  },
  {
   "cell_type": "code",
   "execution_count": 2,
   "id": "f94d7be7",
   "metadata": {},
   "outputs": [],
   "source": [
    "import datasets\n",
    "from transformers import AutoTokenizer\n",
    "\n",
    "tokenizer = AutoTokenizer.from_pretrained('bert-base-uncased')"
   ]
  },
  {
   "cell_type": "code",
   "execution_count": 3,
   "id": "f31c3067",
   "metadata": {},
   "outputs": [
    {
     "name": "stderr",
     "output_type": "stream",
     "text": [
      "Found cached dataset online_news_popularity_data (/home/leeparkuky/.cache/huggingface/datasets/online_news_popularity_data/online_news_popularity_data/1.0.0/40871d81330db452a45539c72f8cf51048b7f8890bee79b1a6306eb6532df4b2)\n"
     ]
    },
    {
     "data": {
      "application/vnd.jupyter.widget-view+json": {
       "model_id": "aafba2bdec34463dbeb3706c899995ee",
       "version_major": 2,
       "version_minor": 0
      },
      "text/plain": [
       "  0%|          | 0/1 [00:00<?, ?it/s]"
      ]
     },
     "metadata": {},
     "output_type": "display_data"
    }
   ],
   "source": [
    "articles = datasets.load_dataset('online_news_popularity_data')"
   ]
  },
  {
   "cell_type": "code",
   "execution_count": 5,
   "id": "126456a2",
   "metadata": {},
   "outputs": [],
   "source": [
    "def concatenate_fernandes_variables(examples):\n",
    "    fernandes = [val for key, val in examples.items() if key not in ['title','content','shares','shares_class']]\n",
    "    fernandes = np.array(fernandes).T.tolist()\n",
    "    return {'fernandes': fernandes}"
   ]
  },
  {
   "cell_type": "code",
   "execution_count": 6,
   "id": "518b4ff1",
   "metadata": {},
   "outputs": [
    {
     "name": "stderr",
     "output_type": "stream",
     "text": [
      "Loading cached processed dataset at /home/leeparkuky/.cache/huggingface/datasets/online_news_popularity_data/online_news_popularity_data/1.0.0/40871d81330db452a45539c72f8cf51048b7f8890bee79b1a6306eb6532df4b2/cache-de0dc50a5a27799a_*_of_00016.arrow\n"
     ]
    }
   ],
   "source": [
    "articles_concat = articles.map(concatenate_fernandes_variables, batched = True, batch_size = 64, num_proc = 16,\n",
    "                              remove_columns = [x for x in articles.column_names['train'] if x not in ['title','content','shares','shares_class']] )"
   ]
  },
  {
   "cell_type": "code",
   "execution_count": 8,
   "id": "41f2fbd6",
   "metadata": {},
   "outputs": [],
   "source": [
    "def tokenize(examples):\n",
    "#     text = [title + content for title, content in zip(examples['title'], examples['content'])]\n",
    "    return tokenizer(examples['title'], text_pair =  examples['content'], max_length = 512, truncation = True, padding = True)"
   ]
  },
  {
   "cell_type": "code",
   "execution_count": 9,
   "id": "fae266b4",
   "metadata": {},
   "outputs": [
    {
     "name": "stderr",
     "output_type": "stream",
     "text": [
      "Loading cached processed dataset at /home/leeparkuky/.cache/huggingface/datasets/online_news_popularity_data/online_news_popularity_data/1.0.0/40871d81330db452a45539c72f8cf51048b7f8890bee79b1a6306eb6532df4b2/cache-3151a21d0a1b4698_*_of_00016.arrow\n"
     ]
    }
   ],
   "source": [
    "articles_tokenized = articles_concat.map(tokenize, batched = True, batch_size = 64, num_proc = 16,\n",
    "                   remove_columns = ['shares','title','content'])"
   ]
  },
  {
   "cell_type": "code",
   "execution_count": 10,
   "id": "d12666c5",
   "metadata": {},
   "outputs": [],
   "source": [
    "articles_tokenized.set_format('pt')"
   ]
  },
  {
   "cell_type": "code",
   "execution_count": 11,
   "id": "7c3619f0",
   "metadata": {},
   "outputs": [],
   "source": [
    "articles_tokenized = articles_tokenized['train'].train_test_split(.2)"
   ]
  },
  {
   "cell_type": "markdown",
   "id": "5c44b9ef",
   "metadata": {},
   "source": [
    "## Try 1: Fine-tuning with Cross Entropy Loss"
   ]
  },
  {
   "cell_type": "code",
   "execution_count": 13,
   "id": "94b4b50d",
   "metadata": {},
   "outputs": [],
   "source": [
    "from Transformer_Models import MashableBertForClassification\n",
    "\n",
    "model = MashableBertForClassification('bert-base-uncased', 20)\n",
    "model.base_model_load_weight('Model Weights/MashableBertModel_Pretrained.pth')"
   ]
  },
  {
   "cell_type": "code",
   "execution_count": 14,
   "id": "f6a11a64",
   "metadata": {},
   "outputs": [],
   "source": [
    "from torch.utils.data import DataLoader\n",
    "training_loader = DataLoader(articles_tokenized['train'], batch_size = 8, shuffle = True)\n",
    "validating_loader = DataLoader(articles_tokenized['test'], batch_size = 8,)"
   ]
  },
  {
   "cell_type": "code",
   "execution_count": 15,
   "id": "ed9b51af",
   "metadata": {
    "scrolled": true
   },
   "outputs": [],
   "source": [
    "torch.set_float32_matmul_precision(\"medium\")"
   ]
  },
  {
   "cell_type": "code",
   "execution_count": 16,
   "id": "9472d773",
   "metadata": {},
   "outputs": [
    {
     "name": "stderr",
     "output_type": "stream",
     "text": [
      "Using 16-bit Automatic Mixed Precision (AMP)\n"
     ]
    }
   ],
   "source": [
    "from lightning import Fabric\n",
    "fabric = Fabric(accelerator=\"cuda\", devices=1, precision=\"16-mixed\")\n",
    "fabric.launch()\n",
    "\n",
    "optimizer = torch.optim.Adam(model.parameters(), lr=1e-4)\n",
    "\n",
    "model, optimizer = fabric.setup(model, optimizer)\n",
    "\n",
    "training_loader, validating_loader = fabric.setup_dataloaders(\n",
    "    training_loader, validating_loader)\n"
   ]
  },
  {
   "cell_type": "code",
   "execution_count": 19,
   "id": "a7ac3f04",
   "metadata": {},
   "outputs": [],
   "source": [
    "import torchmetrics\n",
    "\n",
    "def train(num_epochs, model, optimizer, train_loader, val_loader, fabric, accumulation_steps = 4, num_classes = 20):\n",
    "    metrics = {}\n",
    "    for epoch in range(num_epochs):\n",
    "        # metrics : accuracy, precision, recall, f1-score, \n",
    "        train_acc = torchmetrics.Accuracy(\n",
    "            task=\"multiclass\", num_classes=num_classes).to(fabric.device)\n",
    "        train_prec = torchmetrics.Precision(\n",
    "            task=\"multiclass\", num_classes=num_classes).to(fabric.device)\n",
    "        train_recall = torchmetrics.Recall(\n",
    "            task=\"multiclass\", num_classes=num_classes).to(fabric.device)\n",
    "        train_f1score = torchmetrics.F1Score(\n",
    "            task=\"multiclass\", num_classes=num_classes).to(fabric.device)\n",
    "        \n",
    "        # going over train_loaders\n",
    "        for batch_idx, batch in enumerate(train_loader):\n",
    "            model.train()\n",
    "\n",
    "            ### FORWARD AND BACK PROP\n",
    "            outputs = model(**batch) \n",
    "            \n",
    "            ### gradient accumulation\n",
    "            assert isinstance(accumulation_steps, int)\n",
    "            if accumulation_steps > 1:\n",
    "                outputs.loss = outputs.loss / accumulation_steps\n",
    "                fabric.backward(outputs.loss)\n",
    "                if not batch_idx % accumulation_steps:\n",
    "            ### UPDATE MODEL PARAMETERS\n",
    "                    optimizer.step()\n",
    "                    optimizer.zero_grad()\n",
    "            elif accumulation_steps in [0,1]:\n",
    "                fabric.backward(outputs.loss)\n",
    "            ### UPDATE MODEL PARAMETERS\n",
    "                optimizer.step()\n",
    "                optimizer.zero_grad()\n",
    "            else:\n",
    "                raise AttributeError(\"accumulation steps can't be negative\")\n",
    "            \n",
    "\n",
    "            ### LOGGING\n",
    "            if not batch_idx % 500:\n",
    "                print(f\"Epoch: {epoch:04d}/{num_epochs:04d} \"\n",
    "                      f\"| Batch {batch_idx+1:04d}/{len(train_loader):04d} \"\n",
    "                      f\"| Loss: {outputs.loss *accumulation_steps:.4f}\")\n",
    "\n",
    "            model.eval()\n",
    "            with torch.no_grad():\n",
    "                predicted_labels = torch.argmax(outputs[\"logits\"], 1)\n",
    "                train_acc.update(predicted_labels, batch[\"shares_class\"]) #accuracy\n",
    "                train_prec.update(predicted_labels, batch[\"shares_class\"]) # precision\n",
    "                train_recall.update(predicted_labels, batch[\"shares_class\"]) # recall\n",
    "                train_f1score.update(predicted_labels, batch[\"shares_class\"]) # f1-score\n",
    "                \n",
    "        # At the end of each epoch,\n",
    "        ### MORE LOGGING\n",
    "        model.eval()\n",
    "        with torch.no_grad():\n",
    "            val_acc = torchmetrics.Accuracy( task=\"multiclass\", num_classes=num_classes).to(fabric.device)\n",
    "            val_prec = torchmetrics.Precision( task=\"multiclass\", num_classes=num_classes).to(fabric.device)\n",
    "            val_recall = torchmetrics.Recall( task=\"multiclass\", num_classes=num_classes).to(fabric.device)\n",
    "            val_f1score = torchmetrics.F1Score( task=\"multiclass\", num_classes=num_classes).to(fabric.device)\n",
    "            \n",
    "            for batch in val_loader:\n",
    "                outputs = model(**batch)\n",
    "                predicted_labels = torch.argmax(outputs[\"logits\"], 1)\n",
    "                val_acc.update(predicted_labels, batch[\"shares_class\"]) #accuracy\n",
    "                val_prec.update(predicted_labels, batch[\"shares_class\"]) # precision\n",
    "                val_recall.update(predicted_labels, batch[\"shares_class\"]) # recall\n",
    "                val_f1score.update(predicted_labels, batch[\"shares_class\"]) # f1-score\n",
    "\n",
    "            print(f\"Epoch: {epoch+1:04d}/{num_epochs:04d} \\n\"\n",
    "                  f\"| Train acc.: {train_acc.compute()*100:.2f}% \"\n",
    "                  f\"| Val acc.: {val_acc.compute()*100:.2f}% \\n\"\n",
    "                  f\"| Train prec.: {train_prec.compute()*100:.2f}% \"\n",
    "                  f\"| Val prec.: {val_prec.compute()*100:.2f}% \\n\"\n",
    "                  f\"| Train recall.: {train_recall.compute()*100:.2f}% \"\n",
    "                  f\"| Val recall.: {val_recall.compute()*100:.2f}% \\n\"\n",
    "                  f\"| Train f1score.: {train_f1score.compute()*100:.2f}% \"\n",
    "                  f\"| Val f1score.: {val_f1score.compute()*100:.2f}% \\n\"\n",
    "                  )\n",
    "            metrics[f\"epoch_{epoch}\"] = {'Train': {'Accuracy': train_acc.compute(),\n",
    "                                                  'Precision': train_prec.compute(),\n",
    "                                                  'Recall': train_recall.compute(),\n",
    "                                                  'F1 Score': train_f1score.compute()},\n",
    "                                        'Validation': {'Accuracy': val_acc.compute(),\n",
    "                                                  'Precision': val_prec.compute(),\n",
    "                                                  'Recall': val_recall.compute(),\n",
    "                                                  'F1 Score': val_f1score.compute()}}\n",
    "            \n",
    "            train_acc.reset(), val_acc.reset(); train_prec.reset(), val_prec.reset(); train_recall.reset(), val_recall.reset()\n",
    "            train_f1score.reset(), val_f1score.reset()\n",
    "            \n",
    "    return metrics"
   ]
  },
  {
   "cell_type": "markdown",
   "id": "c4257e99",
   "metadata": {},
   "source": [
    "Total epochs 25"
   ]
  },
  {
   "cell_type": "code",
   "execution_count": 20,
   "id": "ebe94026",
   "metadata": {
    "scrolled": true
   },
   "outputs": [
    {
     "name": "stdout",
     "output_type": "stream",
     "text": [
      "Epoch: 0000/0025 | Batch 0001/3961 | Loss: 3.0144\n",
      "Epoch: 0000/0025 | Batch 0501/3961 | Loss: 2.9800\n",
      "Epoch: 0000/0025 | Batch 1001/3961 | Loss: 3.0894\n",
      "Epoch: 0000/0025 | Batch 1501/3961 | Loss: 3.0764\n",
      "Epoch: 0000/0025 | Batch 2001/3961 | Loss: 3.0454\n",
      "Epoch: 0000/0025 | Batch 2501/3961 | Loss: 2.9731\n",
      "Epoch: 0000/0025 | Batch 3001/3961 | Loss: 3.0344\n",
      "Epoch: 0000/0025 | Batch 3501/3961 | Loss: 3.0195\n",
      "Epoch: 0001/0025 \n",
      "| Train acc.: 5.57% | Val acc.: 5.36% \n",
      "| Train prec.: 5.57% | Val prec.: 5.36% \n",
      "| Train recall.: 5.57% | Val recall.: 5.36% \n",
      "| Train f1score.: 5.57% | Val f1score.: 5.36% \n",
      "\n",
      "Epoch: 0001/0025 | Batch 0001/3961 | Loss: 3.1086\n",
      "Epoch: 0001/0025 | Batch 0501/3961 | Loss: 3.0977\n",
      "Epoch: 0001/0025 | Batch 1001/3961 | Loss: 3.0261\n",
      "Epoch: 0001/0025 | Batch 1501/3961 | Loss: 3.0073\n",
      "Epoch: 0001/0025 | Batch 2001/3961 | Loss: 3.0681\n",
      "Epoch: 0001/0025 | Batch 2501/3961 | Loss: 3.0251\n",
      "Epoch: 0001/0025 | Batch 3001/3961 | Loss: 3.0227\n",
      "Epoch: 0001/0025 | Batch 3501/3961 | Loss: 2.9348\n",
      "Epoch: 0002/0025 \n",
      "| Train acc.: 5.86% | Val acc.: 6.34% \n",
      "| Train prec.: 5.86% | Val prec.: 6.34% \n",
      "| Train recall.: 5.86% | Val recall.: 6.34% \n",
      "| Train f1score.: 5.86% | Val f1score.: 6.34% \n",
      "\n",
      "Epoch: 0002/0025 | Batch 0001/3961 | Loss: 2.9236\n",
      "Epoch: 0002/0025 | Batch 0501/3961 | Loss: 2.9949\n",
      "Epoch: 0002/0025 | Batch 1001/3961 | Loss: 3.1313\n",
      "Epoch: 0002/0025 | Batch 1501/3961 | Loss: 2.9956\n",
      "Epoch: 0002/0025 | Batch 2001/3961 | Loss: 2.9824\n",
      "Epoch: 0002/0025 | Batch 2501/3961 | Loss: 3.0027\n",
      "Epoch: 0002/0025 | Batch 3001/3961 | Loss: 2.9470\n",
      "Epoch: 0002/0025 | Batch 3501/3961 | Loss: 3.0505\n",
      "Epoch: 0003/0025 \n",
      "| Train acc.: 6.07% | Val acc.: 6.34% \n",
      "| Train prec.: 6.07% | Val prec.: 6.34% \n",
      "| Train recall.: 6.07% | Val recall.: 6.34% \n",
      "| Train f1score.: 6.07% | Val f1score.: 6.34% \n",
      "\n",
      "Epoch: 0003/0025 | Batch 0001/3961 | Loss: 2.9221\n",
      "Epoch: 0003/0025 | Batch 0501/3961 | Loss: 3.0332\n",
      "Epoch: 0003/0025 | Batch 1001/3961 | Loss: 2.9380\n",
      "Epoch: 0003/0025 | Batch 1501/3961 | Loss: 3.0632\n",
      "Epoch: 0003/0025 | Batch 2001/3961 | Loss: 2.9543\n",
      "Epoch: 0003/0025 | Batch 2501/3961 | Loss: 2.9929\n",
      "Epoch: 0003/0025 | Batch 3001/3961 | Loss: 3.0281\n",
      "Epoch: 0003/0025 | Batch 3501/3961 | Loss: 3.0110\n",
      "Epoch: 0004/0025 \n",
      "| Train acc.: 6.07% | Val acc.: 6.34% \n",
      "| Train prec.: 6.07% | Val prec.: 6.34% \n",
      "| Train recall.: 6.07% | Val recall.: 6.34% \n",
      "| Train f1score.: 6.07% | Val f1score.: 6.34% \n",
      "\n",
      "Epoch: 0004/0025 | Batch 0001/3961 | Loss: 2.9265\n",
      "Epoch: 0004/0025 | Batch 0501/3961 | Loss: 3.0728\n",
      "Epoch: 0004/0025 | Batch 1001/3961 | Loss: 3.0347\n",
      "Epoch: 0004/0025 | Batch 1501/3961 | Loss: 2.9673\n",
      "Epoch: 0004/0025 | Batch 2001/3961 | Loss: 2.9036\n",
      "Epoch: 0004/0025 | Batch 2501/3961 | Loss: 2.9771\n",
      "Epoch: 0004/0025 | Batch 3001/3961 | Loss: 2.9541\n",
      "Epoch: 0004/0025 | Batch 3501/3961 | Loss: 2.9763\n",
      "Epoch: 0005/0025 \n",
      "| Train acc.: 6.16% | Val acc.: 6.41% \n",
      "| Train prec.: 6.16% | Val prec.: 6.41% \n",
      "| Train recall.: 6.16% | Val recall.: 6.41% \n",
      "| Train f1score.: 6.16% | Val f1score.: 6.41% \n",
      "\n",
      "Epoch: 0005/0025 | Batch 0001/3961 | Loss: 3.0417\n",
      "Epoch: 0005/0025 | Batch 0501/3961 | Loss: 3.0554\n",
      "Epoch: 0005/0025 | Batch 1001/3961 | Loss: 2.9939\n",
      "Epoch: 0005/0025 | Batch 1501/3961 | Loss: 2.9265\n",
      "Epoch: 0005/0025 | Batch 2001/3961 | Loss: 2.9885\n",
      "Epoch: 0005/0025 | Batch 2501/3961 | Loss: 3.0144\n",
      "Epoch: 0005/0025 | Batch 3001/3961 | Loss: 2.9636\n",
      "Epoch: 0005/0025 | Batch 3501/3961 | Loss: 2.8843\n",
      "Epoch: 0006/0025 \n",
      "| Train acc.: 6.31% | Val acc.: 6.41% \n",
      "| Train prec.: 6.31% | Val prec.: 6.41% \n",
      "| Train recall.: 6.31% | Val recall.: 6.41% \n",
      "| Train f1score.: 6.31% | Val f1score.: 6.41% \n",
      "\n",
      "Epoch: 0006/0025 | Batch 0001/3961 | Loss: 2.9888\n",
      "Epoch: 0006/0025 | Batch 0501/3961 | Loss: 2.9470\n",
      "Epoch: 0006/0025 | Batch 1001/3961 | Loss: 2.9453\n",
      "Epoch: 0006/0025 | Batch 1501/3961 | Loss: 2.9888\n",
      "Epoch: 0006/0025 | Batch 2001/3961 | Loss: 3.0137\n",
      "Epoch: 0006/0025 | Batch 2501/3961 | Loss: 3.0063\n",
      "Epoch: 0006/0025 | Batch 3001/3961 | Loss: 2.9348\n",
      "Epoch: 0006/0025 | Batch 3501/3961 | Loss: 3.0896\n",
      "Epoch: 0007/0025 \n",
      "| Train acc.: 6.04% | Val acc.: 6.34% \n",
      "| Train prec.: 6.04% | Val prec.: 6.34% \n",
      "| Train recall.: 6.04% | Val recall.: 6.34% \n",
      "| Train f1score.: 6.04% | Val f1score.: 6.34% \n",
      "\n",
      "Epoch: 0007/0025 | Batch 0001/3961 | Loss: 2.9568\n",
      "Epoch: 0007/0025 | Batch 0501/3961 | Loss: 3.0479\n",
      "Epoch: 0007/0025 | Batch 1001/3961 | Loss: 3.0227\n",
      "Epoch: 0007/0025 | Batch 1501/3961 | Loss: 2.9644\n",
      "Epoch: 0007/0025 | Batch 2001/3961 | Loss: 2.9651\n",
      "Epoch: 0007/0025 | Batch 2501/3961 | Loss: 3.0149\n",
      "Epoch: 0007/0025 | Batch 3001/3961 | Loss: 3.0398\n",
      "Epoch: 0007/0025 | Batch 3501/3961 | Loss: 2.9973\n"
     ]
    },
    {
     "data": {
      "text/html": [
       "<pre style=\"white-space:pre;overflow-x:auto;line-height:normal;font-family:Menlo,'DejaVu Sans Mono',consolas,'Courier New',monospace\"><span style=\"color: #800000; text-decoration-color: #800000\">╭─────────────────────────────── </span><span style=\"color: #800000; text-decoration-color: #800000; font-weight: bold\">Traceback </span><span style=\"color: #bf7f7f; text-decoration-color: #bf7f7f; font-weight: bold\">(most recent call last)</span><span style=\"color: #800000; text-decoration-color: #800000\"> ────────────────────────────────╮</span>\n",
       "<span style=\"color: #800000; text-decoration-color: #800000\">│</span> in <span style=\"color: #00ff00; text-decoration-color: #00ff00\">&lt;module&gt;</span>:<span style=\"color: #0000ff; text-decoration-color: #0000ff\">1</span>                                                                                    <span style=\"color: #800000; text-decoration-color: #800000\">│</span>\n",
       "<span style=\"color: #800000; text-decoration-color: #800000\">│</span>                                                                                                  <span style=\"color: #800000; text-decoration-color: #800000\">│</span>\n",
       "<span style=\"color: #800000; text-decoration-color: #800000\">│</span> <span style=\"color: #800000; text-decoration-color: #800000\">❱ </span>1 metrics_result = train(<span style=\"color: #0000ff; text-decoration-color: #0000ff\">25</span>, model, optimizer, training_loader, validating_loader,fabric)      <span style=\"color: #800000; text-decoration-color: #800000\">│</span>\n",
       "<span style=\"color: #800000; text-decoration-color: #800000\">│</span>   <span style=\"color: #7f7f7f; text-decoration-color: #7f7f7f\">2 </span>                                                                                             <span style=\"color: #800000; text-decoration-color: #800000\">│</span>\n",
       "<span style=\"color: #800000; text-decoration-color: #800000\">│</span>                                                                                                  <span style=\"color: #800000; text-decoration-color: #800000\">│</span>\n",
       "<span style=\"color: #800000; text-decoration-color: #800000\">│</span> in <span style=\"color: #00ff00; text-decoration-color: #00ff00\">train</span>:<span style=\"color: #0000ff; text-decoration-color: #0000ff\">67</span>                                                                                      <span style=\"color: #800000; text-decoration-color: #800000\">│</span>\n",
       "<span style=\"color: #800000; text-decoration-color: #800000\">│</span>                                                                                                  <span style=\"color: #800000; text-decoration-color: #800000\">│</span>\n",
       "<span style=\"color: #800000; text-decoration-color: #800000\">│</span>   <span style=\"color: #7f7f7f; text-decoration-color: #7f7f7f\">64 │   │   │   </span><span style=\"color: #0000ff; text-decoration-color: #0000ff\">for</span> batch <span style=\"color: #ff00ff; text-decoration-color: #ff00ff\">in</span> val_loader:                                                        <span style=\"color: #800000; text-decoration-color: #800000\">│</span>\n",
       "<span style=\"color: #800000; text-decoration-color: #800000\">│</span>   <span style=\"color: #7f7f7f; text-decoration-color: #7f7f7f\">65 │   │   │   │   </span>outputs = model(**batch)                                                    <span style=\"color: #800000; text-decoration-color: #800000\">│</span>\n",
       "<span style=\"color: #800000; text-decoration-color: #800000\">│</span>   <span style=\"color: #7f7f7f; text-decoration-color: #7f7f7f\">66 │   │   │   │   </span>predicted_labels = torch.argmax(outputs[<span style=\"color: #808000; text-decoration-color: #808000\">\"logits\"</span>], <span style=\"color: #0000ff; text-decoration-color: #0000ff\">1</span>)                       <span style=\"color: #800000; text-decoration-color: #800000\">│</span>\n",
       "<span style=\"color: #800000; text-decoration-color: #800000\">│</span> <span style=\"color: #800000; text-decoration-color: #800000\">❱ </span>67 <span style=\"color: #7f7f7f; text-decoration-color: #7f7f7f\">│   │   │   │   </span>val_acc.update(predicted_labels, batch[<span style=\"color: #808000; text-decoration-color: #808000\">\"shares_class\"</span>]) <span style=\"color: #7f7f7f; text-decoration-color: #7f7f7f\">#accuracy</span>           <span style=\"color: #800000; text-decoration-color: #800000\">│</span>\n",
       "<span style=\"color: #800000; text-decoration-color: #800000\">│</span>   <span style=\"color: #7f7f7f; text-decoration-color: #7f7f7f\">68 │   │   │   │   </span>val_prec.update(predicted_labels, batch[<span style=\"color: #808000; text-decoration-color: #808000\">\"shares_class\"</span>]) <span style=\"color: #7f7f7f; text-decoration-color: #7f7f7f\"># precision</span>        <span style=\"color: #800000; text-decoration-color: #800000\">│</span>\n",
       "<span style=\"color: #800000; text-decoration-color: #800000\">│</span>   <span style=\"color: #7f7f7f; text-decoration-color: #7f7f7f\">69 │   │   │   │   </span>val_recall.update(predicted_labels, batch[<span style=\"color: #808000; text-decoration-color: #808000\">\"shares_class\"</span>]) <span style=\"color: #7f7f7f; text-decoration-color: #7f7f7f\"># recall</span>         <span style=\"color: #800000; text-decoration-color: #800000\">│</span>\n",
       "<span style=\"color: #800000; text-decoration-color: #800000\">│</span>   <span style=\"color: #7f7f7f; text-decoration-color: #7f7f7f\">70 │   │   │   │   </span>val_f1score.update(predicted_labels, batch[<span style=\"color: #808000; text-decoration-color: #808000\">\"shares_class\"</span>]) <span style=\"color: #7f7f7f; text-decoration-color: #7f7f7f\"># f1-score</span>      <span style=\"color: #800000; text-decoration-color: #800000\">│</span>\n",
       "<span style=\"color: #800000; text-decoration-color: #800000\">│</span>                                                                                                  <span style=\"color: #800000; text-decoration-color: #800000\">│</span>\n",
       "<span style=\"color: #800000; text-decoration-color: #800000\">│</span> <span style=\"color: #bfbf7f; text-decoration-color: #bfbf7f\">/home/leeparkuky/.local/lib/python3.10/site-packages/torchmetrics/</span><span style=\"color: #808000; text-decoration-color: #808000; font-weight: bold\">metric.py</span>:<span style=\"color: #0000ff; text-decoration-color: #0000ff\">390</span> in <span style=\"color: #00ff00; text-decoration-color: #00ff00\">wrapped_func</span>  <span style=\"color: #800000; text-decoration-color: #800000\">│</span>\n",
       "<span style=\"color: #800000; text-decoration-color: #800000\">│</span>                                                                                                  <span style=\"color: #800000; text-decoration-color: #800000\">│</span>\n",
       "<span style=\"color: #800000; text-decoration-color: #800000\">│</span>   <span style=\"color: #7f7f7f; text-decoration-color: #7f7f7f\">387 │   │   │   </span><span style=\"color: #00ffff; text-decoration-color: #00ffff\">self</span>._update_count += <span style=\"color: #0000ff; text-decoration-color: #0000ff\">1</span>                                                        <span style=\"color: #800000; text-decoration-color: #800000\">│</span>\n",
       "<span style=\"color: #800000; text-decoration-color: #800000\">│</span>   <span style=\"color: #7f7f7f; text-decoration-color: #7f7f7f\">388 │   │   │   </span><span style=\"color: #0000ff; text-decoration-color: #0000ff\">with</span> torch.set_grad_enabled(<span style=\"color: #00ffff; text-decoration-color: #00ffff\">self</span>._enable_grad):                                <span style=\"color: #800000; text-decoration-color: #800000\">│</span>\n",
       "<span style=\"color: #800000; text-decoration-color: #800000\">│</span>   <span style=\"color: #7f7f7f; text-decoration-color: #7f7f7f\">389 │   │   │   │   </span><span style=\"color: #0000ff; text-decoration-color: #0000ff\">try</span>:                                                                       <span style=\"color: #800000; text-decoration-color: #800000\">│</span>\n",
       "<span style=\"color: #800000; text-decoration-color: #800000\">│</span> <span style=\"color: #800000; text-decoration-color: #800000\">❱ </span>390 <span style=\"color: #7f7f7f; text-decoration-color: #7f7f7f\">│   │   │   │   │   </span>update(*args, **kwargs)                                                <span style=\"color: #800000; text-decoration-color: #800000\">│</span>\n",
       "<span style=\"color: #800000; text-decoration-color: #800000\">│</span>   <span style=\"color: #7f7f7f; text-decoration-color: #7f7f7f\">391 │   │   │   │   </span><span style=\"color: #0000ff; text-decoration-color: #0000ff\">except</span> <span style=\"color: #00ffff; text-decoration-color: #00ffff\">RuntimeError</span> <span style=\"color: #0000ff; text-decoration-color: #0000ff\">as</span> err:                                                <span style=\"color: #800000; text-decoration-color: #800000\">│</span>\n",
       "<span style=\"color: #800000; text-decoration-color: #800000\">│</span>   <span style=\"color: #7f7f7f; text-decoration-color: #7f7f7f\">392 │   │   │   │   │   </span><span style=\"color: #0000ff; text-decoration-color: #0000ff\">if</span> <span style=\"color: #808000; text-decoration-color: #808000\">\"Expected all tensors to be on\"</span> <span style=\"color: #ff00ff; text-decoration-color: #ff00ff\">in</span> <span style=\"color: #00ffff; text-decoration-color: #00ffff\">str</span>(err):                        <span style=\"color: #800000; text-decoration-color: #800000\">│</span>\n",
       "<span style=\"color: #800000; text-decoration-color: #800000\">│</span>   <span style=\"color: #7f7f7f; text-decoration-color: #7f7f7f\">393 │   │   │   │   │   │   </span><span style=\"color: #0000ff; text-decoration-color: #0000ff\">raise</span> <span style=\"color: #00ffff; text-decoration-color: #00ffff\">RuntimeError</span>(                                                <span style=\"color: #800000; text-decoration-color: #800000\">│</span>\n",
       "<span style=\"color: #800000; text-decoration-color: #800000\">│</span>                                                                                                  <span style=\"color: #800000; text-decoration-color: #800000\">│</span>\n",
       "<span style=\"color: #800000; text-decoration-color: #800000\">│</span> <span style=\"color: #bfbf7f; text-decoration-color: #bfbf7f\">/home/leeparkuky/.local/lib/python3.10/site-packages/torchmetrics/classification/</span><span style=\"color: #808000; text-decoration-color: #808000; font-weight: bold\">stat_scores.py</span>: <span style=\"color: #800000; text-decoration-color: #800000\">│</span>\n",
       "<span style=\"color: #800000; text-decoration-color: #800000\">│</span> <span style=\"color: #0000ff; text-decoration-color: #0000ff\">315</span> in <span style=\"color: #00ff00; text-decoration-color: #00ff00\">update</span>                                                                                    <span style=\"color: #800000; text-decoration-color: #800000\">│</span>\n",
       "<span style=\"color: #800000; text-decoration-color: #800000\">│</span>                                                                                                  <span style=\"color: #800000; text-decoration-color: #800000\">│</span>\n",
       "<span style=\"color: #800000; text-decoration-color: #800000\">│</span>   <span style=\"color: #7f7f7f; text-decoration-color: #7f7f7f\">312 │   </span><span style=\"color: #0000ff; text-decoration-color: #0000ff\">def</span> <span style=\"color: #00ff00; text-decoration-color: #00ff00\">update</span>(<span style=\"color: #00ffff; text-decoration-color: #00ffff\">self</span>, preds: Tensor, target: Tensor) -&gt; <span style=\"color: #0000ff; text-decoration-color: #0000ff\">None</span>:  <span style=\"color: #7f7f7f; text-decoration-color: #7f7f7f\"># type: ignore</span>               <span style=\"color: #800000; text-decoration-color: #800000\">│</span>\n",
       "<span style=\"color: #800000; text-decoration-color: #800000\">│</span>   <span style=\"color: #7f7f7f; text-decoration-color: #7f7f7f\">313 </span><span style=\"color: #bfbfbf; text-decoration-color: #bfbfbf\">│   │   </span><span style=\"color: #808000; text-decoration-color: #808000\">\"\"\"Update state with predictions and targets.\"\"\"</span>                                   <span style=\"color: #800000; text-decoration-color: #800000\">│</span>\n",
       "<span style=\"color: #800000; text-decoration-color: #800000\">│</span>   <span style=\"color: #7f7f7f; text-decoration-color: #7f7f7f\">314 │   │   </span><span style=\"color: #0000ff; text-decoration-color: #0000ff\">if</span> <span style=\"color: #00ffff; text-decoration-color: #00ffff\">self</span>.validate_args:                                                             <span style=\"color: #800000; text-decoration-color: #800000\">│</span>\n",
       "<span style=\"color: #800000; text-decoration-color: #800000\">│</span> <span style=\"color: #800000; text-decoration-color: #800000\">❱ </span>315 <span style=\"color: #7f7f7f; text-decoration-color: #7f7f7f\">│   │   │   </span>_multiclass_stat_scores_tensor_validation(                                     <span style=\"color: #800000; text-decoration-color: #800000\">│</span>\n",
       "<span style=\"color: #800000; text-decoration-color: #800000\">│</span>   <span style=\"color: #7f7f7f; text-decoration-color: #7f7f7f\">316 │   │   │   │   </span>preds, target, <span style=\"color: #00ffff; text-decoration-color: #00ffff\">self</span>.num_classes, <span style=\"color: #00ffff; text-decoration-color: #00ffff\">self</span>.multidim_average, <span style=\"color: #00ffff; text-decoration-color: #00ffff\">self</span>.ignore_inde   <span style=\"color: #800000; text-decoration-color: #800000\">│</span>\n",
       "<span style=\"color: #800000; text-decoration-color: #800000\">│</span>   <span style=\"color: #7f7f7f; text-decoration-color: #7f7f7f\">317 │   │   │   </span>)                                                                              <span style=\"color: #800000; text-decoration-color: #800000\">│</span>\n",
       "<span style=\"color: #800000; text-decoration-color: #800000\">│</span>   <span style=\"color: #7f7f7f; text-decoration-color: #7f7f7f\">318 │   │   </span>preds, target = _multiclass_stat_scores_format(preds, target, <span style=\"color: #00ffff; text-decoration-color: #00ffff\">self</span>.top_k)          <span style=\"color: #800000; text-decoration-color: #800000\">│</span>\n",
       "<span style=\"color: #800000; text-decoration-color: #800000\">│</span>                                                                                                  <span style=\"color: #800000; text-decoration-color: #800000\">│</span>\n",
       "<span style=\"color: #800000; text-decoration-color: #800000\">│</span> <span style=\"color: #bfbf7f; text-decoration-color: #bfbf7f\">/home/leeparkuky/.local/lib/python3.10/site-packages/torchmetrics/functional/classification/</span><span style=\"color: #808000; text-decoration-color: #808000; font-weight: bold\">stat</span> <span style=\"color: #800000; text-decoration-color: #800000\">│</span>\n",
       "<span style=\"color: #800000; text-decoration-color: #800000\">│</span> <span style=\"color: #808000; text-decoration-color: #808000; font-weight: bold\">_scores.py</span>:<span style=\"color: #0000ff; text-decoration-color: #0000ff\">303</span> in <span style=\"color: #00ff00; text-decoration-color: #00ff00\">_multiclass_stat_scores_tensor_validation</span>                                      <span style=\"color: #800000; text-decoration-color: #800000\">│</span>\n",
       "<span style=\"color: #800000; text-decoration-color: #800000\">│</span>                                                                                                  <span style=\"color: #800000; text-decoration-color: #800000\">│</span>\n",
       "<span style=\"color: #800000; text-decoration-color: #800000\">│</span>   <span style=\"color: #7f7f7f; text-decoration-color: #7f7f7f\"> 300 │   │   │   </span><span style=\"color: #808000; text-decoration-color: #808000\">\" and `preds` should be (N, C, ...).\"</span>                                         <span style=\"color: #800000; text-decoration-color: #800000\">│</span>\n",
       "<span style=\"color: #800000; text-decoration-color: #800000\">│</span>   <span style=\"color: #7f7f7f; text-decoration-color: #7f7f7f\"> 301 │   │   </span>)                                                                                 <span style=\"color: #800000; text-decoration-color: #800000\">│</span>\n",
       "<span style=\"color: #800000; text-decoration-color: #800000\">│</span>   <span style=\"color: #7f7f7f; text-decoration-color: #7f7f7f\"> 302 │   </span>                                                                                      <span style=\"color: #800000; text-decoration-color: #800000\">│</span>\n",
       "<span style=\"color: #800000; text-decoration-color: #800000\">│</span> <span style=\"color: #800000; text-decoration-color: #800000\">❱ </span> 303 <span style=\"color: #7f7f7f; text-decoration-color: #7f7f7f\">│   </span>num_unique_values = <span style=\"color: #00ffff; text-decoration-color: #00ffff\">len</span>(torch.unique(target))                                         <span style=\"color: #800000; text-decoration-color: #800000\">│</span>\n",
       "<span style=\"color: #800000; text-decoration-color: #800000\">│</span>   <span style=\"color: #7f7f7f; text-decoration-color: #7f7f7f\"> 304 │   </span><span style=\"color: #0000ff; text-decoration-color: #0000ff\">if</span> ignore_index <span style=\"color: #ff00ff; text-decoration-color: #ff00ff\">is</span> <span style=\"color: #0000ff; text-decoration-color: #0000ff\">None</span>:                                                              <span style=\"color: #800000; text-decoration-color: #800000\">│</span>\n",
       "<span style=\"color: #800000; text-decoration-color: #800000\">│</span>   <span style=\"color: #7f7f7f; text-decoration-color: #7f7f7f\"> 305 │   │   </span>check = num_unique_values &gt; num_classes                                           <span style=\"color: #800000; text-decoration-color: #800000\">│</span>\n",
       "<span style=\"color: #800000; text-decoration-color: #800000\">│</span>   <span style=\"color: #7f7f7f; text-decoration-color: #7f7f7f\"> 306 │   </span><span style=\"color: #0000ff; text-decoration-color: #0000ff\">else</span>:                                                                                 <span style=\"color: #800000; text-decoration-color: #800000\">│</span>\n",
       "<span style=\"color: #800000; text-decoration-color: #800000\">│</span>                                                                                                  <span style=\"color: #800000; text-decoration-color: #800000\">│</span>\n",
       "<span style=\"color: #800000; text-decoration-color: #800000\">│</span> <span style=\"color: #bfbf7f; text-decoration-color: #bfbf7f\">/home/leeparkuky/.local/lib/python3.10/site-packages/torch/</span><span style=\"color: #808000; text-decoration-color: #808000; font-weight: bold\">_jit_internal.py</span>:<span style=\"color: #0000ff; text-decoration-color: #0000ff\">484</span> in <span style=\"color: #00ff00; text-decoration-color: #00ff00\">fn</span>            <span style=\"color: #800000; text-decoration-color: #800000\">│</span>\n",
       "<span style=\"color: #800000; text-decoration-color: #800000\">│</span>                                                                                                  <span style=\"color: #800000; text-decoration-color: #800000\">│</span>\n",
       "<span style=\"color: #800000; text-decoration-color: #800000\">│</span>   <span style=\"color: #7f7f7f; text-decoration-color: #7f7f7f\"> 481 │   │   </span><span style=\"color: #0000ff; text-decoration-color: #0000ff\">if</span> dispatch_flag:                                                                 <span style=\"color: #800000; text-decoration-color: #800000\">│</span>\n",
       "<span style=\"color: #800000; text-decoration-color: #800000\">│</span>   <span style=\"color: #7f7f7f; text-decoration-color: #7f7f7f\"> 482 │   │   │   </span><span style=\"color: #0000ff; text-decoration-color: #0000ff\">return</span> if_true(*args, **kwargs)                                               <span style=\"color: #800000; text-decoration-color: #800000\">│</span>\n",
       "<span style=\"color: #800000; text-decoration-color: #800000\">│</span>   <span style=\"color: #7f7f7f; text-decoration-color: #7f7f7f\"> 483 │   │   </span><span style=\"color: #0000ff; text-decoration-color: #0000ff\">else</span>:                                                                             <span style=\"color: #800000; text-decoration-color: #800000\">│</span>\n",
       "<span style=\"color: #800000; text-decoration-color: #800000\">│</span> <span style=\"color: #800000; text-decoration-color: #800000\">❱ </span> 484 <span style=\"color: #7f7f7f; text-decoration-color: #7f7f7f\">│   │   │   </span><span style=\"color: #0000ff; text-decoration-color: #0000ff\">return</span> if_false(*args, **kwargs)                                              <span style=\"color: #800000; text-decoration-color: #800000\">│</span>\n",
       "<span style=\"color: #800000; text-decoration-color: #800000\">│</span>   <span style=\"color: #7f7f7f; text-decoration-color: #7f7f7f\"> 485 │   </span>                                                                                      <span style=\"color: #800000; text-decoration-color: #800000\">│</span>\n",
       "<span style=\"color: #800000; text-decoration-color: #800000\">│</span>   <span style=\"color: #7f7f7f; text-decoration-color: #7f7f7f\"> 486 │   </span><span style=\"color: #0000ff; text-decoration-color: #0000ff\">if</span> if_true.<span style=\"color: #ff0000; text-decoration-color: #ff0000\">__doc__</span> <span style=\"color: #ff00ff; text-decoration-color: #ff00ff\">is</span> <span style=\"color: #0000ff; text-decoration-color: #0000ff\">None</span> <span style=\"color: #ff00ff; text-decoration-color: #ff00ff\">and</span> if_false.<span style=\"color: #ff0000; text-decoration-color: #ff0000\">__doc__</span> <span style=\"color: #ff00ff; text-decoration-color: #ff00ff\">is</span> <span style=\"color: #ff00ff; text-decoration-color: #ff00ff\">not</span> <span style=\"color: #0000ff; text-decoration-color: #0000ff\">None</span>:                          <span style=\"color: #800000; text-decoration-color: #800000\">│</span>\n",
       "<span style=\"color: #800000; text-decoration-color: #800000\">│</span>   <span style=\"color: #7f7f7f; text-decoration-color: #7f7f7f\"> 487 │   │   </span>doc = if_false.<span style=\"color: #ff0000; text-decoration-color: #ff0000\">__doc__</span>                                                            <span style=\"color: #800000; text-decoration-color: #800000\">│</span>\n",
       "<span style=\"color: #800000; text-decoration-color: #800000\">│</span>                                                                                                  <span style=\"color: #800000; text-decoration-color: #800000\">│</span>\n",
       "<span style=\"color: #800000; text-decoration-color: #800000\">│</span> <span style=\"color: #bfbf7f; text-decoration-color: #bfbf7f\">/home/leeparkuky/.local/lib/python3.10/site-packages/torch/</span><span style=\"color: #808000; text-decoration-color: #808000; font-weight: bold\">_jit_internal.py</span>:<span style=\"color: #0000ff; text-decoration-color: #0000ff\">484</span> in <span style=\"color: #00ff00; text-decoration-color: #00ff00\">fn</span>            <span style=\"color: #800000; text-decoration-color: #800000\">│</span>\n",
       "<span style=\"color: #800000; text-decoration-color: #800000\">│</span>                                                                                                  <span style=\"color: #800000; text-decoration-color: #800000\">│</span>\n",
       "<span style=\"color: #800000; text-decoration-color: #800000\">│</span>   <span style=\"color: #7f7f7f; text-decoration-color: #7f7f7f\"> 481 │   │   </span><span style=\"color: #0000ff; text-decoration-color: #0000ff\">if</span> dispatch_flag:                                                                 <span style=\"color: #800000; text-decoration-color: #800000\">│</span>\n",
       "<span style=\"color: #800000; text-decoration-color: #800000\">│</span>   <span style=\"color: #7f7f7f; text-decoration-color: #7f7f7f\"> 482 │   │   │   </span><span style=\"color: #0000ff; text-decoration-color: #0000ff\">return</span> if_true(*args, **kwargs)                                               <span style=\"color: #800000; text-decoration-color: #800000\">│</span>\n",
       "<span style=\"color: #800000; text-decoration-color: #800000\">│</span>   <span style=\"color: #7f7f7f; text-decoration-color: #7f7f7f\"> 483 │   │   </span><span style=\"color: #0000ff; text-decoration-color: #0000ff\">else</span>:                                                                             <span style=\"color: #800000; text-decoration-color: #800000\">│</span>\n",
       "<span style=\"color: #800000; text-decoration-color: #800000\">│</span> <span style=\"color: #800000; text-decoration-color: #800000\">❱ </span> 484 <span style=\"color: #7f7f7f; text-decoration-color: #7f7f7f\">│   │   │   </span><span style=\"color: #0000ff; text-decoration-color: #0000ff\">return</span> if_false(*args, **kwargs)                                              <span style=\"color: #800000; text-decoration-color: #800000\">│</span>\n",
       "<span style=\"color: #800000; text-decoration-color: #800000\">│</span>   <span style=\"color: #7f7f7f; text-decoration-color: #7f7f7f\"> 485 │   </span>                                                                                      <span style=\"color: #800000; text-decoration-color: #800000\">│</span>\n",
       "<span style=\"color: #800000; text-decoration-color: #800000\">│</span>   <span style=\"color: #7f7f7f; text-decoration-color: #7f7f7f\"> 486 │   </span><span style=\"color: #0000ff; text-decoration-color: #0000ff\">if</span> if_true.<span style=\"color: #ff0000; text-decoration-color: #ff0000\">__doc__</span> <span style=\"color: #ff00ff; text-decoration-color: #ff00ff\">is</span> <span style=\"color: #0000ff; text-decoration-color: #0000ff\">None</span> <span style=\"color: #ff00ff; text-decoration-color: #ff00ff\">and</span> if_false.<span style=\"color: #ff0000; text-decoration-color: #ff0000\">__doc__</span> <span style=\"color: #ff00ff; text-decoration-color: #ff00ff\">is</span> <span style=\"color: #ff00ff; text-decoration-color: #ff00ff\">not</span> <span style=\"color: #0000ff; text-decoration-color: #0000ff\">None</span>:                          <span style=\"color: #800000; text-decoration-color: #800000\">│</span>\n",
       "<span style=\"color: #800000; text-decoration-color: #800000\">│</span>   <span style=\"color: #7f7f7f; text-decoration-color: #7f7f7f\"> 487 │   │   </span>doc = if_false.<span style=\"color: #ff0000; text-decoration-color: #ff0000\">__doc__</span>                                                            <span style=\"color: #800000; text-decoration-color: #800000\">│</span>\n",
       "<span style=\"color: #800000; text-decoration-color: #800000\">│</span>                                                                                                  <span style=\"color: #800000; text-decoration-color: #800000\">│</span>\n",
       "<span style=\"color: #800000; text-decoration-color: #800000\">│</span> <span style=\"color: #bfbf7f; text-decoration-color: #bfbf7f\">/home/leeparkuky/.local/lib/python3.10/site-packages/torch/</span><span style=\"color: #808000; text-decoration-color: #808000; font-weight: bold\">functional.py</span>:<span style=\"color: #0000ff; text-decoration-color: #0000ff\">885</span> in <span style=\"color: #00ff00; text-decoration-color: #00ff00\">_return_output</span>   <span style=\"color: #800000; text-decoration-color: #800000\">│</span>\n",
       "<span style=\"color: #800000; text-decoration-color: #800000\">│</span>                                                                                                  <span style=\"color: #800000; text-decoration-color: #800000\">│</span>\n",
       "<span style=\"color: #800000; text-decoration-color: #800000\">│</span>   <span style=\"color: #7f7f7f; text-decoration-color: #7f7f7f\"> 882 │   </span><span style=\"color: #0000ff; text-decoration-color: #0000ff\">if</span> has_torch_function_unary(<span style=\"color: #00ffff; text-decoration-color: #00ffff\">input</span>):                                                   <span style=\"color: #800000; text-decoration-color: #800000\">│</span>\n",
       "<span style=\"color: #800000; text-decoration-color: #800000\">│</span>   <span style=\"color: #7f7f7f; text-decoration-color: #7f7f7f\"> 883 │   │   </span><span style=\"color: #0000ff; text-decoration-color: #0000ff\">return</span> _unique_impl(<span style=\"color: #00ffff; text-decoration-color: #00ffff\">input</span>, <span style=\"color: #00ffff; text-decoration-color: #00ffff\">sorted</span>, return_inverse, return_counts, dim)            <span style=\"color: #800000; text-decoration-color: #800000\">│</span>\n",
       "<span style=\"color: #800000; text-decoration-color: #800000\">│</span>   <span style=\"color: #7f7f7f; text-decoration-color: #7f7f7f\"> 884 │   </span>                                                                                      <span style=\"color: #800000; text-decoration-color: #800000\">│</span>\n",
       "<span style=\"color: #800000; text-decoration-color: #800000\">│</span> <span style=\"color: #800000; text-decoration-color: #800000\">❱ </span> 885 <span style=\"color: #7f7f7f; text-decoration-color: #7f7f7f\">│   </span>output, _, _ = _unique_impl(<span style=\"color: #00ffff; text-decoration-color: #00ffff\">input</span>, <span style=\"color: #00ffff; text-decoration-color: #00ffff\">sorted</span>, return_inverse, return_counts, dim)        <span style=\"color: #800000; text-decoration-color: #800000\">│</span>\n",
       "<span style=\"color: #800000; text-decoration-color: #800000\">│</span>   <span style=\"color: #7f7f7f; text-decoration-color: #7f7f7f\"> 886 │   </span><span style=\"color: #0000ff; text-decoration-color: #0000ff\">return</span> output                                                                         <span style=\"color: #800000; text-decoration-color: #800000\">│</span>\n",
       "<span style=\"color: #800000; text-decoration-color: #800000\">│</span>   <span style=\"color: #7f7f7f; text-decoration-color: #7f7f7f\"> 887 </span>                                                                                          <span style=\"color: #800000; text-decoration-color: #800000\">│</span>\n",
       "<span style=\"color: #800000; text-decoration-color: #800000\">│</span>   <span style=\"color: #7f7f7f; text-decoration-color: #7f7f7f\"> 888 </span>                                                                                          <span style=\"color: #800000; text-decoration-color: #800000\">│</span>\n",
       "<span style=\"color: #800000; text-decoration-color: #800000\">│</span>                                                                                                  <span style=\"color: #800000; text-decoration-color: #800000\">│</span>\n",
       "<span style=\"color: #800000; text-decoration-color: #800000\">│</span> <span style=\"color: #bfbf7f; text-decoration-color: #bfbf7f\">/home/leeparkuky/.local/lib/python3.10/site-packages/torch/</span><span style=\"color: #808000; text-decoration-color: #808000; font-weight: bold\">functional.py</span>:<span style=\"color: #0000ff; text-decoration-color: #0000ff\">799</span> in <span style=\"color: #00ff00; text-decoration-color: #00ff00\">_unique_impl</span>     <span style=\"color: #800000; text-decoration-color: #800000\">│</span>\n",
       "<span style=\"color: #800000; text-decoration-color: #800000\">│</span>                                                                                                  <span style=\"color: #800000; text-decoration-color: #800000\">│</span>\n",
       "<span style=\"color: #800000; text-decoration-color: #800000\">│</span>   <span style=\"color: #7f7f7f; text-decoration-color: #7f7f7f\"> 796 │   │   │   </span>return_counts=return_counts,                                                  <span style=\"color: #800000; text-decoration-color: #800000\">│</span>\n",
       "<span style=\"color: #800000; text-decoration-color: #800000\">│</span>   <span style=\"color: #7f7f7f; text-decoration-color: #7f7f7f\"> 797 │   │   </span>)                                                                                 <span style=\"color: #800000; text-decoration-color: #800000\">│</span>\n",
       "<span style=\"color: #800000; text-decoration-color: #800000\">│</span>   <span style=\"color: #7f7f7f; text-decoration-color: #7f7f7f\"> 798 │   </span><span style=\"color: #0000ff; text-decoration-color: #0000ff\">else</span>:                                                                                 <span style=\"color: #800000; text-decoration-color: #800000\">│</span>\n",
       "<span style=\"color: #800000; text-decoration-color: #800000\">│</span> <span style=\"color: #800000; text-decoration-color: #800000\">❱ </span> 799 <span style=\"color: #7f7f7f; text-decoration-color: #7f7f7f\">│   │   </span>output, inverse_indices, counts = torch._unique2(                                 <span style=\"color: #800000; text-decoration-color: #800000\">│</span>\n",
       "<span style=\"color: #800000; text-decoration-color: #800000\">│</span>   <span style=\"color: #7f7f7f; text-decoration-color: #7f7f7f\"> 800 │   │   │   </span><span style=\"color: #00ffff; text-decoration-color: #00ffff\">input</span>,                                                                        <span style=\"color: #800000; text-decoration-color: #800000\">│</span>\n",
       "<span style=\"color: #800000; text-decoration-color: #800000\">│</span>   <span style=\"color: #7f7f7f; text-decoration-color: #7f7f7f\"> 801 │   │   │   </span><span style=\"color: #00ffff; text-decoration-color: #00ffff\">sorted</span>=<span style=\"color: #00ffff; text-decoration-color: #00ffff\">sorted</span>,                                                                <span style=\"color: #800000; text-decoration-color: #800000\">│</span>\n",
       "<span style=\"color: #800000; text-decoration-color: #800000\">│</span>   <span style=\"color: #7f7f7f; text-decoration-color: #7f7f7f\"> 802 │   │   │   </span>return_inverse=return_inverse,                                                <span style=\"color: #800000; text-decoration-color: #800000\">│</span>\n",
       "<span style=\"color: #800000; text-decoration-color: #800000\">╰──────────────────────────────────────────────────────────────────────────────────────────────────╯</span>\n",
       "<span style=\"color: #ff0000; text-decoration-color: #ff0000; font-weight: bold\">KeyboardInterrupt</span>\n",
       "</pre>\n"
      ],
      "text/plain": [
       "\u001b[31m╭─\u001b[0m\u001b[31m──────────────────────────────\u001b[0m\u001b[31m \u001b[0m\u001b[1;31mTraceback \u001b[0m\u001b[1;2;31m(most recent call last)\u001b[0m\u001b[31m \u001b[0m\u001b[31m───────────────────────────────\u001b[0m\u001b[31m─╮\u001b[0m\n",
       "\u001b[31m│\u001b[0m in \u001b[92m<module>\u001b[0m:\u001b[94m1\u001b[0m                                                                                    \u001b[31m│\u001b[0m\n",
       "\u001b[31m│\u001b[0m                                                                                                  \u001b[31m│\u001b[0m\n",
       "\u001b[31m│\u001b[0m \u001b[31m❱ \u001b[0m1 metrics_result = train(\u001b[94m25\u001b[0m, model, optimizer, training_loader, validating_loader,fabric)      \u001b[31m│\u001b[0m\n",
       "\u001b[31m│\u001b[0m   \u001b[2m2 \u001b[0m                                                                                             \u001b[31m│\u001b[0m\n",
       "\u001b[31m│\u001b[0m                                                                                                  \u001b[31m│\u001b[0m\n",
       "\u001b[31m│\u001b[0m in \u001b[92mtrain\u001b[0m:\u001b[94m67\u001b[0m                                                                                      \u001b[31m│\u001b[0m\n",
       "\u001b[31m│\u001b[0m                                                                                                  \u001b[31m│\u001b[0m\n",
       "\u001b[31m│\u001b[0m   \u001b[2m64 \u001b[0m\u001b[2m│   │   │   \u001b[0m\u001b[94mfor\u001b[0m batch \u001b[95min\u001b[0m val_loader:                                                        \u001b[31m│\u001b[0m\n",
       "\u001b[31m│\u001b[0m   \u001b[2m65 \u001b[0m\u001b[2m│   │   │   │   \u001b[0moutputs = model(**batch)                                                    \u001b[31m│\u001b[0m\n",
       "\u001b[31m│\u001b[0m   \u001b[2m66 \u001b[0m\u001b[2m│   │   │   │   \u001b[0mpredicted_labels = torch.argmax(outputs[\u001b[33m\"\u001b[0m\u001b[33mlogits\u001b[0m\u001b[33m\"\u001b[0m], \u001b[94m1\u001b[0m)                       \u001b[31m│\u001b[0m\n",
       "\u001b[31m│\u001b[0m \u001b[31m❱ \u001b[0m67 \u001b[2m│   │   │   │   \u001b[0mval_acc.update(predicted_labels, batch[\u001b[33m\"\u001b[0m\u001b[33mshares_class\u001b[0m\u001b[33m\"\u001b[0m]) \u001b[2m#accuracy\u001b[0m           \u001b[31m│\u001b[0m\n",
       "\u001b[31m│\u001b[0m   \u001b[2m68 \u001b[0m\u001b[2m│   │   │   │   \u001b[0mval_prec.update(predicted_labels, batch[\u001b[33m\"\u001b[0m\u001b[33mshares_class\u001b[0m\u001b[33m\"\u001b[0m]) \u001b[2m# precision\u001b[0m        \u001b[31m│\u001b[0m\n",
       "\u001b[31m│\u001b[0m   \u001b[2m69 \u001b[0m\u001b[2m│   │   │   │   \u001b[0mval_recall.update(predicted_labels, batch[\u001b[33m\"\u001b[0m\u001b[33mshares_class\u001b[0m\u001b[33m\"\u001b[0m]) \u001b[2m# recall\u001b[0m         \u001b[31m│\u001b[0m\n",
       "\u001b[31m│\u001b[0m   \u001b[2m70 \u001b[0m\u001b[2m│   │   │   │   \u001b[0mval_f1score.update(predicted_labels, batch[\u001b[33m\"\u001b[0m\u001b[33mshares_class\u001b[0m\u001b[33m\"\u001b[0m]) \u001b[2m# f1-score\u001b[0m      \u001b[31m│\u001b[0m\n",
       "\u001b[31m│\u001b[0m                                                                                                  \u001b[31m│\u001b[0m\n",
       "\u001b[31m│\u001b[0m \u001b[2;33m/home/leeparkuky/.local/lib/python3.10/site-packages/torchmetrics/\u001b[0m\u001b[1;33mmetric.py\u001b[0m:\u001b[94m390\u001b[0m in \u001b[92mwrapped_func\u001b[0m  \u001b[31m│\u001b[0m\n",
       "\u001b[31m│\u001b[0m                                                                                                  \u001b[31m│\u001b[0m\n",
       "\u001b[31m│\u001b[0m   \u001b[2m387 \u001b[0m\u001b[2m│   │   │   \u001b[0m\u001b[96mself\u001b[0m._update_count += \u001b[94m1\u001b[0m                                                        \u001b[31m│\u001b[0m\n",
       "\u001b[31m│\u001b[0m   \u001b[2m388 \u001b[0m\u001b[2m│   │   │   \u001b[0m\u001b[94mwith\u001b[0m torch.set_grad_enabled(\u001b[96mself\u001b[0m._enable_grad):                                \u001b[31m│\u001b[0m\n",
       "\u001b[31m│\u001b[0m   \u001b[2m389 \u001b[0m\u001b[2m│   │   │   │   \u001b[0m\u001b[94mtry\u001b[0m:                                                                       \u001b[31m│\u001b[0m\n",
       "\u001b[31m│\u001b[0m \u001b[31m❱ \u001b[0m390 \u001b[2m│   │   │   │   │   \u001b[0mupdate(*args, **kwargs)                                                \u001b[31m│\u001b[0m\n",
       "\u001b[31m│\u001b[0m   \u001b[2m391 \u001b[0m\u001b[2m│   │   │   │   \u001b[0m\u001b[94mexcept\u001b[0m \u001b[96mRuntimeError\u001b[0m \u001b[94mas\u001b[0m err:                                                \u001b[31m│\u001b[0m\n",
       "\u001b[31m│\u001b[0m   \u001b[2m392 \u001b[0m\u001b[2m│   │   │   │   │   \u001b[0m\u001b[94mif\u001b[0m \u001b[33m\"\u001b[0m\u001b[33mExpected all tensors to be on\u001b[0m\u001b[33m\"\u001b[0m \u001b[95min\u001b[0m \u001b[96mstr\u001b[0m(err):                        \u001b[31m│\u001b[0m\n",
       "\u001b[31m│\u001b[0m   \u001b[2m393 \u001b[0m\u001b[2m│   │   │   │   │   │   \u001b[0m\u001b[94mraise\u001b[0m \u001b[96mRuntimeError\u001b[0m(                                                \u001b[31m│\u001b[0m\n",
       "\u001b[31m│\u001b[0m                                                                                                  \u001b[31m│\u001b[0m\n",
       "\u001b[31m│\u001b[0m \u001b[2;33m/home/leeparkuky/.local/lib/python3.10/site-packages/torchmetrics/classification/\u001b[0m\u001b[1;33mstat_scores.py\u001b[0m: \u001b[31m│\u001b[0m\n",
       "\u001b[31m│\u001b[0m \u001b[94m315\u001b[0m in \u001b[92mupdate\u001b[0m                                                                                    \u001b[31m│\u001b[0m\n",
       "\u001b[31m│\u001b[0m                                                                                                  \u001b[31m│\u001b[0m\n",
       "\u001b[31m│\u001b[0m   \u001b[2m312 \u001b[0m\u001b[2m│   \u001b[0m\u001b[94mdef\u001b[0m \u001b[92mupdate\u001b[0m(\u001b[96mself\u001b[0m, preds: Tensor, target: Tensor) -> \u001b[94mNone\u001b[0m:  \u001b[2m# type: ignore\u001b[0m               \u001b[31m│\u001b[0m\n",
       "\u001b[31m│\u001b[0m   \u001b[2m313 \u001b[0m\u001b[2;90m│   │   \u001b[0m\u001b[33m\"\"\"Update state with predictions and targets.\"\"\"\u001b[0m                                   \u001b[31m│\u001b[0m\n",
       "\u001b[31m│\u001b[0m   \u001b[2m314 \u001b[0m\u001b[2m│   │   \u001b[0m\u001b[94mif\u001b[0m \u001b[96mself\u001b[0m.validate_args:                                                             \u001b[31m│\u001b[0m\n",
       "\u001b[31m│\u001b[0m \u001b[31m❱ \u001b[0m315 \u001b[2m│   │   │   \u001b[0m_multiclass_stat_scores_tensor_validation(                                     \u001b[31m│\u001b[0m\n",
       "\u001b[31m│\u001b[0m   \u001b[2m316 \u001b[0m\u001b[2m│   │   │   │   \u001b[0mpreds, target, \u001b[96mself\u001b[0m.num_classes, \u001b[96mself\u001b[0m.multidim_average, \u001b[96mself\u001b[0m.ignore_inde   \u001b[31m│\u001b[0m\n",
       "\u001b[31m│\u001b[0m   \u001b[2m317 \u001b[0m\u001b[2m│   │   │   \u001b[0m)                                                                              \u001b[31m│\u001b[0m\n",
       "\u001b[31m│\u001b[0m   \u001b[2m318 \u001b[0m\u001b[2m│   │   \u001b[0mpreds, target = _multiclass_stat_scores_format(preds, target, \u001b[96mself\u001b[0m.top_k)          \u001b[31m│\u001b[0m\n",
       "\u001b[31m│\u001b[0m                                                                                                  \u001b[31m│\u001b[0m\n",
       "\u001b[31m│\u001b[0m \u001b[2;33m/home/leeparkuky/.local/lib/python3.10/site-packages/torchmetrics/functional/classification/\u001b[0m\u001b[1;33mstat\u001b[0m \u001b[31m│\u001b[0m\n",
       "\u001b[31m│\u001b[0m \u001b[1;33m_scores.py\u001b[0m:\u001b[94m303\u001b[0m in \u001b[92m_multiclass_stat_scores_tensor_validation\u001b[0m                                      \u001b[31m│\u001b[0m\n",
       "\u001b[31m│\u001b[0m                                                                                                  \u001b[31m│\u001b[0m\n",
       "\u001b[31m│\u001b[0m   \u001b[2m 300 \u001b[0m\u001b[2m│   │   │   \u001b[0m\u001b[33m\"\u001b[0m\u001b[33m and `preds` should be (N, C, ...).\u001b[0m\u001b[33m\"\u001b[0m                                         \u001b[31m│\u001b[0m\n",
       "\u001b[31m│\u001b[0m   \u001b[2m 301 \u001b[0m\u001b[2m│   │   \u001b[0m)                                                                                 \u001b[31m│\u001b[0m\n",
       "\u001b[31m│\u001b[0m   \u001b[2m 302 \u001b[0m\u001b[2m│   \u001b[0m                                                                                      \u001b[31m│\u001b[0m\n",
       "\u001b[31m│\u001b[0m \u001b[31m❱ \u001b[0m 303 \u001b[2m│   \u001b[0mnum_unique_values = \u001b[96mlen\u001b[0m(torch.unique(target))                                         \u001b[31m│\u001b[0m\n",
       "\u001b[31m│\u001b[0m   \u001b[2m 304 \u001b[0m\u001b[2m│   \u001b[0m\u001b[94mif\u001b[0m ignore_index \u001b[95mis\u001b[0m \u001b[94mNone\u001b[0m:                                                              \u001b[31m│\u001b[0m\n",
       "\u001b[31m│\u001b[0m   \u001b[2m 305 \u001b[0m\u001b[2m│   │   \u001b[0mcheck = num_unique_values > num_classes                                           \u001b[31m│\u001b[0m\n",
       "\u001b[31m│\u001b[0m   \u001b[2m 306 \u001b[0m\u001b[2m│   \u001b[0m\u001b[94melse\u001b[0m:                                                                                 \u001b[31m│\u001b[0m\n",
       "\u001b[31m│\u001b[0m                                                                                                  \u001b[31m│\u001b[0m\n",
       "\u001b[31m│\u001b[0m \u001b[2;33m/home/leeparkuky/.local/lib/python3.10/site-packages/torch/\u001b[0m\u001b[1;33m_jit_internal.py\u001b[0m:\u001b[94m484\u001b[0m in \u001b[92mfn\u001b[0m            \u001b[31m│\u001b[0m\n",
       "\u001b[31m│\u001b[0m                                                                                                  \u001b[31m│\u001b[0m\n",
       "\u001b[31m│\u001b[0m   \u001b[2m 481 \u001b[0m\u001b[2m│   │   \u001b[0m\u001b[94mif\u001b[0m dispatch_flag:                                                                 \u001b[31m│\u001b[0m\n",
       "\u001b[31m│\u001b[0m   \u001b[2m 482 \u001b[0m\u001b[2m│   │   │   \u001b[0m\u001b[94mreturn\u001b[0m if_true(*args, **kwargs)                                               \u001b[31m│\u001b[0m\n",
       "\u001b[31m│\u001b[0m   \u001b[2m 483 \u001b[0m\u001b[2m│   │   \u001b[0m\u001b[94melse\u001b[0m:                                                                             \u001b[31m│\u001b[0m\n",
       "\u001b[31m│\u001b[0m \u001b[31m❱ \u001b[0m 484 \u001b[2m│   │   │   \u001b[0m\u001b[94mreturn\u001b[0m if_false(*args, **kwargs)                                              \u001b[31m│\u001b[0m\n",
       "\u001b[31m│\u001b[0m   \u001b[2m 485 \u001b[0m\u001b[2m│   \u001b[0m                                                                                      \u001b[31m│\u001b[0m\n",
       "\u001b[31m│\u001b[0m   \u001b[2m 486 \u001b[0m\u001b[2m│   \u001b[0m\u001b[94mif\u001b[0m if_true.\u001b[91m__doc__\u001b[0m \u001b[95mis\u001b[0m \u001b[94mNone\u001b[0m \u001b[95mand\u001b[0m if_false.\u001b[91m__doc__\u001b[0m \u001b[95mis\u001b[0m \u001b[95mnot\u001b[0m \u001b[94mNone\u001b[0m:                          \u001b[31m│\u001b[0m\n",
       "\u001b[31m│\u001b[0m   \u001b[2m 487 \u001b[0m\u001b[2m│   │   \u001b[0mdoc = if_false.\u001b[91m__doc__\u001b[0m                                                            \u001b[31m│\u001b[0m\n",
       "\u001b[31m│\u001b[0m                                                                                                  \u001b[31m│\u001b[0m\n",
       "\u001b[31m│\u001b[0m \u001b[2;33m/home/leeparkuky/.local/lib/python3.10/site-packages/torch/\u001b[0m\u001b[1;33m_jit_internal.py\u001b[0m:\u001b[94m484\u001b[0m in \u001b[92mfn\u001b[0m            \u001b[31m│\u001b[0m\n",
       "\u001b[31m│\u001b[0m                                                                                                  \u001b[31m│\u001b[0m\n",
       "\u001b[31m│\u001b[0m   \u001b[2m 481 \u001b[0m\u001b[2m│   │   \u001b[0m\u001b[94mif\u001b[0m dispatch_flag:                                                                 \u001b[31m│\u001b[0m\n",
       "\u001b[31m│\u001b[0m   \u001b[2m 482 \u001b[0m\u001b[2m│   │   │   \u001b[0m\u001b[94mreturn\u001b[0m if_true(*args, **kwargs)                                               \u001b[31m│\u001b[0m\n",
       "\u001b[31m│\u001b[0m   \u001b[2m 483 \u001b[0m\u001b[2m│   │   \u001b[0m\u001b[94melse\u001b[0m:                                                                             \u001b[31m│\u001b[0m\n",
       "\u001b[31m│\u001b[0m \u001b[31m❱ \u001b[0m 484 \u001b[2m│   │   │   \u001b[0m\u001b[94mreturn\u001b[0m if_false(*args, **kwargs)                                              \u001b[31m│\u001b[0m\n",
       "\u001b[31m│\u001b[0m   \u001b[2m 485 \u001b[0m\u001b[2m│   \u001b[0m                                                                                      \u001b[31m│\u001b[0m\n",
       "\u001b[31m│\u001b[0m   \u001b[2m 486 \u001b[0m\u001b[2m│   \u001b[0m\u001b[94mif\u001b[0m if_true.\u001b[91m__doc__\u001b[0m \u001b[95mis\u001b[0m \u001b[94mNone\u001b[0m \u001b[95mand\u001b[0m if_false.\u001b[91m__doc__\u001b[0m \u001b[95mis\u001b[0m \u001b[95mnot\u001b[0m \u001b[94mNone\u001b[0m:                          \u001b[31m│\u001b[0m\n",
       "\u001b[31m│\u001b[0m   \u001b[2m 487 \u001b[0m\u001b[2m│   │   \u001b[0mdoc = if_false.\u001b[91m__doc__\u001b[0m                                                            \u001b[31m│\u001b[0m\n",
       "\u001b[31m│\u001b[0m                                                                                                  \u001b[31m│\u001b[0m\n",
       "\u001b[31m│\u001b[0m \u001b[2;33m/home/leeparkuky/.local/lib/python3.10/site-packages/torch/\u001b[0m\u001b[1;33mfunctional.py\u001b[0m:\u001b[94m885\u001b[0m in \u001b[92m_return_output\u001b[0m   \u001b[31m│\u001b[0m\n",
       "\u001b[31m│\u001b[0m                                                                                                  \u001b[31m│\u001b[0m\n",
       "\u001b[31m│\u001b[0m   \u001b[2m 882 \u001b[0m\u001b[2m│   \u001b[0m\u001b[94mif\u001b[0m has_torch_function_unary(\u001b[96minput\u001b[0m):                                                   \u001b[31m│\u001b[0m\n",
       "\u001b[31m│\u001b[0m   \u001b[2m 883 \u001b[0m\u001b[2m│   │   \u001b[0m\u001b[94mreturn\u001b[0m _unique_impl(\u001b[96minput\u001b[0m, \u001b[96msorted\u001b[0m, return_inverse, return_counts, dim)            \u001b[31m│\u001b[0m\n",
       "\u001b[31m│\u001b[0m   \u001b[2m 884 \u001b[0m\u001b[2m│   \u001b[0m                                                                                      \u001b[31m│\u001b[0m\n",
       "\u001b[31m│\u001b[0m \u001b[31m❱ \u001b[0m 885 \u001b[2m│   \u001b[0moutput, _, _ = _unique_impl(\u001b[96minput\u001b[0m, \u001b[96msorted\u001b[0m, return_inverse, return_counts, dim)        \u001b[31m│\u001b[0m\n",
       "\u001b[31m│\u001b[0m   \u001b[2m 886 \u001b[0m\u001b[2m│   \u001b[0m\u001b[94mreturn\u001b[0m output                                                                         \u001b[31m│\u001b[0m\n",
       "\u001b[31m│\u001b[0m   \u001b[2m 887 \u001b[0m                                                                                          \u001b[31m│\u001b[0m\n",
       "\u001b[31m│\u001b[0m   \u001b[2m 888 \u001b[0m                                                                                          \u001b[31m│\u001b[0m\n",
       "\u001b[31m│\u001b[0m                                                                                                  \u001b[31m│\u001b[0m\n",
       "\u001b[31m│\u001b[0m \u001b[2;33m/home/leeparkuky/.local/lib/python3.10/site-packages/torch/\u001b[0m\u001b[1;33mfunctional.py\u001b[0m:\u001b[94m799\u001b[0m in \u001b[92m_unique_impl\u001b[0m     \u001b[31m│\u001b[0m\n",
       "\u001b[31m│\u001b[0m                                                                                                  \u001b[31m│\u001b[0m\n",
       "\u001b[31m│\u001b[0m   \u001b[2m 796 \u001b[0m\u001b[2m│   │   │   \u001b[0mreturn_counts=return_counts,                                                  \u001b[31m│\u001b[0m\n",
       "\u001b[31m│\u001b[0m   \u001b[2m 797 \u001b[0m\u001b[2m│   │   \u001b[0m)                                                                                 \u001b[31m│\u001b[0m\n",
       "\u001b[31m│\u001b[0m   \u001b[2m 798 \u001b[0m\u001b[2m│   \u001b[0m\u001b[94melse\u001b[0m:                                                                                 \u001b[31m│\u001b[0m\n",
       "\u001b[31m│\u001b[0m \u001b[31m❱ \u001b[0m 799 \u001b[2m│   │   \u001b[0moutput, inverse_indices, counts = torch._unique2(                                 \u001b[31m│\u001b[0m\n",
       "\u001b[31m│\u001b[0m   \u001b[2m 800 \u001b[0m\u001b[2m│   │   │   \u001b[0m\u001b[96minput\u001b[0m,                                                                        \u001b[31m│\u001b[0m\n",
       "\u001b[31m│\u001b[0m   \u001b[2m 801 \u001b[0m\u001b[2m│   │   │   \u001b[0m\u001b[96msorted\u001b[0m=\u001b[96msorted\u001b[0m,                                                                \u001b[31m│\u001b[0m\n",
       "\u001b[31m│\u001b[0m   \u001b[2m 802 \u001b[0m\u001b[2m│   │   │   \u001b[0mreturn_inverse=return_inverse,                                                \u001b[31m│\u001b[0m\n",
       "\u001b[31m╰──────────────────────────────────────────────────────────────────────────────────────────────────╯\u001b[0m\n",
       "\u001b[1;91mKeyboardInterrupt\u001b[0m\n"
      ]
     },
     "metadata": {},
     "output_type": "display_data"
    }
   ],
   "source": [
    "metrics_result = train(25, model, optimizer, training_loader, validating_loader,fabric)"
   ]
  },
  {
   "cell_type": "code",
   "execution_count": null,
   "id": "af8db983",
   "metadata": {},
   "outputs": [],
   "source": []
  },
  {
   "cell_type": "code",
   "execution_count": null,
   "id": "02a326a5",
   "metadata": {},
   "outputs": [],
   "source": []
  },
  {
   "cell_type": "code",
   "execution_count": null,
   "id": "c5a7faf2",
   "metadata": {},
   "outputs": [],
   "source": []
  },
  {
   "cell_type": "code",
   "execution_count": null,
   "id": "1ed92624",
   "metadata": {},
   "outputs": [],
   "source": []
  },
  {
   "cell_type": "code",
   "execution_count": null,
   "id": "88546a42",
   "metadata": {},
   "outputs": [],
   "source": []
  }
 ],
 "metadata": {
  "kernelspec": {
   "display_name": "Python 3 (ipykernel)",
   "language": "python",
   "name": "python3"
  },
  "language_info": {
   "codemirror_mode": {
    "name": "ipython",
    "version": 3
   },
   "file_extension": ".py",
   "mimetype": "text/x-python",
   "name": "python",
   "nbconvert_exporter": "python",
   "pygments_lexer": "ipython3",
   "version": "3.10.6"
  }
 },
 "nbformat": 4,
 "nbformat_minor": 5
}
