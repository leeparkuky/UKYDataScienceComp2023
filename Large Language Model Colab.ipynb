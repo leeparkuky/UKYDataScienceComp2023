{
 "cells": [
  {
   "cell_type": "code",
   "execution_count": null,
   "id": "5ee01b9d",
   "metadata": {},
   "outputs": [],
   "source": [
    "# from google.colab import drive\n",
    "# drive.mount('/content/drive')\n",
    "\n",
    "# import os \n",
    "\n",
    "# dir_path = '/content/drive/MyDrive/checkpoints'\n",
    "# if os.path.isdir(dir_path):\n",
    "#     pass\n",
    "# else:\n",
    "#     os.mkdir(dir_path)"
   ]
  },
  {
   "cell_type": "code",
   "execution_count": null,
   "id": "cc434e4a",
   "metadata": {},
   "outputs": [],
   "source": [
    "# %cp /content/drive/MyDrive/pytorch_model.bin /content/UKYDataScienceComp2023/domain_adaptation_final_body_2/pytorch_model.bin\n",
    "\n",
    "# %cp /content/drive/MyDrive/online_news_popularity_data.csv /content/UKYDataScienceComp2023/online_news_popularity_data/online_news_popularity_data.csv\n"
   ]
  },
  {
   "cell_type": "code",
   "execution_count": null,
   "id": "27d5411a",
   "metadata": {},
   "outputs": [],
   "source": [
    "# git and pip install\n",
    "\n",
    "\n",
    "\n",
    "# !pip install transformers datasets"
   ]
  },
  {
   "cell_type": "code",
   "execution_count": 1,
   "id": "c43f52f4",
   "metadata": {
    "scrolled": true
   },
   "outputs": [
    {
     "name": "stderr",
     "output_type": "stream",
     "text": [
      "Found cached dataset online_news_popularity_data (/home/leepark/.cache/huggingface/datasets/online_news_popularity_data/online_news_popularity_data/1.0.0/f3e03630a13ebe013884d6a83c7ec52cb4eec2c0f6012f710c9dba58aa719fcd)\n"
     ]
    },
    {
     "data": {
      "application/vnd.jupyter.widget-view+json": {
       "model_id": "1eaa10eacaf74db9b9e8fa900f179bcf",
       "version_major": 2,
       "version_minor": 0
      },
      "text/plain": [
       "  0%|          | 0/2 [00:00<?, ?it/s]"
      ]
     },
     "metadata": {},
     "output_type": "display_data"
    }
   ],
   "source": [
    "from datasets import load_dataset\n",
    "\n",
    "articles = load_dataset('online_news_popularity_data')"
   ]
  },
  {
   "cell_type": "code",
   "execution_count": 2,
   "id": "84d0a348",
   "metadata": {},
   "outputs": [],
   "source": [
    "from transformers import AutoTokenizer\n",
    "\n",
    "tokenizer = AutoTokenizer.from_pretrained('distilbert-base-uncased')"
   ]
  },
  {
   "cell_type": "code",
   "execution_count": 3,
   "id": "28d175cd",
   "metadata": {},
   "outputs": [],
   "source": [
    "def tokenize(batch):\n",
    "    # full_text_encoded = tokenizer([title + ' \\n' + content for title, content in zip(batch['title'],batch['content'])],\n",
    "    #                              return_tensors = 'pt', padding = 'max_length', max_length = 512, truncation = True)\n",
    "    title_encoded = tokenizer(batch['title'], padding = True,  truncation = True)\n",
    "    title_encoded_renamed = {f\"{k}_title\":v for k,v in title_encoded.items()}\n",
    "    content_encoded = tokenizer(batch['content'], padding = 'max_length', max_length = 512, truncation = True)\n",
    "    content_encoded_renamed = {f\"{k}_content\":v for k,v in content_encoded.items()}\n",
    "#     return {k:torch.Tensor(v) for k,v in full_text_encoded.items()}\n",
    "    title_encoded_renamed.update(content_encoded_renamed)\n",
    "    return title_encoded_renamed"
   ]
  },
  {
   "cell_type": "code",
   "execution_count": 4,
   "id": "0691204e",
   "metadata": {},
   "outputs": [
    {
     "name": "stderr",
     "output_type": "stream",
     "text": [
      "Loading cached processed dataset at /home/leepark/.cache/huggingface/datasets/online_news_popularity_data/online_news_popularity_data/1.0.0/f3e03630a13ebe013884d6a83c7ec52cb4eec2c0f6012f710c9dba58aa719fcd/cache-97268e3b8769f89b.arrow\n",
      "Loading cached processed dataset at /home/leepark/.cache/huggingface/datasets/online_news_popularity_data/online_news_popularity_data/1.0.0/f3e03630a13ebe013884d6a83c7ec52cb4eec2c0f6012f710c9dba58aa719fcd/cache-60f76fa598c78ae0.arrow\n"
     ]
    }
   ],
   "source": [
    "articles_encoded = articles.map(tokenize, remove_columns = ['title','content','shares'],\n",
    "            batched = True, batch_size = None)"
   ]
  },
  {
   "cell_type": "code",
   "execution_count": 1,
   "id": "492fb3d2",
   "metadata": {},
   "outputs": [],
   "source": [
    "import torch.nn as nn\n",
    "import torch.nn.functional as F\n",
    "import numpy as np\n",
    "import torch\n",
    "import os\n",
    "from dataclasses import dataclass\n",
    "from Transformer_Models import ContextDistilBert, ContextDistilBertwithData\n",
    "\n",
    "\n",
    "@dataclass\n",
    "class SequenceClassifierOutput:\n",
    "    loss: torch.FloatTensor = None\n",
    "    logits: torch.FloatTensor = None\n",
    "    preds: np.array = None\n",
    "    labels: torch.FloatTensor = None\n",
    "    hidden_states: torch.FloatTensor = None\n",
    "\n",
    "\n",
    "class ContextDistilBertwithDataforClassification(nn.Module):\n",
    "    def __init__(self, model_dir):\n",
    "        super().__init__()\n",
    "        self.body = ContextDistilBertwithData(model_dir)\n",
    "        self.pre_classifier = nn.Linear(4398, 4398)\n",
    "        self.classifier = nn.Linear(4398, 2)\n",
    "        self.dropout = nn.Dropout(.1)\n",
    "        \n",
    "    def forward(self, **kwargs):\n",
    "        labels = kwargs['shares_class']\n",
    "        distilbert_output = self.body(**kwargs)\n",
    "        pooled_output = distilbert_output\n",
    "        pooled_output = self.pre_classifier(pooled_output)\n",
    "        pooled_output = nn.GELU()(pooled_output)\n",
    "        pooled_output = self.dropout(pooled_output)\n",
    "        logits = self.classifier(pooled_output)\n",
    "        softmax = logits.detach().cpu().numpy()\n",
    "        \n",
    "        # calculate losses\n",
    "        loss = None\n",
    "        if labels is not None:\n",
    "            loss_fct = nn.BCEWithLogitsLoss()\n",
    "            loss = loss_fct(logits.view(-1,2), labels.view(-1))\n",
    "            \n",
    "        result = SequenceClassifierOutput(\n",
    "            loss=loss,\n",
    "            logits=logits,\n",
    "            hidden_states=distilbert_output,\n",
    "            preds = softmax,\n",
    "            labels = labels\n",
    "        )\n",
    "        \n",
    "\n",
    "        # return model output object\n",
    "        return result"
   ]
  },
  {
   "cell_type": "code",
   "execution_count": 2,
   "id": "66d9251f",
   "metadata": {},
   "outputs": [
    {
     "ename": "NameError",
     "evalue": "name 'articles_encoded' is not defined",
     "output_type": "error",
     "traceback": [
      "\u001b[0;31m---------------------------------------------------------------------------\u001b[0m",
      "\u001b[0;31mNameError\u001b[0m                                 Traceback (most recent call last)",
      "Input \u001b[0;32mIn [2]\u001b[0m, in \u001b[0;36m<cell line: 3>\u001b[0;34m()\u001b[0m\n\u001b[1;32m      1\u001b[0m device \u001b[38;5;241m=\u001b[39m torch\u001b[38;5;241m.\u001b[39mdevice(\u001b[38;5;124m'\u001b[39m\u001b[38;5;124mcuda\u001b[39m\u001b[38;5;124m'\u001b[39m \u001b[38;5;28;01mif\u001b[39;00m torch\u001b[38;5;241m.\u001b[39mcuda\u001b[38;5;241m.\u001b[39mis_available() \u001b[38;5;28;01melse\u001b[39;00m \u001b[38;5;124m'\u001b[39m\u001b[38;5;124mcpu\u001b[39m\u001b[38;5;124m'\u001b[39m)\n\u001b[0;32m----> 3\u001b[0m \u001b[43marticles_encoded\u001b[49m\u001b[38;5;241m.\u001b[39mset_format(\u001b[38;5;124m'\u001b[39m\u001b[38;5;124mpt\u001b[39m\u001b[38;5;124m'\u001b[39m)\n",
      "\u001b[0;31mNameError\u001b[0m: name 'articles_encoded' is not defined"
     ]
    }
   ],
   "source": [
    "device = torch.device('cuda' if torch.cuda.is_available() else 'cpu')\n",
    "\n",
    "articles_encoded.set_format('pt')"
   ]
  },
  {
   "cell_type": "code",
   "execution_count": 37,
   "id": "3c645ee3",
   "metadata": {},
   "outputs": [],
   "source": [
    "from tqdm import tqdm\n",
    "def train_loop(h_training_dataset, model, optimizer, batch_size, device, verbose = False):\n",
    "    h_training_dataset = h_training_dataset.shuffle()\n",
    "    total_rows = h_training_dataset.num_rows\n",
    "    steps = total_rows // batch_size\n",
    "    if total_rows % batch_size:\n",
    "        steps += 1\n",
    "    if verbose:\n",
    "        pbar = tqdm(range(steps))\n",
    "        for batch_idx in pbar:\n",
    "            start = batch_idx*batch_size; end = batch_idx*batch_size + batch_size\n",
    "            if end > total_rows:\n",
    "                result = model(**{k:v.to(device) for k,v in h_training_dataset[start:].items()})\n",
    "            else:\n",
    "                result = model(**{k:v.to(device) for k,v in h_training_dataset[start:end].items()})\n",
    "            optimizer.zero_grad()\n",
    "            result.loss.backward()\n",
    "            optimizer.step()\n",
    "            if batch_idx % 100 == 0:\n",
    "                loss, current = result.loss.item(), (batch_idx + 1) * steps\n",
    "                pbar.set_postfix({\"mean(loss)\":\"\"f\"{loss:>7f}  [{current:>5d}/{batch_size:>5d}]\"})\n",
    "    else:\n",
    "        for batch_idx in range(steps):\n",
    "            start = batch_idx*batch_size; end = batch_idx*batch_size + batch_size\n",
    "            if end > total_rows:\n",
    "                result = model(**{k:v.to(device) for k,v in h_training_dataset[start:].items()})\n",
    "            else:\n",
    "                result = model(**{k:v.to(device) for k,v in h_training_dataset[start:end].items()})\n",
    "            optimizer.zero_grad()\n",
    "            result.loss.backward()\n",
    "            optimizer.step()\n",
    "            if batch_idx % 25 == 0:\n",
    "                loss, current = result.loss.item(), (batch_idx + 1) * batch_size\n",
    "                print({\"mean(loss)\":\"\"f\"{loss:>7f}  [{current:>5d}/{total_rows:>5d}]\"})\n"
   ]
  },
  {
   "cell_type": "code",
   "execution_count": 38,
   "id": "6486df24",
   "metadata": {},
   "outputs": [],
   "source": [
    "from sklearn.metrics import accuracy_score, precision_score, recall_score, f1_score, roc_auc_score\n",
    "\n",
    "def compute_metrics(labels, preds):\n",
    "    f1 = f1_score(labels, preds)\n",
    "    acc = accuracy_score(labels, preds)\n",
    "    recall = recall_score(labels, preds)\n",
    "    auc = roc_auc_score(labels, preds)\n",
    "    precision = precision_score(labels, preds)\n",
    "    return {'accuracy': acc, 'precision': precision, 'recall':recall, 'f1':f1, 'auc':auc}"
   ]
  },
  {
   "cell_type": "code",
   "execution_count": 39,
   "id": "7ff87d94",
   "metadata": {},
   "outputs": [],
   "source": [
    "def test_loop(h_test_dataset, model, batch_size, device, verbose = False):\n",
    "    h_test_dataset = h_test_dataset.shuffle()\n",
    "    total_rows = h_test_dataset.num_rows\n",
    "    steps = total_rows // batch_size\n",
    "    if total_rows % batch_size:\n",
    "        steps += 1\n",
    "    from sklearn.metrics import accuracy_score\n",
    "    preds = []\n",
    "    labels = h_test_dataset.with_format('np')['shares_class']\n",
    "    loss = 0\n",
    "    with torch.no_grad():\n",
    "        if verbose:\n",
    "            pbar = tqdm(range(steps))\n",
    "            for batch_idx in pbar:\n",
    "                start = batch_idx*batch_size; end = batch_idx*batch_size + batch_size\n",
    "                if end > total_rows:\n",
    "                    result = model(**{k:v.to(device) for k,v in h_test_dataset[start:].items()})\n",
    "                else:\n",
    "                    result = model(**{k:v.to(device) for k,v in h_test_dataset[start:end].items()})\n",
    "                loss += result.loss.item()\n",
    "                preds.append(np.argmax(result.preds, -1))\n",
    "            preds = np.concatenate(preds)\n",
    "            accuracy = accuracy_score(preds.reshape(-1,1), labels.reshape(-1,1))\n",
    "            loss /= total_rows\n",
    "            print(f\"accuracy : {accuracy}\")\n",
    "            print(f\"loss : {loss}\")\n",
    "            return compute_metrics(labels, preds)\n",
    "        else:\n",
    "            for batch_idx in range(steps):\n",
    "                start = batch_idx*batch_size; end = batch_idx*batch_size + batch_size\n",
    "                if end > total_rows:\n",
    "                    result = model(**{k:v.to(device) for k,v in h_test_dataset[start:].items()})\n",
    "                else:\n",
    "                    result = model(**{k:v.to(device) for k,v in h_test_dataset[start:end].items()})\n",
    "                loss += result.loss.item()\n",
    "                preds.append(np.argmax(result.preds, -1))\n",
    "            preds = np.concatenate(preds)\n",
    "            accuracy = accuracy_score(preds.reshape(-1,1), labels.reshape(-1,1))\n",
    "            loss /= (steps + 1)\n",
    "            print(f\"evaluation result : accuracy : {accuracy}, loss : {loss}\")\n",
    "            return compute_metrics(labels, preds)\n"
   ]
  },
  {
   "cell_type": "code",
   "execution_count": null,
   "id": "aa09f635",
   "metadata": {},
   "outputs": [],
   "source": [
    "import smtplib\n",
    "from email.mime.text import MIMEText\n",
    "\n",
    "# Texting function\n",
    "\n",
    "def send_email(subject, body, sender, recipients, password):\n",
    "    msg = MIMEText(body)\n",
    "    msg['Subject'] = subject\n",
    "    msg['From'] = sender\n",
    "    msg['To'] = ', '.join(recipients)\n",
    "    smtp_server = smtplib.SMTP_SSL('smtp.gmail.com', 465)\n",
    "    smtp_server.login(sender, password)\n",
    "    smtp_server.sendmail(sender, recipients, msg.as_string())\n",
    "    smtp_server.quit()\n",
    "\n",
    "subject = \"Test\"\n",
    "body = \"This is the body of the text message\"\n",
    "sender = \"park.family.bucheon@gmail.com\"\n",
    "recipients = [\"8593335321@msg.fi.google.com\"]\n",
    "password = \"fizwmiuiwonvuulj\"\n",
    "\n",
    "send_email(subject, body, sender, recipients, password)\n"
   ]
  },
  {
   "cell_type": "code",
   "execution_count": 382,
   "id": "7fa43345",
   "metadata": {
    "collapsed": true
   },
   "outputs": [
    {
     "name": "stdout",
     "output_type": "stream",
     "text": [
      "{'mean(loss)': '66.784706  [  100/31686]'}\n",
      "{'mean(loss)': '69.858818  [ 2600/31686]'}\n",
      "{'mean(loss)': '67.101128  [ 5100/31686]'}\n",
      "{'mean(loss)': '66.627663  [ 7600/31686]'}\n",
      "{'mean(loss)': '67.919441  [10100/31686]'}\n",
      "{'mean(loss)': '65.001122  [12600/31686]'}\n",
      "{'mean(loss)': '68.053848  [15100/31686]'}\n",
      "{'mean(loss)': '65.664352  [17600/31686]'}\n",
      "{'mean(loss)': '69.843575  [20100/31686]'}\n",
      "{'mean(loss)': '70.365585  [22600/31686]'}\n",
      "{'mean(loss)': '68.642189  [25100/31686]'}\n",
      "{'mean(loss)': '68.711418  [27600/31686]'}\n",
      "{'mean(loss)': '67.622452  [30100/31686]'}\n",
      "evaluation result : accuracy : 0.5684170663973744, loss : 0.6787905020113095\n",
      "{'mean(loss)': '68.190559  [  100/31686]'}\n",
      "{'mean(loss)': '67.504478  [ 2600/31686]'}\n",
      "{'mean(loss)': '69.684685  [ 5100/31686]'}\n",
      "{'mean(loss)': '66.440605  [ 7600/31686]'}\n",
      "{'mean(loss)': '64.930801  [10100/31686]'}\n",
      "{'mean(loss)': '67.543205  [12600/31686]'}\n",
      "{'mean(loss)': '66.385651  [15100/31686]'}\n",
      "{'mean(loss)': '68.732430  [17600/31686]'}\n",
      "{'mean(loss)': '67.060730  [20100/31686]'}\n",
      "{'mean(loss)': '68.357872  [22600/31686]'}\n",
      "{'mean(loss)': '65.999321  [25100/31686]'}\n",
      "{'mean(loss)': '70.803070  [27600/31686]'}\n",
      "{'mean(loss)': '67.568703  [30100/31686]'}\n",
      "evaluation result : accuracy : 0.5737187578894218, loss : 0.6786162105060473\n",
      "{'mean(loss)': '69.233665  [  100/31686]'}\n",
      "{'mean(loss)': '67.705978  [ 2600/31686]'}\n",
      "{'mean(loss)': '68.367676  [ 5100/31686]'}\n",
      "{'mean(loss)': '69.739990  [ 7600/31686]'}\n",
      "{'mean(loss)': '68.263725  [10100/31686]'}\n",
      "{'mean(loss)': '68.385323  [12600/31686]'}\n",
      "{'mean(loss)': '69.936958  [15100/31686]'}\n",
      "{'mean(loss)': '68.883629  [17600/31686]'}\n",
      "{'mean(loss)': '67.694542  [20100/31686]'}\n",
      "{'mean(loss)': '69.443802  [22600/31686]'}\n",
      "{'mean(loss)': '70.682373  [25100/31686]'}\n",
      "{'mean(loss)': '66.370621  [27600/31686]'}\n",
      "{'mean(loss)': '66.441971  [30100/31686]'}\n",
      "evaluation result : accuracy : 0.5716990658924515, loss : 0.6781426102065944\n",
      "{'mean(loss)': '67.599442  [  100/31686]'}\n",
      "{'mean(loss)': '64.337769  [ 2600/31686]'}\n",
      "{'mean(loss)': '69.573402  [ 5100/31686]'}\n",
      "{'mean(loss)': '67.627403  [ 7600/31686]'}\n",
      "{'mean(loss)': '67.222633  [10100/31686]'}\n",
      "{'mean(loss)': '65.918739  [12600/31686]'}\n",
      "{'mean(loss)': '66.349464  [15100/31686]'}\n",
      "{'mean(loss)': '69.964302  [17600/31686]'}\n",
      "{'mean(loss)': '67.643326  [20100/31686]'}\n",
      "{'mean(loss)': '70.346397  [22600/31686]'}\n",
      "{'mean(loss)': '69.494217  [25100/31686]'}\n",
      "{'mean(loss)': '66.717628  [27600/31686]'}\n",
      "{'mean(loss)': '68.861198  [30100/31686]'}\n",
      "evaluation result : accuracy : 0.5724564503913153, loss : 0.6783092780957105\n",
      "{'mean(loss)': '66.952431  [  100/31686]'}\n",
      "{'mean(loss)': '71.955025  [ 2600/31686]'}\n",
      "{'mean(loss)': '67.184937  [ 5100/31686]'}\n",
      "{'mean(loss)': '68.653931  [ 7600/31686]'}\n",
      "{'mean(loss)': '69.701454  [10100/31686]'}\n",
      "{'mean(loss)': '66.986618  [12600/31686]'}\n",
      "{'mean(loss)': '68.651550  [15100/31686]'}\n",
      "{'mean(loss)': '66.459923  [17600/31686]'}\n",
      "{'mean(loss)': '66.447388  [20100/31686]'}\n",
      "{'mean(loss)': '66.313972  [22600/31686]'}\n",
      "{'mean(loss)': '66.285477  [25100/31686]'}\n",
      "{'mean(loss)': '70.479836  [27600/31686]'}\n",
      "{'mean(loss)': '70.436348  [30100/31686]'}\n",
      "evaluation result : accuracy : 0.5727089118909366, loss : 0.6790848645078086\n"
     ]
    }
   ],
   "source": [
    "model_ckpt = 'domain_adaptation_final_body_2'\n",
    "\n",
    "model = ContextDistilBertwithDataforClassification(model_ckpt).to(device)\n",
    "\n",
    "\n",
    "optimizer = torch.optim.AdamW(model.parameters(), lr = 3e-4)\n",
    "\n",
    "scheduler_1 = torch.optim.lr_scheduler.ConstantLR(optimizer, factor=1, total_iters=1)\n",
    "scheduler_2 = torch.optim.lr_scheduler.ConstantLR(optimizer, factor=round(1/3, 3), total_iters = 1)\n",
    "scheduler_3 = torch.optim.lr_scheduler.ConstantLR(optimizer, factor=round(5/30, 3), total_iters = 1)\n",
    "scheduler_4 = torch.optim.lr_scheduler.ConstantLR(optimizer, factor=.1, total_iters = 1)\n",
    "lr_scheduler = torch.optim.lr_scheduler.SequentialLR(optimizer, schedulers = [scheduler_1, scheduler_2,\n",
    "                                                  scheduler_3, scheduler_4],\n",
    "                                                 milestones=[1,2,3])\n",
    "\n",
    "\n",
    "for i in range(4):\n",
    "    train_loop(articles_encoded['train'], model, optimizer, 16, device)\n",
    "    metrics = test_loop(articles_encoded['validation'].shuffle().select(range(640)), model, 16, device)\n",
    "    lr_scheduler.step()\n",
    "    subdir_path = os.path.join(dir_path, f'checkpoint_epoch_{i}')\n",
    "    os.mkdir(subdir_path)\n",
    "    file_name = 'model.pth'\n",
    "    torch.save(model.state_dict(), os.path.join(subdir_path, file_name))\n",
    "    with open(os.path.join(subdir_path, 'metrics.txt'), 'w') as f:\n",
    "        f.write(f\"summary of ecpoh {i}\\n\")\n",
    "        for k,v in metrics.items():\n",
    "            f.write(f\"{k} : {v}\\n\")\n",
    "            f.write('end')\n",
    "        f.close()"
   ]
  },
  {
   "cell_type": "code",
   "execution_count": null,
   "id": "b0b353ae",
   "metadata": {},
   "outputs": [],
   "source": []
  }
 ],
 "metadata": {
  "kernel_info": {
   "name": "python38-azureml-pt-tf"
  },
  "kernelspec": {
   "display_name": "Python 3 (ipykernel)",
   "language": "python",
   "name": "python3"
  },
  "language_info": {
   "codemirror_mode": {
    "name": "ipython",
    "version": 3
   },
   "file_extension": ".py",
   "mimetype": "text/x-python",
   "name": "python",
   "nbconvert_exporter": "python",
   "pygments_lexer": "ipython3",
   "version": "3.10.6"
  },
  "microsoft": {
   "host": {
    "AzureML": {
     "notebookHasBeenCompleted": true
    }
   },
   "ms_spell_check": {
    "ms_spell_check_language": "en"
   }
  },
  "nteract": {
   "version": "nteract-front-end@1.0.0"
  }
 },
 "nbformat": 4,
 "nbformat_minor": 5
}
