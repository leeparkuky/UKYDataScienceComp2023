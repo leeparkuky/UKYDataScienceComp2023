{
 "cells": [
  {
   "cell_type": "code",
   "execution_count": 1,
   "id": "e6357146",
   "metadata": {},
   "outputs": [
    {
     "name": "stderr",
     "output_type": "stream",
     "text": [
      "Found cached dataset online_news_popularity_data (/home/leepark/.cache/huggingface/datasets/online_news_popularity_data/online_news_popularity_data/1.0.0/f3e03630a13ebe013884d6a83c7ec52cb4eec2c0f6012f710c9dba58aa719fcd)\n"
     ]
    },
    {
     "data": {
      "application/vnd.jupyter.widget-view+json": {
       "model_id": "d1a289bdca8b4543a289ab92ea666650",
       "version_major": 2,
       "version_minor": 0
      },
      "text/plain": [
       "  0%|          | 0/2 [00:00<?, ?it/s]"
      ]
     },
     "metadata": {},
     "output_type": "display_data"
    }
   ],
   "source": [
    "from datasets import load_dataset\n",
    "from transformers import AutoTokenizer\n",
    "from tqdm import tqdm\n",
    "\n",
    "articles = load_dataset('online_news_popularity_data')\n",
    "\n",
    "\n",
    "tokenizer = AutoTokenizer.from_pretrained('distilbert-base-uncased')"
   ]
  },
  {
   "cell_type": "code",
   "execution_count": 2,
   "id": "ca7d8657",
   "metadata": {},
   "outputs": [],
   "source": [
    "def tokenize(batch):\n",
    "    # full_text_encoded = tokenizer([title + ' \\n' + content for title, content in zip(batch['title'],batch['content'])],\n",
    "    #                              return_tensors = 'pt', padding = 'max_length', max_length = 512, truncation = True)\n",
    "    title_encoded = tokenizer(batch['title'], padding = True,  truncation = True)\n",
    "    title_encoded_renamed = {f\"{k}_title\":v for k,v in title_encoded.items()}\n",
    "    content_encoded = tokenizer(batch['content'], padding = 'max_length', max_length = 512, truncation = True)\n",
    "    content_encoded_renamed = {f\"{k}_content\":v for k,v in content_encoded.items()}\n",
    "#     return {k:torch.Tensor(v) for k,v in full_text_encoded.items()}\n",
    "    title_encoded_renamed.update(content_encoded_renamed)\n",
    "    return title_encoded_renamed"
   ]
  },
  {
   "cell_type": "code",
   "execution_count": 3,
   "id": "9592813a",
   "metadata": {},
   "outputs": [
    {
     "name": "stderr",
     "output_type": "stream",
     "text": [
      "Loading cached processed dataset at /home/leepark/.cache/huggingface/datasets/online_news_popularity_data/online_news_popularity_data/1.0.0/f3e03630a13ebe013884d6a83c7ec52cb4eec2c0f6012f710c9dba58aa719fcd/cache-97268e3b8769f89b.arrow\n"
     ]
    },
    {
     "data": {
      "application/vnd.jupyter.widget-view+json": {
       "model_id": "",
       "version_major": 2,
       "version_minor": 0
      },
      "text/plain": [
       "Map:   0%|          | 0/7922 [00:00<?, ? examples/s]"
      ]
     },
     "metadata": {},
     "output_type": "display_data"
    }
   ],
   "source": [
    "articles_encoded = articles.map(tokenize, remove_columns = ['title','content','shares'],\n",
    "            batched = True, batch_size = None)"
   ]
  },
  {
   "cell_type": "code",
   "execution_count": 4,
   "id": "7b070012",
   "metadata": {},
   "outputs": [],
   "source": [
    "import torch.nn as nn\n",
    "import torch.nn.functional as F\n",
    "from transformers.modeling_outputs import SequenceClassifierOutput\n",
    "from Transformer_Models import ContextDistilBert, ContextDistilBertwithData\n",
    "import torch\n"
   ]
  },
  {
   "cell_type": "code",
   "execution_count": 5,
   "id": "bf70c3af",
   "metadata": {},
   "outputs": [],
   "source": [
    "articles_original = articles.remove_columns(['title','content','shares'])"
   ]
  },
  {
   "cell_type": "code",
   "execution_count": 25,
   "id": "58d89c59",
   "metadata": {},
   "outputs": [],
   "source": [
    "from dataclasses import dataclass\n",
    "from typing import Optional\n",
    "import numpy as np\n",
    "import torch\n",
    "import torch.nn as nn\n",
    "import torch.nn.functional as F\n",
    "\n",
    "\n",
    "@dataclass\n",
    "class NN_Classifier_Output:\n",
    "    loss: torch.FloatTensor = None\n",
    "    logits: torch.FloatTensor = None\n",
    "    preds: np.array = None\n",
    "    labels: torch.FloatTensor = None\n",
    "\n",
    "class simple_NN(nn.Module):\n",
    "    def __init__(self):\n",
    "        super().__init__()\n",
    "        self.linear_1 = nn.Linear(2809, 2809*2); self.linear_1.weight = nn.init.normal_(self.linear_1.weight)\n",
    "        self.linear_2 = nn.Linear(2809*2, 2809); self.linear_2.weight = nn.init.normal_(self.linear_2.weight)\n",
    "        self.linear_3 = nn.Linear(2809, 2);      self.linear_3.weight = nn.init.normal_(self.linear_3.weight)\n",
    "        self.dropout = nn.Dropout(.15)\n",
    "        self.relu   = nn.GELU()\n",
    "\n",
    "    \n",
    "    def forward(self, **kwargs):\n",
    "        input_tensor = torch.cat([v.reshape(-1, 1) for k,v in kwargs.items() if 'shares' not in k], dim = -1)\n",
    "        input_tensor = torch.vstack([torch.flatten(torch.kron(v, v)) for v in input_tensor])\n",
    "        labels = kwargs['shares_class'].long()\n",
    "        output = self.linear_1(F.normalize(input_tensor))\n",
    "        output = self.relu(output)\n",
    "        output = self.dropout(output)\n",
    "        output = self.linear_2(output)\n",
    "        logits = self.linear_3(self.dropout(self.relu(output)))\n",
    "        \n",
    "        \n",
    "        softmax = F.softmax(logits, dim = -1).detach().numpy()\n",
    "        \n",
    "#         calculate losses\n",
    "        loss = None\n",
    "        if labels is not None:\n",
    "            loss_fct = nn.CrossEntropyLoss(label_smoothing = .1)\n",
    "            loss = loss_fct(logits, labels)\n",
    "\n",
    "        result = NN_Classifier_Output(\n",
    "            loss=loss,\n",
    "            logits=logits,\n",
    "            preds = softmax,\n",
    "            labels = labels\n",
    "        )\n",
    "        \n",
    "        # return model output object\n",
    "        return result"
   ]
  },
  {
   "cell_type": "code",
   "execution_count": 26,
   "id": "24e21608",
   "metadata": {},
   "outputs": [],
   "source": [
    "from sklearn.metrics import accuracy_score, precision_score, recall_score, f1_score, roc_auc_score\n",
    "\n",
    "def compute_metrics(labels, preds):\n",
    "    f1 = f1_score(labels, preds)\n",
    "    acc = accuracy_score(labels, preds)\n",
    "    recall = recall_score(labels, preds)\n",
    "    auc = roc_auc_score(labels, preds)\n",
    "    precision = precision_score(labels, preds)\n",
    "    return {'accuracy': acc, 'precision': precision, 'recall':recall, 'f1':f1, 'auc':auc}"
   ]
  },
  {
   "cell_type": "code",
   "execution_count": 27,
   "id": "f39b8f6d",
   "metadata": {},
   "outputs": [],
   "source": [
    "def train_loop(h_training_dataset, model, optimizer, batch_size, verbose = False):\n",
    "    h_training_dataset = h_training_dataset.with_format('pt').shuffle()\n",
    "    total_rows = h_training_dataset.num_rows\n",
    "    steps = total_rows // batch_size\n",
    "    if verbose:\n",
    "        pbar = tqdm(range(steps +1))\n",
    "        for batch_idx in pbar:\n",
    "            start = batch_idx*batch_size; end = batch_idx*batch_size + batch_size\n",
    "            if end > total_rows:\n",
    "                result = model(**{k:v for k,v in h_training_dataset[start:].items()})\n",
    "            else:\n",
    "                result = model(**{k:v for k,v in h_training_dataset[start:end].items()})\n",
    "            optimizer.zero_grad()\n",
    "            result.loss.backward()\n",
    "            optimizer.step()\n",
    "            if batch_idx % 100 == 0:\n",
    "                loss, current = result.loss.item(), (batch_idx + 1) * steps\n",
    "                pbar.set_postfix({\"mean(loss)\":\"\"f\"{loss:>7f}  [{current:>5d}/{batch_size:>5d}]\"})\n",
    "    else:\n",
    "        for batch_idx in range(steps +1):\n",
    "            start = batch_idx*batch_size; end = batch_idx*batch_size + batch_size\n",
    "            if end > total_rows:\n",
    "                result = model(**{k:v for k,v in h_training_dataset[start:].items()})\n",
    "            else:\n",
    "                result = model(**{k:v for k,v in h_training_dataset[start:end].items()})\n",
    "            optimizer.zero_grad()\n",
    "            result.loss.backward()\n",
    "            optimizer.step()\n",
    "            if batch_idx % 100 == 0:\n",
    "                loss, current = result.loss.item(), (batch_idx + 1) * batch_size\n",
    "                print({\"mean(loss)\":\"\"f\"{loss:>7f}  [{current:>5d}/{total_rows:>5d}]\"})\n"
   ]
  },
  {
   "cell_type": "code",
   "execution_count": 28,
   "id": "f5f3b6d9",
   "metadata": {},
   "outputs": [],
   "source": [
    "def test_loop(h_test_dataset, model, batch_size, verbose = False):\n",
    "    h_test_dataset = h_test_dataset.with_format('pt').shuffle()\n",
    "    total_rows = h_test_dataset.num_rows\n",
    "    steps = total_rows // batch_size\n",
    "    from sklearn.metrics import accuracy_score\n",
    "    preds = []\n",
    "    labels = h_test_dataset.with_format('np')['shares_class']\n",
    "    loss = 0\n",
    "    with torch.no_grad():\n",
    "        if verbose:\n",
    "            pbar = tqdm(range(steps +1))\n",
    "            for batch_idx in pbar:\n",
    "                start = batch_idx*batch_size; end = batch_idx*batch_size + batch_size\n",
    "                if end > total_rows:\n",
    "                    result = model(**{k:v for k,v in h_test_dataset[start:].items()})\n",
    "                else:\n",
    "                    result = model(**{k:v for k,v in h_test_dataset[start:end].items()})\n",
    "                loss += result.loss.item()\n",
    "                preds.append(np.argmax(result.preds, -1))\n",
    "            preds = np.concatenate(preds)\n",
    "            accuracy = accuracy_score(preds.reshape(-1,1), labels.reshape(-1,1))\n",
    "            loss /= total_rows\n",
    "            metrics = compute_metrics(labels, preds)\n",
    "            print(f\"loss : {loss}, metrics: {metrics}\")\n",
    "            return metrics\n",
    "        else:\n",
    "            for batch_idx in range(steps +1):\n",
    "                start = batch_idx*batch_size; end = batch_idx*batch_size + batch_size\n",
    "                if end > total_rows:\n",
    "                    result = model(**{k:v for k,v in h_test_dataset[start:].items()})\n",
    "                else:\n",
    "                    result = model(**{k:v for k,v in h_test_dataset[start:end].items()})\n",
    "                loss += result.loss.item()\n",
    "                preds.append(np.argmax(result.preds, -1))\n",
    "            preds = np.concatenate(preds)\n",
    "            accuracy = accuracy_score(preds.reshape(-1,1), labels.reshape(-1,1))\n",
    "            loss /= total_rows\n",
    "            metrics = compute_metrics(labels, preds)\n",
    "            print(f\"loss : {loss}, metrics: {metrics}\")\n",
    "            return metrics\n"
   ]
  },
  {
   "cell_type": "code",
   "execution_count": null,
   "id": "15f19b85",
   "metadata": {},
   "outputs": [
    {
     "name": "stdout",
     "output_type": "stream",
     "text": [
      "{'mean(loss)': '1142.896484  [  100/31686]'}\n",
      "{'mean(loss)': '0.700288  [10100/31686]'}\n",
      "{'mean(loss)': '0.693363  [20100/31686]'}\n",
      "{'mean(loss)': '0.694805  [30100/31686]'}\n",
      "loss : 0.00141434062613709, metrics: {'accuracy': 0.493436001009846, 'precision': 0.4931766489764973, 'recall': 0.9994878361075544, 'f1': 0.6604619680175987, 'auc': 0.5004907440433216}\n",
      "{'mean(loss)': '0.699744  [  100/31686]'}\n",
      "{'mean(loss)': '0.729113  [10100/31686]'}\n",
      "{'mean(loss)': '13.712405  [20100/31686]'}\n",
      "{'mean(loss)': '0.694754  [30100/31686]'}\n"
     ]
    },
    {
     "name": "stderr",
     "output_type": "stream",
     "text": [
      "/home/leepark/.local/lib/python3.10/site-packages/sklearn/metrics/_classification.py:1334: UndefinedMetricWarning: Precision is ill-defined and being set to 0.0 due to no predicted samples. Use `zero_division` parameter to control this behavior.\n",
      "  _warn_prf(average, modifier, msg_start, len(result))\n"
     ]
    },
    {
     "name": "stdout",
     "output_type": "stream",
     "text": [
      "loss : 1.7655081995747601, metrics: {'accuracy': 0.5070689219893966, 'precision': 0.0, 'recall': 0.0, 'f1': 0.0, 'auc': 0.5}\n",
      "{'mean(loss)': '925.087341  [  100/31686]'}\n",
      "{'mean(loss)': '0.704156  [10100/31686]'}\n",
      "{'mean(loss)': '44718.429688  [20100/31686]'}\n",
      "{'mean(loss)': '0.696389  [30100/31686]'}\n",
      "loss : 0.0014005806508674613, metrics: {'accuracy': 0.5074476142388286, 'precision': 1.0, 'recall': 0.0007682458386683739, 'f1': 0.0015353121801432957, 'auc': 0.5003841229193342}\n",
      "{'mean(loss)': '0.694826  [  100/31686]'}\n",
      "{'mean(loss)': '0.694073  [10100/31686]'}\n",
      "{'mean(loss)': '0.693048  [20100/31686]'}\n",
      "{'mean(loss)': '1.203115  [30100/31686]'}\n",
      "loss : 0.0014116143719832784, metrics: {'accuracy': 0.4929310780106034, 'precision': 0.4929310780106034, 'recall': 1.0, 'f1': 0.6603534285955864, 'auc': 0.5}\n",
      "{'mean(loss)': '0.714902  [  100/31686]'}\n",
      "{'mean(loss)': '0.692634  [10100/31686]'}\n",
      "{'mean(loss)': '0.692545  [20100/31686]'}\n",
      "{'mean(loss)': '0.685506  [30100/31686]'}\n",
      "loss : 0.0014111322379720178, metrics: {'accuracy': 0.49356223175965663, 'precision': 0.4932063492063492, 'recall': 0.9946222791293213, 'f1': 0.6594227504244482, 'auc': 0.5005473855193533}\n",
      "{'mean(loss)': '0.698711  [  100/31686]'}\n",
      "{'mean(loss)': '0.700395  [10100/31686]'}\n",
      "{'mean(loss)': '0.689396  [20100/31686]'}\n",
      "{'mean(loss)': '0.695067  [30100/31686]'}\n"
     ]
    },
    {
     "name": "stderr",
     "output_type": "stream",
     "text": [
      "/home/leepark/.local/lib/python3.10/site-packages/sklearn/metrics/_classification.py:1334: UndefinedMetricWarning: Precision is ill-defined and being set to 0.0 due to no predicted samples. Use `zero_division` parameter to control this behavior.\n",
      "  _warn_prf(average, modifier, msg_start, len(result))\n"
     ]
    },
    {
     "name": "stdout",
     "output_type": "stream",
     "text": [
      "loss : 0.0014070258902588507, metrics: {'accuracy': 0.5070689219893966, 'precision': 0.0, 'recall': 0.0, 'f1': 0.0, 'auc': 0.5}\n",
      "{'mean(loss)': '0.689244  [  100/31686]'}\n",
      "{'mean(loss)': '0.689116  [10100/31686]'}\n",
      "{'mean(loss)': '22280.070312  [20100/31686]'}\n",
      "{'mean(loss)': '0.695439  [30100/31686]'}\n",
      "loss : 0.0022994311988669735, metrics: {'accuracy': 0.506942691239586, 'precision': 0.0, 'recall': 0.0, 'f1': 0.0, 'auc': 0.4998755290017426}\n",
      "{'mean(loss)': '0.691729  [  100/31686]'}\n",
      "{'mean(loss)': '0.704612  [10100/31686]'}\n",
      "{'mean(loss)': '0.695528  [20100/31686]'}\n",
      "{'mean(loss)': '0.720691  [30100/31686]'}\n"
     ]
    },
    {
     "name": "stderr",
     "output_type": "stream",
     "text": [
      "/home/leepark/.local/lib/python3.10/site-packages/sklearn/metrics/_classification.py:1334: UndefinedMetricWarning: Precision is ill-defined and being set to 0.0 due to no predicted samples. Use `zero_division` parameter to control this behavior.\n",
      "  _warn_prf(average, modifier, msg_start, len(result))\n"
     ]
    },
    {
     "name": "stdout",
     "output_type": "stream",
     "text": [
      "loss : 0.001400689176163629, metrics: {'accuracy': 0.5070689219893966, 'precision': 0.0, 'recall': 0.0, 'f1': 0.0, 'auc': 0.5}\n",
      "{'mean(loss)': '0.690225  [  100/31686]'}\n",
      "{'mean(loss)': '0.697556  [10100/31686]'}\n",
      "{'mean(loss)': '0.700776  [20100/31686]'}\n",
      "{'mean(loss)': '0.685719  [30100/31686]'}\n"
     ]
    },
    {
     "name": "stderr",
     "output_type": "stream",
     "text": [
      "/home/leepark/.local/lib/python3.10/site-packages/sklearn/metrics/_classification.py:1334: UndefinedMetricWarning: Precision is ill-defined and being set to 0.0 due to no predicted samples. Use `zero_division` parameter to control this behavior.\n",
      "  _warn_prf(average, modifier, msg_start, len(result))\n"
     ]
    },
    {
     "name": "stdout",
     "output_type": "stream",
     "text": [
      "loss : 0.001455016876224074, metrics: {'accuracy': 0.5070689219893966, 'precision': 0.0, 'recall': 0.0, 'f1': 0.0, 'auc': 0.5}\n",
      "{'mean(loss)': '0.740849  [  100/31686]'}\n"
     ]
    }
   ],
   "source": [
    "nn_model = simple_NN()\n",
    "optimizer = torch.optim.AdamW(nn_model.parameters(), lr = 5e-1)\n",
    "lr_scheduler = torch.optim.lr_scheduler.LinearLR(optimizer, 1, 1e-5, total_iters = 18)\n",
    "\n",
    "for _ in range(25):\n",
    "    train_loop(articles_original['train'], nn_model, optimizer, 100)\n",
    "    test_loop(articles_original['validation'], nn_model, 500)\n",
    "    lr_scheduler.step()"
   ]
  },
  {
   "cell_type": "code",
   "execution_count": null,
   "id": "452044d4",
   "metadata": {},
   "outputs": [],
   "source": []
  }
 ],
 "metadata": {
  "kernelspec": {
   "display_name": "Python 3 (ipykernel)",
   "language": "python",
   "name": "python3"
  },
  "language_info": {
   "codemirror_mode": {
    "name": "ipython",
    "version": 3
   },
   "file_extension": ".py",
   "mimetype": "text/x-python",
   "name": "python",
   "nbconvert_exporter": "python",
   "pygments_lexer": "ipython3",
   "version": "3.10.6"
  }
 },
 "nbformat": 4,
 "nbformat_minor": 5
}
