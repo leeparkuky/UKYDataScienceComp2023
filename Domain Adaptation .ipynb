{
  "cells": [
    {
      "cell_type": "code",
      "source": [
        "from datasets import load_dataset\n",
        "\n",
        "articles = load_dataset('online_news_popularity_data')"
      ],
      "outputs": [
        {
          "output_type": "stream",
          "name": "stderr",
          "text": "Reusing dataset online_news_popularity_data (/home/azureuser/.cache/huggingface/datasets/online_news_popularity_data/online_news_popularity_data/1.0.0/f3e03630a13ebe013884d6a83c7ec52cb4eec2c0f6012f710c9dba58aa719fcd)\n"
        },
        {
          "output_type": "display_data",
          "data": {
            "text/plain": "  0%|          | 0/2 [00:00<?, ?it/s]",
            "application/vnd.jupyter.widget-view+json": {
              "version_major": 2,
              "version_minor": 0,
              "model_id": "53c8b43006014328b4157c456d027d43"
            }
          },
          "metadata": {}
        }
      ],
      "execution_count": 1,
      "metadata": {
        "gather": {
          "logged": 1679947611093
        }
      },
      "id": "afb01463"
    },
    {
      "cell_type": "code",
      "source": [
        "articles.num_rows"
      ],
      "outputs": [
        {
          "output_type": "execute_result",
          "execution_count": 7,
          "data": {
            "text/plain": "{'train': 31686, 'validation': 7922}"
          },
          "metadata": {}
        }
      ],
      "execution_count": 7,
      "metadata": {
        "jupyter": {
          "source_hidden": false,
          "outputs_hidden": false
        },
        "nteract": {
          "transient": {
            "deleting": false
          }
        },
        "gather": {
          "logged": 1679947659033
        }
      },
      "id": "ce324731-b583-40ff-99a3-d55ca3a03001"
    },
    {
      "cell_type": "code",
      "source": [
        "from random import shuffle\n",
        "\n",
        "def duplicate_shuffle_concatenate_texts(batch):\n",
        "    title = list(batch['title'])\n",
        "    content = list(batch['content'])\n",
        "    full_text = [t + ' \\n\\n' + c for t,c in zip(title, content)]\n",
        "    texts = ''\n",
        "    for _ in range(3):\n",
        "        shuffle(full_text)\n",
        "        texts += ' \\n\\n\\n'.join(full_text)\n",
        "        texts += ' \\n\\n\\n'\n",
        "    texts = texts[:-3] \n",
        "    result = {'text': []}\n",
        "    for i in range(len(texts)//800):\n",
        "        result['text'].append(texts[i*800: (i+1)*800])\n",
        "    return result"
      ],
      "outputs": [],
      "execution_count": 2,
      "metadata": {
        "gather": {
          "logged": 1679947617457
        }
      },
      "id": "e2be8d2b"
    },
    {
      "cell_type": "code",
      "source": [
        "article_texts = articles.shuffle().map(duplicate_shuffle_concatenate_texts, batched = True,\n",
        "            batch_size = 64, remove_columns=articles[\"train\"].column_names)"
      ],
      "outputs": [
        {
          "output_type": "stream",
          "name": "stderr",
          "text": "Parameter 'function'=<function duplicate_shuffle_concatenate_texts at 0x7fae4c048670> of the transform datasets.arrow_dataset.Dataset._map_single couldn't be hashed properly, a random hash was used instead. Make sure your transforms and parameters are serializable with pickle or dill for the dataset fingerprinting and caching to work. If you reuse this transform, the caching mechanism will consider it to be different from the previous calls and recompute everything. This warning is only showed once. Subsequent hashing failures won't be showed.\n"
        },
        {
          "output_type": "display_data",
          "data": {
            "text/plain": "  0%|          | 0/496 [00:00<?, ?ba/s]",
            "application/vnd.jupyter.widget-view+json": {
              "version_major": 2,
              "version_minor": 0,
              "model_id": "04d85861c338478fba1f9b917732c4b6"
            }
          },
          "metadata": {}
        },
        {
          "output_type": "display_data",
          "data": {
            "text/plain": "  0%|          | 0/124 [00:00<?, ?ba/s]",
            "application/vnd.jupyter.widget-view+json": {
              "version_major": 2,
              "version_minor": 0,
              "model_id": "695ca19a05734789884220faaf8438e7"
            }
          },
          "metadata": {}
        }
      ],
      "execution_count": 3,
      "metadata": {
        "scrolled": true,
        "gather": {
          "logged": 1679947641763
        }
      },
      "id": "57fbbfbf"
    },
    {
      "cell_type": "code",
      "source": [
        "article_texts.num_rows"
      ],
      "outputs": [
        {
          "output_type": "execute_result",
          "execution_count": 8,
          "data": {
            "text/plain": "{'train': 300997, 'validation': 75460}"
          },
          "metadata": {}
        }
      ],
      "execution_count": 8,
      "metadata": {
        "jupyter": {
          "source_hidden": false,
          "outputs_hidden": false
        },
        "nteract": {
          "transient": {
            "deleting": false
          }
        },
        "gather": {
          "logged": 1679947667354
        }
      },
      "id": "909d48ee-591e-49d1-b0be-321e43fe1cb5"
    },
    {
      "cell_type": "code",
      "source": [
        "from transformers import AutoTokenizer\n",
        "\n",
        "model_ckpt = \"distilbert-base-uncased\"\n",
        "tokenizer = AutoTokenizer.from_pretrained(model_ckpt)"
      ],
      "outputs": [],
      "execution_count": 9,
      "metadata": {
        "gather": {
          "logged": 1679947673605
        }
      },
      "id": "98562f18"
    },
    {
      "cell_type": "code",
      "source": [
        "def preprocess_function(batch):\n",
        "    return tokenizer(batch['text'], padding = False, truncation = True)"
      ],
      "outputs": [],
      "execution_count": 10,
      "metadata": {
        "gather": {
          "logged": 1679947677070
        }
      },
      "id": "cc5e7760"
    },
    {
      "cell_type": "code",
      "source": [
        "tokenized_article_texts = article_texts.shuffle().map(\n",
        "    preprocess_function,\n",
        "    batched=True,\n",
        "    num_proc=12,\n",
        "    batch_size = 128,\n",
        "    remove_columns= ['text'],\n",
        ")"
      ],
      "outputs": [
        {
          "output_type": "stream",
          "name": "stdout",
          "text": "             "
        },
        {
          "output_type": "display_data",
          "data": {
            "text/plain": "#0:   0%|          | 0/196 [00:00<?, ?ba/s]",
            "application/vnd.jupyter.widget-view+json": {
              "version_major": 2,
              "version_minor": 0,
              "model_id": "004ab547d99b40e2b13229625281d1e8"
            }
          },
          "metadata": {}
        },
        {
          "output_type": "stream",
          "name": "stdout",
          "text": " "
        },
        {
          "output_type": "display_data",
          "data": {
            "text/plain": "#1:   0%|          | 0/196 [00:00<?, ?ba/s]",
            "application/vnd.jupyter.widget-view+json": {
              "version_major": 2,
              "version_minor": 0,
              "model_id": "f33b9dddbb37467ba8379eb62f40fb1d"
            }
          },
          "metadata": {}
        },
        {
          "output_type": "stream",
          "name": "stdout",
          "text": "  "
        },
        {
          "output_type": "display_data",
          "data": {
            "text/plain": "#2:   0%|          | 0/196 [00:00<?, ?ba/s]",
            "application/vnd.jupyter.widget-view+json": {
              "version_major": 2,
              "version_minor": 0,
              "model_id": "d7575b1c587c40da81f6cde212ffda98"
            }
          },
          "metadata": {}
        },
        {
          "output_type": "display_data",
          "data": {
            "text/plain": "#3:   0%|          | 0/196 [00:00<?, ?ba/s]",
            "application/vnd.jupyter.widget-view+json": {
              "version_major": 2,
              "version_minor": 0,
              "model_id": "5910dee0d61a4fbdb3cd4a9714d8c28c"
            }
          },
          "metadata": {}
        },
        {
          "output_type": "stream",
          "name": "stdout",
          "text": " "
        },
        {
          "output_type": "display_data",
          "data": {
            "text/plain": "#4:   0%|          | 0/196 [00:00<?, ?ba/s]",
            "application/vnd.jupyter.widget-view+json": {
              "version_major": 2,
              "version_minor": 0,
              "model_id": "85ee82003e864345ab23fcb340961565"
            }
          },
          "metadata": {}
        },
        {
          "output_type": "stream",
          "name": "stdout",
          "text": " "
        },
        {
          "output_type": "display_data",
          "data": {
            "text/plain": "#5:   0%|          | 0/196 [00:00<?, ?ba/s]",
            "application/vnd.jupyter.widget-view+json": {
              "version_major": 2,
              "version_minor": 0,
              "model_id": "f00eb721dfab4dd7bb26fc4772fba086"
            }
          },
          "metadata": {}
        },
        {
          "output_type": "stream",
          "name": "stdout",
          "text": "  "
        },
        {
          "output_type": "display_data",
          "data": {
            "text/plain": "#6:   0%|          | 0/196 [00:00<?, ?ba/s]",
            "application/vnd.jupyter.widget-view+json": {
              "version_major": 2,
              "version_minor": 0,
              "model_id": "647614dcc65e4ab6803aef049d52ff31"
            }
          },
          "metadata": {}
        },
        {
          "output_type": "display_data",
          "data": {
            "text/plain": "#7:   0%|          | 0/196 [00:00<?, ?ba/s]",
            "application/vnd.jupyter.widget-view+json": {
              "version_major": 2,
              "version_minor": 0,
              "model_id": "dada06fe1221487f9dd47166ccb09ad9"
            }
          },
          "metadata": {}
        },
        {
          "output_type": "stream",
          "name": "stdout",
          "text": "  "
        },
        {
          "output_type": "display_data",
          "data": {
            "text/plain": "#8:   0%|          | 0/196 [00:00<?, ?ba/s]",
            "application/vnd.jupyter.widget-view+json": {
              "version_major": 2,
              "version_minor": 0,
              "model_id": "a17bfd48df0e49a0b731e580ee40edd8"
            }
          },
          "metadata": {}
        },
        {
          "output_type": "stream",
          "name": "stdout",
          "text": " "
        },
        {
          "output_type": "display_data",
          "data": {
            "text/plain": "#9:   0%|          | 0/196 [00:00<?, ?ba/s]",
            "application/vnd.jupyter.widget-view+json": {
              "version_major": 2,
              "version_minor": 0,
              "model_id": "d220a290e3af4609b204022292fb6235"
            }
          },
          "metadata": {}
        },
        {
          "output_type": "stream",
          "name": "stdout",
          "text": " "
        },
        {
          "output_type": "display_data",
          "data": {
            "text/plain": "#10:   0%|          | 0/196 [00:00<?, ?ba/s]",
            "application/vnd.jupyter.widget-view+json": {
              "version_major": 2,
              "version_minor": 0,
              "model_id": "0e88c6aca2db4b00a0f26919eb9dd903"
            }
          },
          "metadata": {}
        },
        {
          "output_type": "display_data",
          "data": {
            "text/plain": "#11:   0%|          | 0/196 [00:00<?, ?ba/s]",
            "application/vnd.jupyter.widget-view+json": {
              "version_major": 2,
              "version_minor": 0,
              "model_id": "8ad78a2c10c140a3907338da59c96c71"
            }
          },
          "metadata": {}
        },
        {
          "output_type": "stream",
          "name": "stdout",
          "text": "             "
        },
        {
          "output_type": "display_data",
          "data": {
            "text/plain": "#0:   0%|          | 0/50 [00:00<?, ?ba/s]",
            "application/vnd.jupyter.widget-view+json": {
              "version_major": 2,
              "version_minor": 0,
              "model_id": "ec79e140699a4ce190e4a7a626b405a7"
            }
          },
          "metadata": {}
        },
        {
          "output_type": "stream",
          "name": "stdout",
          "text": " "
        },
        {
          "output_type": "display_data",
          "data": {
            "text/plain": "#1:   0%|          | 0/50 [00:00<?, ?ba/s]",
            "application/vnd.jupyter.widget-view+json": {
              "version_major": 2,
              "version_minor": 0,
              "model_id": "b72967de984d4286bc0059f8f3a87d74"
            }
          },
          "metadata": {}
        },
        {
          "output_type": "stream",
          "name": "stdout",
          "text": "  "
        },
        {
          "output_type": "display_data",
          "data": {
            "text/plain": "#2:   0%|          | 0/50 [00:00<?, ?ba/s]",
            "application/vnd.jupyter.widget-view+json": {
              "version_major": 2,
              "version_minor": 0,
              "model_id": "66a6d8caacce4fdb9bbfc8fa38b44e19"
            }
          },
          "metadata": {}
        },
        {
          "output_type": "display_data",
          "data": {
            "text/plain": "#3:   0%|          | 0/50 [00:00<?, ?ba/s]",
            "application/vnd.jupyter.widget-view+json": {
              "version_major": 2,
              "version_minor": 0,
              "model_id": "92a8e43a7d6548e3a7ed1ebc38c81141"
            }
          },
          "metadata": {}
        },
        {
          "output_type": "stream",
          "name": "stdout",
          "text": "  "
        },
        {
          "output_type": "display_data",
          "data": {
            "text/plain": "#4:   0%|          | 0/50 [00:00<?, ?ba/s]",
            "application/vnd.jupyter.widget-view+json": {
              "version_major": 2,
              "version_minor": 0,
              "model_id": "d07c751f3411444cba04e57586aec351"
            }
          },
          "metadata": {}
        },
        {
          "output_type": "stream",
          "name": "stdout",
          "text": "   "
        },
        {
          "output_type": "display_data",
          "data": {
            "text/plain": "#5:   0%|          | 0/50 [00:00<?, ?ba/s]",
            "application/vnd.jupyter.widget-view+json": {
              "version_major": 2,
              "version_minor": 0,
              "model_id": "39578bfdbdaf40218783a3ad95b7c27f"
            }
          },
          "metadata": {}
        },
        {
          "output_type": "stream",
          "name": "stdout",
          "text": "  "
        },
        {
          "output_type": "display_data",
          "data": {
            "text/plain": "#7:   0%|          | 0/50 [00:00<?, ?ba/s]",
            "application/vnd.jupyter.widget-view+json": {
              "version_major": 2,
              "version_minor": 0,
              "model_id": "ada63daecfc74dd2b8d0e55b40f79aaa"
            }
          },
          "metadata": {}
        },
        {
          "output_type": "display_data",
          "data": {
            "text/plain": "#8:   0%|          | 0/50 [00:00<?, ?ba/s]",
            "application/vnd.jupyter.widget-view+json": {
              "version_major": 2,
              "version_minor": 0,
              "model_id": "d5199c916cc74c7fb150f37fa8f7b642"
            }
          },
          "metadata": {}
        },
        {
          "output_type": "display_data",
          "data": {
            "text/plain": "#6:   0%|          | 0/50 [00:00<?, ?ba/s]",
            "application/vnd.jupyter.widget-view+json": {
              "version_major": 2,
              "version_minor": 0,
              "model_id": "ed156ad10bdc4d248a4246f4c6ef182e"
            }
          },
          "metadata": {}
        },
        {
          "output_type": "stream",
          "name": "stdout",
          "text": " "
        },
        {
          "output_type": "display_data",
          "data": {
            "text/plain": "#9:   0%|          | 0/50 [00:00<?, ?ba/s]",
            "application/vnd.jupyter.widget-view+json": {
              "version_major": 2,
              "version_minor": 0,
              "model_id": "94c8f7350cb94d92a955e66910e8f0cd"
            }
          },
          "metadata": {}
        },
        {
          "output_type": "display_data",
          "data": {
            "text/plain": "#10:   0%|          | 0/50 [00:00<?, ?ba/s]",
            "application/vnd.jupyter.widget-view+json": {
              "version_major": 2,
              "version_minor": 0,
              "model_id": "f875fa59e3714476a4d85faf113d84a4"
            }
          },
          "metadata": {}
        },
        {
          "output_type": "display_data",
          "data": {
            "text/plain": "#11:   0%|          | 0/50 [00:00<?, ?ba/s]",
            "application/vnd.jupyter.widget-view+json": {
              "version_major": 2,
              "version_minor": 0,
              "model_id": "6a6ad9713f2f4c169a9dfb751bd40564"
            }
          },
          "metadata": {}
        }
      ],
      "execution_count": 11,
      "metadata": {
        "gather": {
          "logged": 1679947758826
        }
      },
      "id": "635c332d"
    },
    {
      "cell_type": "code",
      "source": [
        "tokenized_article_texts"
      ],
      "outputs": [
        {
          "output_type": "execute_result",
          "execution_count": 12,
          "data": {
            "text/plain": "DatasetDict({\n    train: Dataset({\n        features: ['input_ids', 'attention_mask'],\n        num_rows: 300997\n    })\n    validation: Dataset({\n        features: ['input_ids', 'attention_mask'],\n        num_rows: 75460\n    })\n})"
          },
          "metadata": {}
        }
      ],
      "execution_count": 12,
      "metadata": {
        "gather": {
          "logged": 1679947772680
        }
      },
      "id": "e6da3853"
    },
    {
      "cell_type": "code",
      "source": [
        "from transformers import DataCollatorForLanguageModeling\n",
        "\n",
        "data_collator = DataCollatorForLanguageModeling(tokenizer=tokenizer, mlm_probability=0.15)"
      ],
      "outputs": [],
      "execution_count": 13,
      "metadata": {
        "gather": {
          "logged": 1679947823002
        }
      },
      "id": "ab62ca8b"
    },
    {
      "cell_type": "code",
      "source": [
        "from transformers import AutoModelForMaskedLM, DistilBertForMaskedLM\n",
        "\n",
        "model_ckpt = 'domain_adaptation_final'\n",
        "model = DistilBertForMaskedLM.from_pretrained('domain_adaptation_final')"
      ],
      "outputs": [],
      "execution_count": 21,
      "metadata": {
        "gather": {
          "logged": 1679948284696
        }
      },
      "id": "19b67b68"
    },
    {
      "cell_type": "code",
      "source": [
        "import torch\n",
        "\n",
        "device = torch.device(\"cuda\" if torch.cuda.is_available() else \"cpu\")\n",
        "device"
      ],
      "outputs": [
        {
          "output_type": "execute_result",
          "execution_count": 15,
          "data": {
            "text/plain": "device(type='cuda')"
          },
          "metadata": {}
        }
      ],
      "execution_count": 15,
      "metadata": {
        "gather": {
          "logged": 1679947838780
        }
      },
      "id": "8b8cebfe"
    },
    {
      "cell_type": "code",
      "source": [
        "from transformers import TrainingArguments, Trainer\n",
        "\n",
        "batch_size = 8\n",
        "\n",
        "training_args = TrainingArguments(\n",
        "                output_dir=\"additional_domain_adaptation\",\n",
        "                evaluation_strategy=\"epoch\",\n",
        "                learning_rate=1e-4, #recommended\n",
        "                per_device_train_batch_size = batch_size,\n",
        "                per_device_eval_batch_size = batch_size,\n",
        "                num_train_epochs=4,\n",
        "                weight_decay=0.01,\n",
        "                push_to_hub=False,\n",
        "                disable_tqdm = False,\n",
        "                fp16 = True,\n",
        "                resume_from_checkpoint = False)\n",
        "\n",
        "trainer = Trainer(\n",
        "    model=model.to(device),\n",
        "    args=training_args,\n",
        "    train_dataset=tokenized_article_texts[\"train\"],\n",
        "    eval_dataset=tokenized_article_texts[\"validation\"].shuffle().select(range(800)),\n",
        "    data_collator=data_collator,\n",
        ")\n",
        "\n",
        "trainer.train()"
      ],
      "outputs": [
        {
          "output_type": "stream",
          "name": "stderr",
          "text": "Using amp half precision backend\n/anaconda/envs/azureml_py38/lib/python3.8/site-packages/transformers/optimization.py:306: FutureWarning: This implementation of AdamW is deprecated and will be removed in a future version. Use thePyTorch implementation torch.optim.AdamW instead, or set `no_deprecation_warning=True` to disable this warning\n  warnings.warn(\n***** Running training *****\n  Num examples = 300997\n  Num Epochs = 4\n  Instantaneous batch size per device = 8\n  Total train batch size (w. parallel, distributed & accumulation) = 8\n  Gradient Accumulation steps = 1\n  Total optimization steps = 150500\n"
        },
        {
          "output_type": "display_data",
          "data": {
            "text/plain": "<IPython.core.display.HTML object>",
            "text/html": "\n    <div>\n      \n      <progress value='1067' max='150500' style='width:300px; height:20px; vertical-align: middle;'></progress>\n      [  1067/150500 06:34 < 15:21:24, 2.70 it/s, Epoch 0.03/4]\n    </div>\n    <table border=\"1\" class=\"dataframe\">\n  <thead>\n <tr style=\"text-align: left;\">\n      <th>Epoch</th>\n      <th>Training Loss</th>\n      <th>Validation Loss</th>\n    </tr>\n  </thead>\n  <tbody>\n  </tbody>\n</table><p>"
          },
          "metadata": {}
        },
        {
          "output_type": "stream",
          "name": "stdout",
          "text": "Attempted to log scalar metric loss:\n2.2147\nAttempted to log scalar metric learning_rate:\n9.966777408637874e-05\nAttempted to log scalar metric epoch:\n0.01\nAttempted to log scalar metric loss:\n2.31\nAttempted to log scalar metric learning_rate:\n9.933554817275748e-05\nAttempted to log scalar metric epoch:\n0.03\n"
        }
      ],
      "execution_count": 22,
      "metadata": {},
      "id": "03948664"
    },
    {
      "cell_type": "code",
      "source": [
        "trainer.save_model('domain_adaptation_final_2')"
      ],
      "outputs": [],
      "execution_count": null,
      "metadata": {
        "jupyter": {
          "source_hidden": false,
          "outputs_hidden": false
        },
        "nteract": {
          "transient": {
            "deleting": false
          }
        }
      },
      "id": "d61b46b7-f094-44f6-8b38-8be4a0e028ee"
    },
    {
      "cell_type": "code",
      "source": [],
      "outputs": [],
      "execution_count": null,
      "metadata": {
        "jupyter": {
          "source_hidden": false,
          "outputs_hidden": false
        },
        "nteract": {
          "transient": {
            "deleting": false
          }
        }
      },
      "id": "e3641bc8-9e55-4586-a08d-503c8687245e"
    }
  ],
  "metadata": {
    "kernelspec": {
      "name": "python38-azureml",
      "language": "python",
      "display_name": "Python 3.8 - AzureML"
    },
    "language_info": {
      "name": "python",
      "version": "3.8.10",
      "mimetype": "text/x-python",
      "codemirror_mode": {
        "name": "ipython",
        "version": 3
      },
      "pygments_lexer": "ipython3",
      "nbconvert_exporter": "python",
      "file_extension": ".py"
    },
    "microsoft": {
      "ms_spell_check": {
        "ms_spell_check_language": "en"
      },
      "host": {
        "AzureML": {
          "notebookHasBeenCompleted": true
        }
      }
    },
    "kernel_info": {
      "name": "python38-azureml"
    },
    "nteract": {
      "version": "nteract-front-end@1.0.0"
    }
  },
  "nbformat": 4,
  "nbformat_minor": 5
}