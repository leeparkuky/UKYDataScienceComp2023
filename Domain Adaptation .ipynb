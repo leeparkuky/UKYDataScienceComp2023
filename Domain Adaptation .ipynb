{
 "cells": [
  {
   "cell_type": "code",
   "execution_count": null,
   "id": "dc53629e",
   "metadata": {},
   "outputs": [],
   "source": [
    "from huggingface_hub import notebook_login\n",
    "\n",
    "notebook_login()"
   ]
  },
  {
   "cell_type": "code",
   "execution_count": null,
   "id": "afb01463",
   "metadata": {},
   "outputs": [],
   "source": [
    "from datasets import load_dataset\n",
    "\n",
    "articles = load_dataset('online_news_popularity_data')"
   ]
  },
  {
   "cell_type": "code",
   "execution_count": null,
   "id": "e2be8d2b",
   "metadata": {},
   "outputs": [],
   "source": [
    "from random import shuffle\n",
    "\n",
    "def duplicate_shuffle_concatenate_texts(batch):\n",
    "    title = list(batch['title'])\n",
    "    content = list(batch['content'])\n",
    "    full_text = [t + ' \\n\\n' + c for t,c in zip(title, content)]\n",
    "    texts = ''\n",
    "    for _ in range(3):\n",
    "        shuffle(full_text)\n",
    "        texts += ' \\n\\n\\n'.join(full_text)\n",
    "        texts += ' \\n\\n\\n'\n",
    "    texts = texts[:-3] \n",
    "    result = {'text': []}\n",
    "    for i in range(len(texts)//800):\n",
    "        result['text'].append(texts[i*800: (i+1)*800])\n",
    "    return result"
   ]
  },
  {
   "cell_type": "code",
   "execution_count": null,
   "id": "57fbbfbf",
   "metadata": {
    "scrolled": true
   },
   "outputs": [],
   "source": [
    "article_texts = articles.shuffle().map(duplicate_shuffle_concatenate_texts, batched = True,\n",
    "            batch_size = 64, remove_columns=articles[\"train\"].column_names)"
   ]
  },
  {
   "cell_type": "code",
   "execution_count": null,
   "id": "98562f18",
   "metadata": {},
   "outputs": [],
   "source": [
    "from transformers import AutoTokenizer\n",
    "\n",
    "model_ckpt = \"distilbert-base-uncased\"\n",
    "tokenizer = AutoTokenizer.from_pretrained(model_ckpt)"
   ]
  },
  {
   "cell_type": "code",
   "execution_count": null,
   "id": "cc5e7760",
   "metadata": {},
   "outputs": [],
   "source": [
    "def preprocess_function(batch):\n",
    "    return tokenizer(batch['text'], padding = False, truncation = True)"
   ]
  },
  {
   "cell_type": "code",
   "execution_count": null,
   "id": "635c332d",
   "metadata": {},
   "outputs": [],
   "source": [
    "tokenized_article_texts = article_texts.shuffle().map(\n",
    "    preprocess_function,\n",
    "    batched=True,\n",
    "    num_proc=10,\n",
    "    batch_size = 64,\n",
    "    remove_columns= ['text'],\n",
    ")"
   ]
  },
  {
   "cell_type": "code",
   "execution_count": null,
   "id": "e6da3853",
   "metadata": {},
   "outputs": [],
   "source": [
    "tokenized_article_texts"
   ]
  },
  {
   "cell_type": "code",
   "execution_count": null,
   "id": "ab62ca8b",
   "metadata": {},
   "outputs": [],
   "source": [
    "from transformers import DataCollatorForLanguageModeling\n",
    "\n",
    "data_collator = DataCollatorForLanguageModeling(tokenizer=tokenizer, mlm_probability=0.15)"
   ]
  },
  {
   "cell_type": "code",
   "execution_count": null,
   "id": "19b67b68",
   "metadata": {},
   "outputs": [],
   "source": [
    "from transformers import AutoModelForMaskedLM\n",
    "\n",
    "model = AutoModelForMaskedLM.from_pretrained(model_ckpt)"
   ]
  },
  {
   "cell_type": "code",
   "execution_count": null,
   "id": "8b8cebfe",
   "metadata": {},
   "outputs": [],
   "source": [
    "import torch\n",
    "\n",
    "device = torch.device(\"cuda\" if torch.cuda.is_available() else \"cpu\")\n"
   ]
  },
  {
   "cell_type": "code",
   "execution_count": null,
   "id": "03948664",
   "metadata": {},
   "outputs": [],
   "source": [
    "from transformers import TrainingArguments, Trainer\n",
    "\n",
    "training_args = TrainingArguments(\n",
    "                output_dir=\"to_delete\",\n",
    "                evaluation_strategy=\"epoch\",\n",
    "                learning_rate=2e-5,\n",
    "                per_device_train_batch_size = batch_size,\n",
    "                per_device_eval_batch_size = batch_size,\n",
    "                num_train_epochs=3,\n",
    "                weight_decay=0.01,\n",
    "                push_to_hub=False,\n",
    "                disable_tqdm = False,\n",
    "                save_strategy = 'epoch',\n",
    "                fp16 = True,\n",
    "                resume_from_checkpoint = False)\n",
    "\n",
    "trainer = Trainer(\n",
    "    model=model.to(device),\n",
    "    args=training_args,\n",
    "    train_dataset=tokenized_article_texts[\"train\"],\n",
    "    eval_dataset=tokenized_article_texts[\"validation\"],\n",
    "    data_collator=data_collator,\n",
    ")\n",
    "\n",
    "trainer.train()"
   ]
  },
  {
   "cell_type": "code",
   "execution_count": 1,
   "id": "a4e1c033",
   "metadata": {},
   "outputs": [],
   "source": [
    "from transformers import DistilBertModel"
   ]
  },
  {
   "cell_type": "code",
   "execution_count": 2,
   "id": "0d8001d1",
   "metadata": {},
   "outputs": [
    {
     "name": "stderr",
     "output_type": "stream",
     "text": [
      "Some weights of the model checkpoint at domain_adaptation_final were not used when initializing DistilBertModel: ['vocab_layer_norm.weight', 'vocab_transform.weight', 'vocab_transform.bias', 'vocab_projector.weight', 'vocab_projector.bias', 'vocab_layer_norm.bias']\n",
      "- This IS expected if you are initializing DistilBertModel from the checkpoint of a model trained on another task or with another architecture (e.g. initializing a BertForSequenceClassification model from a BertForPreTraining model).\n",
      "- This IS NOT expected if you are initializing DistilBertModel from the checkpoint of a model that you expect to be exactly identical (initializing a BertForSequenceClassification model from a BertForSequenceClassification model).\n"
     ]
    }
   ],
   "source": [
    "model = DistilBertModel.from_pretrained('domain_adaptation_final')"
   ]
  },
  {
   "cell_type": "code",
   "execution_count": null,
   "id": "fbac29c3",
   "metadata": {},
   "outputs": [],
   "source": []
  }
 ],
 "metadata": {
  "kernelspec": {
   "display_name": "Python 3 (ipykernel)",
   "language": "python",
   "name": "python3"
  },
  "language_info": {
   "codemirror_mode": {
    "name": "ipython",
    "version": 3
   },
   "file_extension": ".py",
   "mimetype": "text/x-python",
   "name": "python",
   "nbconvert_exporter": "python",
   "pygments_lexer": "ipython3",
   "version": "3.10.6"
  }
 },
 "nbformat": 4,
 "nbformat_minor": 5
}
